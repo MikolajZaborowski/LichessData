{
 "cells": [
  {
   "cell_type": "markdown",
   "id": "4f81fb86",
   "metadata": {},
   "source": [
    "# Here i want to change data from Chess_data_basic to other format explained later"
   ]
  },
  {
   "cell_type": "markdown",
   "id": "07f1a403",
   "metadata": {},
   "source": [
    "So here i want to get data in format similar to that: \n",
    "\n",
    "columns = ( date, amount of mathes played in that date,ammont of matches played day earllier , amount of matches plyed for previous mounth, ranikng points fluctuation (day vs day before), ranking after last match that day, mean oponent vs my ranking diff that day ) and maybe some other columns that i will consider as important for ranking changes prediction. \n",
    "\n",
    "And all of those for different times control (blitz, rapid, bullet)"
   ]
  },
  {
   "cell_type": "markdown",
   "id": "d0bad19c",
   "metadata": {},
   "source": [
    "# To Be Continued"
   ]
  },
  {
   "cell_type": "code",
   "execution_count": 2,
   "id": "abaa86f7",
   "metadata": {},
   "outputs": [],
   "source": [
    "import pandas as pd\n",
    "import numpy as np"
   ]
  },
  {
   "cell_type": "code",
   "execution_count": 8,
   "id": "54bdbec6",
   "metadata": {},
   "outputs": [],
   "source": [
    "df = pd.read_csv(\"Chess_data_basic.csv\", index_col = \"Unnamed: 0\")"
   ]
  },
  {
   "cell_type": "code",
   "execution_count": 11,
   "id": "913ac1ad",
   "metadata": {},
   "outputs": [
    {
     "data": {
      "text/html": [
       "<div>\n",
       "<style scoped>\n",
       "    .dataframe tbody tr th:only-of-type {\n",
       "        vertical-align: middle;\n",
       "    }\n",
       "\n",
       "    .dataframe tbody tr th {\n",
       "        vertical-align: top;\n",
       "    }\n",
       "\n",
       "    .dataframe thead th {\n",
       "        text-align: right;\n",
       "    }\n",
       "</style>\n",
       "<table border=\"1\" class=\"dataframe\">\n",
       "  <thead>\n",
       "    <tr style=\"text-align: right;\">\n",
       "      <th></th>\n",
       "      <th>id</th>\n",
       "      <th>rated</th>\n",
       "      <th>variant</th>\n",
       "      <th>speed</th>\n",
       "      <th>createdAt</th>\n",
       "      <th>lastMoveAt</th>\n",
       "      <th>status</th>\n",
       "      <th>winner</th>\n",
       "      <th>moves</th>\n",
       "      <th>clock</th>\n",
       "      <th>white_player_name</th>\n",
       "      <th>white_ranking</th>\n",
       "      <th>black_player_name</th>\n",
       "      <th>black_ranking</th>\n",
       "    </tr>\n",
       "  </thead>\n",
       "  <tbody>\n",
       "    <tr>\n",
       "      <th>5657</th>\n",
       "      <td>dYnYtNFc</td>\n",
       "      <td>True</td>\n",
       "      <td>standard</td>\n",
       "      <td>blitz</td>\n",
       "      <td>2019-11-09 20:53:37.672000+01:00</td>\n",
       "      <td>2019-11-09 20:59:37.804000+01:00</td>\n",
       "      <td>outoftime</td>\n",
       "      <td>white</td>\n",
       "      <td>28</td>\n",
       "      <td>180</td>\n",
       "      <td>EvilSaintPL</td>\n",
       "      <td>1206</td>\n",
       "      <td>zfred12</td>\n",
       "      <td>1311</td>\n",
       "    </tr>\n",
       "    <tr>\n",
       "      <th>5658</th>\n",
       "      <td>HLTrX7cv</td>\n",
       "      <td>True</td>\n",
       "      <td>standard</td>\n",
       "      <td>blitz</td>\n",
       "      <td>2019-11-09 20:51:04.051000+01:00</td>\n",
       "      <td>2019-11-09 20:53:25.908000+01:00</td>\n",
       "      <td>mate</td>\n",
       "      <td>white</td>\n",
       "      <td>16</td>\n",
       "      <td>180</td>\n",
       "      <td>zfred12</td>\n",
       "      <td>1305</td>\n",
       "      <td>EvilSaintPL</td>\n",
       "      <td>1272</td>\n",
       "    </tr>\n",
       "    <tr>\n",
       "      <th>5659</th>\n",
       "      <td>enP16ebg</td>\n",
       "      <td>True</td>\n",
       "      <td>standard</td>\n",
       "      <td>blitz</td>\n",
       "      <td>2019-11-09 20:46:10.220000+01:00</td>\n",
       "      <td>2019-11-09 20:49:53.831000+01:00</td>\n",
       "      <td>mate</td>\n",
       "      <td>black</td>\n",
       "      <td>23</td>\n",
       "      <td>180</td>\n",
       "      <td>Mokrakifla</td>\n",
       "      <td>1061</td>\n",
       "      <td>EvilSaintPL</td>\n",
       "      <td>1216</td>\n",
       "    </tr>\n",
       "    <tr>\n",
       "      <th>5660</th>\n",
       "      <td>8cRwRfdY</td>\n",
       "      <td>True</td>\n",
       "      <td>standard</td>\n",
       "      <td>blitz</td>\n",
       "      <td>2019-11-09 20:45:24.715000+01:00</td>\n",
       "      <td>2019-11-09 20:46:02.537000+01:00</td>\n",
       "      <td>resign</td>\n",
       "      <td>white</td>\n",
       "      <td>6</td>\n",
       "      <td>180</td>\n",
       "      <td>NecroCosmos98</td>\n",
       "      <td>1347</td>\n",
       "      <td>EvilSaintPL</td>\n",
       "      <td>1326</td>\n",
       "    </tr>\n",
       "    <tr>\n",
       "      <th>5661</th>\n",
       "      <td>3D9bHutq</td>\n",
       "      <td>True</td>\n",
       "      <td>standard</td>\n",
       "      <td>blitz</td>\n",
       "      <td>2019-11-09 20:42:13.341000+01:00</td>\n",
       "      <td>2019-11-09 20:45:09.538000+01:00</td>\n",
       "      <td>mate</td>\n",
       "      <td>black</td>\n",
       "      <td>20</td>\n",
       "      <td>180</td>\n",
       "      <td>EvilSaintPL</td>\n",
       "      <td>1500</td>\n",
       "      <td>Waddle8</td>\n",
       "      <td>1503</td>\n",
       "    </tr>\n",
       "  </tbody>\n",
       "</table>\n",
       "</div>"
      ],
      "text/plain": [
       "            id  rated   variant  speed                         createdAt  \\\n",
       "5657  dYnYtNFc   True  standard  blitz  2019-11-09 20:53:37.672000+01:00   \n",
       "5658  HLTrX7cv   True  standard  blitz  2019-11-09 20:51:04.051000+01:00   \n",
       "5659  enP16ebg   True  standard  blitz  2019-11-09 20:46:10.220000+01:00   \n",
       "5660  8cRwRfdY   True  standard  blitz  2019-11-09 20:45:24.715000+01:00   \n",
       "5661  3D9bHutq   True  standard  blitz  2019-11-09 20:42:13.341000+01:00   \n",
       "\n",
       "                            lastMoveAt     status winner  moves  clock  \\\n",
       "5657  2019-11-09 20:59:37.804000+01:00  outoftime  white     28    180   \n",
       "5658  2019-11-09 20:53:25.908000+01:00       mate  white     16    180   \n",
       "5659  2019-11-09 20:49:53.831000+01:00       mate  black     23    180   \n",
       "5660  2019-11-09 20:46:02.537000+01:00     resign  white      6    180   \n",
       "5661  2019-11-09 20:45:09.538000+01:00       mate  black     20    180   \n",
       "\n",
       "     white_player_name  white_ranking black_player_name  black_ranking  \n",
       "5657       EvilSaintPL           1206           zfred12           1311  \n",
       "5658           zfred12           1305       EvilSaintPL           1272  \n",
       "5659        Mokrakifla           1061       EvilSaintPL           1216  \n",
       "5660     NecroCosmos98           1347       EvilSaintPL           1326  \n",
       "5661       EvilSaintPL           1500           Waddle8           1503  "
      ]
     },
     "execution_count": 11,
     "metadata": {},
     "output_type": "execute_result"
    }
   ],
   "source": [
    "df.tail(5)"
   ]
  },
  {
   "cell_type": "code",
   "execution_count": null,
   "id": "375dd759",
   "metadata": {},
   "outputs": [],
   "source": []
  },
  {
   "cell_type": "code",
   "execution_count": null,
   "id": "2dc0d0ca",
   "metadata": {},
   "outputs": [],
   "source": []
  },
  {
   "cell_type": "code",
   "execution_count": null,
   "id": "3c498705",
   "metadata": {},
   "outputs": [],
   "source": []
  }
 ],
 "metadata": {
  "kernelspec": {
   "display_name": "Python 3 (ipykernel)",
   "language": "python",
   "name": "python3"
  },
  "language_info": {
   "codemirror_mode": {
    "name": "ipython",
    "version": 3
   },
   "file_extension": ".py",
   "mimetype": "text/x-python",
   "name": "python",
   "nbconvert_exporter": "python",
   "pygments_lexer": "ipython3",
   "version": "3.10.4"
  }
 },
 "nbformat": 4,
 "nbformat_minor": 5
}
