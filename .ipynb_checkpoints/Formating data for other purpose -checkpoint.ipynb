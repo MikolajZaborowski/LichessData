{
 "cells": [
  {
   "cell_type": "markdown",
   "id": "74111175",
   "metadata": {},
   "source": [
    "# Here i want to extract from lichess data features important for future modeling"
   ]
  },
  {
   "cell_type": "markdown",
   "id": "efac69c5",
   "metadata": {},
   "source": [
    "So here i want to get data in format similar to that: \n",
    "\n",
    "columns = ( date, amount of mathes played in that date,ammont of matches played day earllier , amount of matches plyed for previous mounth, ranikng points fluctuation (day vs day before), ranking after last match that day, mean oponent vs my ranking diff that day ) and maybe some other columns that i will consider as important for ranking changes prediction. --> df2\n",
    "\n",
    "And all of those for different times control (blitz, rapid, bullet)"
   ]
  },
  {
   "cell_type": "markdown",
   "id": "d6c78a26",
   "metadata": {},
   "source": [
    "and other data for winner prediction models, similar columns as without any chnages but some new cols like: time used in game, time for move and maybe some other --> df1"
   ]
  },
  {
   "cell_type": "markdown",
   "id": "f8beec61",
   "metadata": {},
   "source": [
    "# To Be Continued"
   ]
  },
  {
   "cell_type": "code",
   "execution_count": 2,
   "id": "31e086c4",
   "metadata": {},
   "outputs": [],
   "source": [
    "import pandas as pd\n",
    "import numpy as np\n",
    "import arrow\n",
    "pd.set_option('display.max_columns', None)"
   ]
  },
  {
   "cell_type": "code",
   "execution_count": 3,
   "id": "c6358258",
   "metadata": {},
   "outputs": [],
   "source": [
    "df = pd.read_csv(\"Chess_data_basic.csv\", index_col = \"Unnamed: 0\")"
   ]
  },
  {
   "cell_type": "code",
   "execution_count": 5,
   "id": "0af1ce34",
   "metadata": {
    "scrolled": false
   },
   "outputs": [
    {
     "data": {
      "text/html": [
       "<div>\n",
       "<style scoped>\n",
       "    .dataframe tbody tr th:only-of-type {\n",
       "        vertical-align: middle;\n",
       "    }\n",
       "\n",
       "    .dataframe tbody tr th {\n",
       "        vertical-align: top;\n",
       "    }\n",
       "\n",
       "    .dataframe thead th {\n",
       "        text-align: right;\n",
       "    }\n",
       "</style>\n",
       "<table border=\"1\" class=\"dataframe\">\n",
       "  <thead>\n",
       "    <tr style=\"text-align: right;\">\n",
       "      <th></th>\n",
       "      <th>id</th>\n",
       "      <th>rated</th>\n",
       "      <th>variant</th>\n",
       "      <th>speed</th>\n",
       "      <th>createdAt</th>\n",
       "      <th>lastMoveAt</th>\n",
       "      <th>status</th>\n",
       "      <th>winner</th>\n",
       "      <th>moves</th>\n",
       "      <th>clock</th>\n",
       "      <th>movesperplayer</th>\n",
       "      <th>white_player_name</th>\n",
       "      <th>white_ranking</th>\n",
       "      <th>black_player_name</th>\n",
       "      <th>black_ranking</th>\n",
       "    </tr>\n",
       "  </thead>\n",
       "  <tbody>\n",
       "    <tr>\n",
       "      <th>0</th>\n",
       "      <td>O83cQxfo</td>\n",
       "      <td>True</td>\n",
       "      <td>standard</td>\n",
       "      <td>blitz</td>\n",
       "      <td>2023-06-28 02:33:43.673000+02:00</td>\n",
       "      <td>2023-06-28 02:44:00.722000+02:00</td>\n",
       "      <td>outoftime</td>\n",
       "      <td>white</td>\n",
       "      <td>e4 e5 Nf3 Nc6 Bc4 Nf6 d4 exd4 e5 d5 exd6 Qxd6 ...</td>\n",
       "      <td>300</td>\n",
       "      <td>70</td>\n",
       "      <td>EvilSaintPL</td>\n",
       "      <td>1753</td>\n",
       "      <td>Leosammie</td>\n",
       "      <td>1735</td>\n",
       "    </tr>\n",
       "    <tr>\n",
       "      <th>1</th>\n",
       "      <td>KeBcqcHz</td>\n",
       "      <td>True</td>\n",
       "      <td>standard</td>\n",
       "      <td>blitz</td>\n",
       "      <td>2023-06-28 02:31:45.081000+02:00</td>\n",
       "      <td>2023-06-28 02:33:30.178000+02:00</td>\n",
       "      <td>resign</td>\n",
       "      <td>white</td>\n",
       "      <td>Nf3 Nc6 g3 e5 Bg2 e4 Ng1 d5 d3 f5 dxe4 fxe4 Nc...</td>\n",
       "      <td>300</td>\n",
       "      <td>18</td>\n",
       "      <td>convict-19</td>\n",
       "      <td>1801</td>\n",
       "      <td>EvilSaintPL</td>\n",
       "      <td>1758</td>\n",
       "    </tr>\n",
       "  </tbody>\n",
       "</table>\n",
       "</div>"
      ],
      "text/plain": [
       "         id  rated   variant  speed                         createdAt  \\\n",
       "0  O83cQxfo   True  standard  blitz  2023-06-28 02:33:43.673000+02:00   \n",
       "1  KeBcqcHz   True  standard  blitz  2023-06-28 02:31:45.081000+02:00   \n",
       "\n",
       "                         lastMoveAt     status winner  \\\n",
       "0  2023-06-28 02:44:00.722000+02:00  outoftime  white   \n",
       "1  2023-06-28 02:33:30.178000+02:00     resign  white   \n",
       "\n",
       "                                               moves  clock  movesperplayer  \\\n",
       "0  e4 e5 Nf3 Nc6 Bc4 Nf6 d4 exd4 e5 d5 exd6 Qxd6 ...    300              70   \n",
       "1  Nf3 Nc6 g3 e5 Bg2 e4 Ng1 d5 d3 f5 dxe4 fxe4 Nc...    300              18   \n",
       "\n",
       "  white_player_name  white_ranking black_player_name  black_ranking  \n",
       "0       EvilSaintPL           1753         Leosammie           1735  \n",
       "1        convict-19           1801       EvilSaintPL           1758  "
      ]
     },
     "execution_count": 5,
     "metadata": {},
     "output_type": "execute_result"
    }
   ],
   "source": [
    "df.head(2)"
   ]
  },
  {
   "cell_type": "code",
   "execution_count": 6,
   "id": "ea3c9ec5",
   "metadata": {},
   "outputs": [],
   "source": [
    "def convert_date_with_offset(date_str):\n",
    "    return arrow.get(date_str).datetime\n",
    "df['createdAt'] = df['createdAt'].apply(convert_date_with_offset)\n",
    "df['lastMoveAt'] = df['lastMoveAt'].apply(convert_date_with_offset)\n",
    "df[\"Gametime\"]= df[\"lastMoveAt\"]-df[\"createdAt\"]\n",
    "df['Gametime'] = pd.to_timedelta(df['Gametime'])\n",
    "df['Gametime'] = df['Gametime'].dt.total_seconds().apply(lambda x: round(x, 1))\n",
    "df['timepermove']=(df['Gametime']/df[\"movesperplayer\"]).apply(lambda x: round(x, 1))"
   ]
  },
  {
   "cell_type": "markdown",
   "id": "43304c07",
   "metadata": {},
   "source": [
    "next think to do is taking insight from moves column, there is a lot of possibility but i will concentrate on:\n",
    "1) cheking if side castle and if long or short castle\n",
    "2) taking number of moves before castle ( if no castle - values set to number of moves +1 )\n",
    "3) groping by opening (for this project i will take in count only first 6 moves - 3 moves per side )\n",
    "4) number of checks in first 10 moves ( per side )"
   ]
  },
  {
   "cell_type": "code",
   "execution_count": 7,
   "id": "60b45191",
   "metadata": {},
   "outputs": [],
   "source": [
    "df = df.dropna()"
   ]
  },
  {
   "cell_type": "markdown",
   "id": "c02a9d55",
   "metadata": {},
   "source": [
    "# Checking for side castle "
   ]
  },
  {
   "cell_type": "markdown",
   "id": "5201e760",
   "metadata": {},
   "source": [
    "kingside castle ( short ) is O-O in moves notation and queenside castle ( long ) is O-O-O"
   ]
  },
  {
   "cell_type": "code",
   "execution_count": 8,
   "id": "5974f9bf",
   "metadata": {},
   "outputs": [],
   "source": [
    "pd.options.mode.chained_assignment = None"
   ]
  },
  {
   "cell_type": "code",
   "execution_count": 9,
   "id": "f5c33d19",
   "metadata": {},
   "outputs": [],
   "source": [
    "df[\"moves\"] = df[\"moves\"].str.split(\" \")\n",
    "df[\"white_moves\"]=df[\"moves\"].apply(lambda x: x[::2])\n",
    "df[\"black_moves\"]=df[\"moves\"].apply(lambda x: x[1::2])"
   ]
  },
  {
   "cell_type": "code",
   "execution_count": 10,
   "id": "8f1fb0bf",
   "metadata": {
    "scrolled": true
   },
   "outputs": [],
   "source": [
    "df[\"white_kingcastle\"] = df[\"white_moves\"].apply(lambda x: 1 if \"O-O\" in x else 0)\n",
    "df[\"white_queencastle\"] = df[\"white_moves\"].apply(lambda x: 1 if \"O-O-O\" in x else 0)\n",
    "df[\"black_kingcastle\"] = df[\"black_moves\"].apply(lambda x: 1 if \"O-O\" in x else 0)\n",
    "df[\"black_queencastle\"] = df[\"black_moves\"].apply(lambda x: 1 if \"O-O-O\" in x else 0)"
   ]
  },
  {
   "cell_type": "markdown",
   "id": "575528a6",
   "metadata": {},
   "source": [
    "# num of moves before castle "
   ]
  },
  {
   "cell_type": "code",
   "execution_count": 11,
   "id": "35b3639a",
   "metadata": {},
   "outputs": [],
   "source": [
    "def find_index_of_first_occurrence(lst):\n",
    "    elements = [\"O-O\", \"O-O-O\"]\n",
    "    for element in elements:\n",
    "        if element in lst:\n",
    "            return lst.index(element)\n",
    "    return len(lst) + 1\n",
    "df[\"White_moves_before_castle\"] = df[\"white_moves\"].apply(find_index_of_first_occurrence)\n",
    "df[\"Black_moves_before_castle\"] = df[\"black_moves\"].apply(find_index_of_first_occurrence)"
   ]
  },
  {
   "cell_type": "code",
   "execution_count": 27,
   "id": "6c316cda",
   "metadata": {
    "scrolled": true
   },
   "outputs": [
    {
     "data": {
      "text/html": [
       "<div>\n",
       "<style scoped>\n",
       "    .dataframe tbody tr th:only-of-type {\n",
       "        vertical-align: middle;\n",
       "    }\n",
       "\n",
       "    .dataframe tbody tr th {\n",
       "        vertical-align: top;\n",
       "    }\n",
       "\n",
       "    .dataframe thead th {\n",
       "        text-align: right;\n",
       "    }\n",
       "</style>\n",
       "<table border=\"1\" class=\"dataframe\">\n",
       "  <thead>\n",
       "    <tr style=\"text-align: right;\">\n",
       "      <th></th>\n",
       "      <th>id</th>\n",
       "      <th>rated</th>\n",
       "      <th>variant</th>\n",
       "      <th>speed</th>\n",
       "      <th>createdAt</th>\n",
       "      <th>lastMoveAt</th>\n",
       "      <th>status</th>\n",
       "      <th>winner</th>\n",
       "      <th>moves</th>\n",
       "      <th>clock</th>\n",
       "      <th>movesperplayer</th>\n",
       "      <th>white_player_name</th>\n",
       "      <th>white_ranking</th>\n",
       "      <th>black_player_name</th>\n",
       "      <th>black_ranking</th>\n",
       "      <th>Gametime</th>\n",
       "      <th>timepermove</th>\n",
       "      <th>white_moves</th>\n",
       "      <th>black_moves</th>\n",
       "      <th>white_kingcastle</th>\n",
       "      <th>white_queencastle</th>\n",
       "      <th>black_kingcastle</th>\n",
       "      <th>black_queencastle</th>\n",
       "      <th>White_moves_before_castle</th>\n",
       "      <th>Black_moves_before_castle</th>\n",
       "      <th>open6</th>\n",
       "    </tr>\n",
       "  </thead>\n",
       "  <tbody>\n",
       "    <tr>\n",
       "      <th>0</th>\n",
       "      <td>O83cQxfo</td>\n",
       "      <td>True</td>\n",
       "      <td>standard</td>\n",
       "      <td>blitz</td>\n",
       "      <td>2023-06-28 02:33:43.673000+02:00</td>\n",
       "      <td>2023-06-28 02:44:00.722000+02:00</td>\n",
       "      <td>outoftime</td>\n",
       "      <td>white</td>\n",
       "      <td>[e4, e5, Nf3, Nc6, Bc4, Nf6, d4, exd4, e5, d5,...</td>\n",
       "      <td>300</td>\n",
       "      <td>70</td>\n",
       "      <td>EvilSaintPL</td>\n",
       "      <td>1753</td>\n",
       "      <td>Leosammie</td>\n",
       "      <td>1735</td>\n",
       "      <td>617.0</td>\n",
       "      <td>8.8</td>\n",
       "      <td>[e4, Nf3, Bc4, d4, e5, exd6, O-O, Na3, Nb5, Nb...</td>\n",
       "      <td>[e5, Nc6, Nf6, exd4, d5, Qxd6, Be7, Bg4, Qd7, ...</td>\n",
       "      <td>1</td>\n",
       "      <td>0</td>\n",
       "      <td>0</td>\n",
       "      <td>0</td>\n",
       "      <td>6</td>\n",
       "      <td>71</td>\n",
       "      <td>e4 e5 Nf3 Nc6 Bc4</td>\n",
       "    </tr>\n",
       "    <tr>\n",
       "      <th>1</th>\n",
       "      <td>KeBcqcHz</td>\n",
       "      <td>True</td>\n",
       "      <td>standard</td>\n",
       "      <td>blitz</td>\n",
       "      <td>2023-06-28 02:31:45.081000+02:00</td>\n",
       "      <td>2023-06-28 02:33:30.178000+02:00</td>\n",
       "      <td>resign</td>\n",
       "      <td>white</td>\n",
       "      <td>[Nf3, Nc6, g3, e5, Bg2, e4, Ng1, d5, d3, f5, d...</td>\n",
       "      <td>300</td>\n",
       "      <td>18</td>\n",
       "      <td>convict-19</td>\n",
       "      <td>1801</td>\n",
       "      <td>EvilSaintPL</td>\n",
       "      <td>1758</td>\n",
       "      <td>105.1</td>\n",
       "      <td>5.8</td>\n",
       "      <td>[Nf3, g3, Bg2, Ng1, d3, dxe4, Nc3, Bg5, Bxf6, ...</td>\n",
       "      <td>[Nc6, e5, e4, d5, f5, fxe4, Nf6, Be7, Bxf6, Qx...</td>\n",
       "      <td>1</td>\n",
       "      <td>0</td>\n",
       "      <td>0</td>\n",
       "      <td>1</td>\n",
       "      <td>17</td>\n",
       "      <td>14</td>\n",
       "      <td>Nf3 Nc6 g3 e5 Bg2</td>\n",
       "    </tr>\n",
       "    <tr>\n",
       "      <th>2</th>\n",
       "      <td>hDXG2PXc</td>\n",
       "      <td>True</td>\n",
       "      <td>standard</td>\n",
       "      <td>blitz</td>\n",
       "      <td>2023-06-26 00:04:39.921000+02:00</td>\n",
       "      <td>2023-06-26 00:07:33.812000+02:00</td>\n",
       "      <td>resign</td>\n",
       "      <td>white</td>\n",
       "      <td>[e4, e5, Nc3, Nf6, Nf3, Nc6, d4, exd4, Nxd4, N...</td>\n",
       "      <td>300</td>\n",
       "      <td>15</td>\n",
       "      <td>Gabaz</td>\n",
       "      <td>1790</td>\n",
       "      <td>EvilSaintPL</td>\n",
       "      <td>1764</td>\n",
       "      <td>173.9</td>\n",
       "      <td>11.6</td>\n",
       "      <td>[e4, Nc3, Nf3, d4, Nxd4, Qxd4, Bg5, Bh4, Qe3, ...</td>\n",
       "      <td>[e5, Nf6, Nc6, exd4, Nxd4, Qe7, h6, c5, d5, Bd...</td>\n",
       "      <td>0</td>\n",
       "      <td>1</td>\n",
       "      <td>0</td>\n",
       "      <td>0</td>\n",
       "      <td>12</td>\n",
       "      <td>16</td>\n",
       "      <td>e4 e5 Nc3 Nf6 Nf3</td>\n",
       "    </tr>\n",
       "  </tbody>\n",
       "</table>\n",
       "</div>"
      ],
      "text/plain": [
       "         id  rated   variant  speed                         createdAt  \\\n",
       "0  O83cQxfo   True  standard  blitz  2023-06-28 02:33:43.673000+02:00   \n",
       "1  KeBcqcHz   True  standard  blitz  2023-06-28 02:31:45.081000+02:00   \n",
       "2  hDXG2PXc   True  standard  blitz  2023-06-26 00:04:39.921000+02:00   \n",
       "\n",
       "                         lastMoveAt     status winner  \\\n",
       "0  2023-06-28 02:44:00.722000+02:00  outoftime  white   \n",
       "1  2023-06-28 02:33:30.178000+02:00     resign  white   \n",
       "2  2023-06-26 00:07:33.812000+02:00     resign  white   \n",
       "\n",
       "                                               moves  clock  movesperplayer  \\\n",
       "0  [e4, e5, Nf3, Nc6, Bc4, Nf6, d4, exd4, e5, d5,...    300              70   \n",
       "1  [Nf3, Nc6, g3, e5, Bg2, e4, Ng1, d5, d3, f5, d...    300              18   \n",
       "2  [e4, e5, Nc3, Nf6, Nf3, Nc6, d4, exd4, Nxd4, N...    300              15   \n",
       "\n",
       "  white_player_name  white_ranking black_player_name  black_ranking  Gametime  \\\n",
       "0       EvilSaintPL           1753         Leosammie           1735     617.0   \n",
       "1        convict-19           1801       EvilSaintPL           1758     105.1   \n",
       "2             Gabaz           1790       EvilSaintPL           1764     173.9   \n",
       "\n",
       "   timepermove                                        white_moves  \\\n",
       "0          8.8  [e4, Nf3, Bc4, d4, e5, exd6, O-O, Na3, Nb5, Nb...   \n",
       "1          5.8  [Nf3, g3, Bg2, Ng1, d3, dxe4, Nc3, Bg5, Bxf6, ...   \n",
       "2         11.6  [e4, Nc3, Nf3, d4, Nxd4, Qxd4, Bg5, Bh4, Qe3, ...   \n",
       "\n",
       "                                         black_moves  white_kingcastle  \\\n",
       "0  [e5, Nc6, Nf6, exd4, d5, Qxd6, Be7, Bg4, Qd7, ...                 1   \n",
       "1  [Nc6, e5, e4, d5, f5, fxe4, Nf6, Be7, Bxf6, Qx...                 1   \n",
       "2  [e5, Nf6, Nc6, exd4, Nxd4, Qe7, h6, c5, d5, Bd...                 0   \n",
       "\n",
       "   white_queencastle  black_kingcastle  black_queencastle  \\\n",
       "0                  0                 0                  0   \n",
       "1                  0                 0                  1   \n",
       "2                  1                 0                  0   \n",
       "\n",
       "   White_moves_before_castle  Black_moves_before_castle              open6  \n",
       "0                          6                         71  e4 e5 Nf3 Nc6 Bc4  \n",
       "1                         17                         14  Nf3 Nc6 g3 e5 Bg2  \n",
       "2                         12                         16  e4 e5 Nc3 Nf6 Nf3  "
      ]
     },
     "execution_count": 27,
     "metadata": {},
     "output_type": "execute_result"
    }
   ],
   "source": [
    "df.head(3)"
   ]
  },
  {
   "cell_type": "markdown",
   "id": "5c9eb6ae",
   "metadata": {},
   "source": [
    "Grouping by opening"
   ]
  },
  {
   "cell_type": "code",
   "execution_count": 13,
   "id": "c835c22c",
   "metadata": {},
   "outputs": [],
   "source": [
    "df[\"open6\"] = df[\"moves\"].apply(lambda x: x[:5])\n",
    "df[\"open6\"] = df[\"open6\"].apply(lambda x: \" \".join(x))"
   ]
  },
  {
   "cell_type": "code",
   "execution_count": 20,
   "id": "95786092",
   "metadata": {
    "scrolled": false
   },
   "outputs": [],
   "source": [
    "white_opens = df[df['white_player_name'] == 'EvilSaintPL'][\"open6\"].value_counts().head(10)\n",
    "black_opens = df[df['black_player_name'] == 'EvilSaintPL'][\"open6\"].value_counts().head(10)"
   ]
  },
  {
   "cell_type": "code",
   "execution_count": 21,
   "id": "bf4e4c87",
   "metadata": {},
   "outputs": [
    {
     "data": {
      "text/plain": [
       "open6\n",
       "e4 e6 Nf3 d5 exd5    148\n",
       "e4 e5 Nf3 Nc6 Bc4    145\n",
       "e4 e6 d4 d5 e5       137\n",
       "e4 e5 Nf3 Nc6 Bb5     86\n",
       "d4 d5 c4 c6 Nc3       76\n",
       "e4 e6 Nf3 d5 e5       67\n",
       "e4 e5 Nf3 Nc6 d4      55\n",
       "e4 e6 d4 d5 exd5      53\n",
       "e4 e5 Nf3 Nc6 Nc3     44\n",
       "d4 Nf6 c4 e6 Nc3      41\n",
       "Name: count, dtype: int64"
      ]
     },
     "execution_count": 21,
     "metadata": {},
     "output_type": "execute_result"
    }
   ],
   "source": [
    "black_opens"
   ]
  },
  {
   "cell_type": "code",
   "execution_count": 25,
   "id": "b9f01760",
   "metadata": {
    "scrolled": true
   },
   "outputs": [
    {
     "data": {
      "text/plain": [
       "Index(['e4 e5 Nf3 Nc6 Bc4', 'e4 e5 Nf3 Nf6 Nxe5', 'e4 d5 exd5 Qxd5 Nc3',\n",
       "       'e4 e5 Nf3 d6 Bc4', 'e4 e5 Nf3 Nc6 Bb5', 'e4 c5 Nf3 Nc6 c3',\n",
       "       'e4 e5 Nc3 Nc6 Bc4', 'e4 e6 d4 d5 exd5', 'e4 e5 Nf3 d6 d4',\n",
       "       'e4 e5 Nc3 Nf6 Bc4'],\n",
       "      dtype='object', name='open6')"
      ]
     },
     "execution_count": 25,
     "metadata": {},
     "output_type": "execute_result"
    }
   ],
   "source": [
    "white_opens.index"
   ]
  },
  {
   "cell_type": "code",
   "execution_count": 26,
   "id": "f683fb83",
   "metadata": {},
   "outputs": [],
   "source": [
    "def openings( moves, white_name):\n",
    "    if white_name==\"EvilSaintPL\":\n",
    "        if moves in white_opens.index:\n",
    "            return \"White\" + moves\n",
    "        else: \n",
    "            return 0\n",
    "    else:\n",
    "        if moves in black_opens.index:\n",
    "            return \"Black\" + moves\n",
    "        else:\n",
    "            return 0"
   ]
  },
  {
   "cell_type": "code",
   "execution_count": 48,
   "id": "1b5f5d5e",
   "metadata": {},
   "outputs": [
    {
     "ename": "SyntaxError",
     "evalue": "incomplete input (1547598540.py, line 1)",
     "output_type": "error",
     "traceback": [
      "\u001b[1;36m  Cell \u001b[1;32mIn[48], line 1\u001b[1;36m\u001b[0m\n\u001b[1;33m    def oepn2( moves):\u001b[0m\n\u001b[1;37m                      ^\u001b[0m\n\u001b[1;31mSyntaxError\u001b[0m\u001b[1;31m:\u001b[0m incomplete input\n"
     ]
    }
   ],
   "source": [
    "def white_open( moves):\n",
    "    if moves in white_opens:\n",
    "        "
   ]
  },
  {
   "cell_type": "code",
   "execution_count": 47,
   "id": "6979a105",
   "metadata": {},
   "outputs": [
    {
     "name": "stdout",
     "output_type": "stream",
     "text": [
      "Nf3 Nc6 g3 e5 Bg2\n",
      "convict-19\n"
     ]
    },
    {
     "data": {
      "text/plain": [
       "open6                None\n",
       "white_player_name    None\n",
       "dtype: object"
      ]
     },
     "execution_count": 47,
     "metadata": {},
     "output_type": "execute_result"
    }
   ],
   "source": [
    "df[df[\"white_player_name\"]==\"EvilSaintPL\"][\"open6\"].apply(lambda x: print(x[1]))"
   ]
  }
 ],
 "metadata": {
  "kernelspec": {
   "display_name": "Python 3 (ipykernel)",
   "language": "python",
   "name": "python3"
  },
  "language_info": {
   "codemirror_mode": {
    "name": "ipython",
    "version": 3
   },
   "file_extension": ".py",
   "mimetype": "text/x-python",
   "name": "python",
   "nbconvert_exporter": "python",
   "pygments_lexer": "ipython3",
   "version": "3.10.4"
  }
 },
 "nbformat": 4,
 "nbformat_minor": 5
}
