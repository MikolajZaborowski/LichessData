{
 "cells": [
  {
   "cell_type": "markdown",
   "id": "74111175",
   "metadata": {},
   "source": [
    "# Here i want to extract from lichess data features important for future modeling"
   ]
  },
  {
   "cell_type": "markdown",
   "id": "efac69c5",
   "metadata": {},
   "source": [
    "So here i want to get data in format similar to that: \n",
    "\n",
    "columns = ( date, amount of mathes played in that date,ammont of matches played day earllier , amount of matches plyed for previous mounth, ranikng points fluctuation (day vs day before), ranking after last match that day, mean oponent vs my ranking diff that day ) and maybe some other columns that i will consider as important for ranking changes prediction. --> df2\n",
    "\n",
    "And all of those for different times control (blitz, rapid, bullet)"
   ]
  },
  {
   "cell_type": "markdown",
   "id": "d6c78a26",
   "metadata": {},
   "source": [
    "and other data for winner prediction models, similar columns as without any chnages but some new cols like: time used in game, time for move and maybe some other --> df1"
   ]
  },
  {
   "cell_type": "markdown",
   "id": "f8beec61",
   "metadata": {},
   "source": [
    "# To Be Continued"
   ]
  },
  {
   "cell_type": "code",
   "execution_count": null,
   "id": "b902a2f0",
   "metadata": {},
   "outputs": [],
   "source": [
    "import pandas as pd\n",
    "import numpy as np\n",
    "import matplotlib.pyplot as plt\n",
    "import seaborn as sns\n",
    "from sklearn.tree import plot_tree\n",
    "\n",
    "from sklearn.model_selection import train_test_split\n",
    "# Regression\n",
    "from sklearn.ensemble import RandomForestRegressor\n",
    "from sklearn.neighbors import KNeighborsRegressor\n",
    "from sklearn.neural_network import MLPRegressor\n",
    "from sklearn.metrics import mean_absolute_error, r2_score, mean_squared_error\n",
    "# Clasification\n",
    "from sklearn.ensemble import RandomForestClassifier\n",
    "from sklearn.metrics import f1_score, precision_score, accuracy_score\n",
    "# Best_searches\n",
    "from sklearn.model_selection import GridSearchCV\n",
    "from sklearn.model_selection import RandomizedSearchCV\n",
    "# Standarization\n",
    "from sklearn.preprocessing import StandardScaler\n",
    "\n",
    "from keras import models\n",
    "from keras.layers import Dense"
   ]
  },
  {
   "cell_type": "code",
   "execution_count": null,
   "id": "31e086c4",
   "metadata": {},
   "outputs": [],
   "source": [
    "import ssl\n",
    "ssl._create_default_https_context = ssl._create_unverified_context\n",
    "import pandas as pd\n",
    "import numpy as np\n",
    "import arrow\n",
    "pd.set_option('display.max_columns', None)"
   ]
  },
  {
   "cell_type": "code",
   "execution_count": null,
   "id": "c6358258",
   "metadata": {},
   "outputs": [],
   "source": [
    "df = pd.read_csv(\"https://raw.githubusercontent.com/MikolajZaborowski/LichessData/main/Chess_data_basic.csv\", index_col = \"Unnamed: 0\")"
   ]
  },
  {
   "cell_type": "code",
   "execution_count": null,
   "id": "9d64554c",
   "metadata": {},
   "outputs": [],
   "source": [
    "len(set(df[\"black_player_name\"]+df[\"white_player_name\"]))"
   ]
  },
  {
   "cell_type": "code",
   "execution_count": null,
   "id": "9ad84cb0",
   "metadata": {},
   "outputs": [],
   "source": [
    "df.isna().sum()"
   ]
  },
  {
   "cell_type": "code",
   "execution_count": null,
   "id": "ea3c9ec5",
   "metadata": {},
   "outputs": [],
   "source": [
    "def convert_date_with_offset(date_str):\n",
    "    return arrow.get(date_str).datetime\n",
    "\n",
    "for i in ['createdAt', 'lastMoveAt']:\n",
    "    df[i] = df[i].apply(convert_date_with_offset)\n",
    "    \n",
    "# Create Gametime column\n",
    "df[\"Gametime\"] = df[\"lastMoveAt\"] - df[\"createdAt\"]\n",
    "# Handle Gametime column\n",
    "df['Gametime'] = pd.to_timedelta(df['Gametime'])\n",
    "\n",
    "rounding = lambda x: round(x, 1)\n",
    "\n",
    "df['Gametime'] = df['Gametime'].dt.total_seconds().apply(rounding)\n",
    "df['timepermove']=(df['Gametime']/df[\"movesperplayer\"]).apply(rounding)"
   ]
  },
  {
   "cell_type": "markdown",
   "id": "43304c07",
   "metadata": {},
   "source": [
    "next think to do is taking insight from moves column, there is a lot of possibility but i will concentrate on:\n",
    "1) cheking if side castle and if long or short castle\n",
    "2) taking number of moves before castle ( if no castle - values set to number of moves +1 )\n",
    "3) groping by opening (for this project i will take in count only first 6 moves - 3 moves per side )\n",
    "4) number of checks in first 10 moves ( per side )"
   ]
  },
  {
   "cell_type": "markdown",
   "id": "b957b3ba",
   "metadata": {},
   "source": [
    "## Handle NA values"
   ]
  },
  {
   "cell_type": "code",
   "execution_count": null,
   "id": "60b45191",
   "metadata": {},
   "outputs": [],
   "source": [
    "# Only timepermove colum had NA values (just one), expect winner, where NA == DRAW\n",
    "df.dropna(subset=['timepermove'],inplace=True)\n",
    "\n",
    "df = df.fillna(\"draw\")\n",
    "\n",
    "df.isna().sum()"
   ]
  },
  {
   "cell_type": "markdown",
   "id": "c02a9d55",
   "metadata": {},
   "source": [
    "# Checking for side castle "
   ]
  },
  {
   "cell_type": "markdown",
   "id": "5201e760",
   "metadata": {},
   "source": [
    "kingside castle ( short ) is O-O in moves notation and queenside castle ( long ) is O-O-O"
   ]
  },
  {
   "cell_type": "code",
   "execution_count": null,
   "id": "5974f9bf",
   "metadata": {},
   "outputs": [],
   "source": [
    "pd.options.mode.chained_assignment = None"
   ]
  },
  {
   "cell_type": "code",
   "execution_count": null,
   "id": "f5c33d19",
   "metadata": {},
   "outputs": [],
   "source": [
    "def moves_column(df):\n",
    "    df[\"moves\"] = df[\"moves\"].str.split(\" \")\n",
    "\n",
    "    df[\"white_moves\"]=df[\"moves\"].apply(lambda x: x[::2])\n",
    "    df[\"black_moves\"]=df[\"moves\"].apply(lambda x: x[1::2])\n",
    "    return df\n",
    "\n",
    "df = moves_column(df)"
   ]
  },
  {
   "cell_type": "code",
   "execution_count": null,
   "id": "8f1fb0bf",
   "metadata": {
    "scrolled": true
   },
   "outputs": [],
   "source": [
    "def check_for_queen_or_king_castle(df):\n",
    "    check_for_kingcastle = lambda x: 1 if \"O-O\" in x else 0\n",
    "    check_for_queencastle = lambda x: 1 if \"O-O-O\" in x else 0\n",
    "    df[\"white_kingcastle\"] = df[\"white_moves\"].apply(check_for_kingcastle)\n",
    "    df[\"white_queencastle\"] = df[\"white_moves\"].apply(check_for_queencastle)\n",
    "    df[\"black_kingcastle\"] = df[\"black_moves\"].apply(check_for_kingcastle)\n",
    "    df[\"black_queencastle\"] = df[\"black_moves\"].apply(check_for_queencastle)\n",
    "    return df\n",
    "\n",
    "df = check_for_queen_or_king_castle(df)"
   ]
  },
  {
   "cell_type": "markdown",
   "id": "575528a6",
   "metadata": {},
   "source": [
    "# num of moves before castle "
   ]
  },
  {
   "cell_type": "code",
   "execution_count": null,
   "id": "35b3639a",
   "metadata": {},
   "outputs": [],
   "source": [
    "def find_index_of_first_occurrence(lst):\n",
    "    elements = [\"O-O\", \"O-O-O\"]\n",
    "    for element in elements:\n",
    "        if element in lst:\n",
    "            return lst.index(element)\n",
    "    return len(lst) + 1\n",
    "\n",
    "df[\"White_moves_before_castle\"] = df[\"white_moves\"].apply(find_index_of_first_occurrence)\n",
    "df[\"Black_moves_before_castle\"] = df[\"black_moves\"].apply(find_index_of_first_occurrence)"
   ]
  },
  {
   "cell_type": "code",
   "execution_count": null,
   "id": "1f9f9299",
   "metadata": {},
   "outputs": [],
   "source": [
    "df.to_csv(\"to_visual.csv\")"
   ]
  },
  {
   "cell_type": "code",
   "execution_count": null,
   "id": "3cf58ba8",
   "metadata": {},
   "outputs": [],
   "source": [
    "df.to_json(\"to_visual1.json\")"
   ]
  },
  {
   "cell_type": "markdown",
   "id": "5c9eb6ae",
   "metadata": {},
   "source": [
    "## Grouping by opening"
   ]
  },
  {
   "cell_type": "code",
   "execution_count": null,
   "id": "c835c22c",
   "metadata": {},
   "outputs": [],
   "source": [
    "df[\"open4\"] = df[\"moves\"].apply(lambda x: x[:4])\n",
    "df[\"open4\"] = df[\"open4\"].apply(lambda x: \" \".join(x))"
   ]
  },
  {
   "cell_type": "code",
   "execution_count": null,
   "id": "95786092",
   "metadata": {
    "scrolled": false
   },
   "outputs": [],
   "source": [
    "white_opens = df[df['white_player_name'] == 'EvilSaintPL'][\"open4\"].value_counts().head(20)\n",
    "black_opens = df[df['black_player_name'] == 'EvilSaintPL'][\"open4\"].value_counts().head(20)"
   ]
  },
  {
   "cell_type": "code",
   "execution_count": null,
   "id": "d9406457",
   "metadata": {},
   "outputs": [],
   "source": [
    "def iterable_opening_list_and_my_ranking( df ):\n",
    "    \n",
    "    openings_list = []\n",
    "    rank_of_evilsaintpl_list = []\n",
    "    evilsaintpl_won = []\n",
    "    enemy_rank_list = []\n",
    "\n",
    "    \n",
    "    for index, row in df.iterrows():\n",
    "        \n",
    "        # OPENS1\n",
    "        if df[\"white_player_name\"][index]==\"EvilSaintPL\" and df[\"open4\"][index] in white_opens.index:\n",
    "            openings_list.append(\"White \" + df[\"open4\"][index])\n",
    "        elif  df[\"white_player_name\"][index]!=\"EvilSaintPL\" and df[\"open4\"][index] in black_opens.index:\n",
    "            openings_list.append(\"Black \" + df[\"open4\"][index]) \n",
    "        else:\n",
    "            openings_list.append(\"no opens\")\n",
    "        \n",
    "        # MY RANK AND ENEMY RANK \n",
    "        if df[\"white_player_name\"][index]==\"EvilSaintPL\":\n",
    "            rank_of_evilsaintpl_list.append(df[\"white_ranking\"][index])\n",
    "            enemy_rank_list.append(df[\"black_ranking\"][index])\n",
    "        elif df[\"black_player_name\"][index]==\"EvilSaintPL\":\n",
    "            rank_of_evilsaintpl_list.append(df[\"black_ranking\"][index])\n",
    "            enemy_rank_list.append(df[\"white_ranking\"][index])\n",
    "        else:\n",
    "            print(index)\n",
    "            \n",
    "        # I WON \n",
    "        if df[\"winner\"][index] == 'draw':\n",
    "            evilsaintpl_won.append(0)\n",
    "        elif df[\"white_player_name\"][index]==\"EvilSaintPL\" and df[\"winner\"][index]=='white':\n",
    "            evilsaintpl_won.append(1)\n",
    "        elif  df[\"black_player_name\"][index]==\"EvilSaintPL\" and df[\"winner\"][index]=='black':\n",
    "            evilsaintpl_won.append(1)\n",
    "        else:\n",
    "            evilsaintpl_won.append(-1)\n",
    "\n",
    "    df[\"opens1\"]= openings_list\n",
    "    df[\"my_rank\"]= rank_of_evilsaintpl_list\n",
    "    df['i_won'] = evilsaintpl_won\n",
    "    df['enemy_rank'] = enemy_rank_list\n",
    "    \n",
    "    # NEW RANKS FE\n",
    "    df['rank_difference'] = df['my_rank'] - df['enemy_rank']\n",
    "    df['is_higher'] = (df['my_rank'] > df['enemy_rank'])\n",
    "\n",
    "\n",
    "    return df\n",
    "\n",
    "df = iterable_opening_list_and_my_ranking(df)"
   ]
  },
  {
   "cell_type": "code",
   "execution_count": null,
   "id": "ec862300",
   "metadata": {},
   "outputs": [],
   "source": [
    "df.head(1)"
   ]
  },
  {
   "cell_type": "code",
   "execution_count": null,
   "id": "6e13b614",
   "metadata": {},
   "outputs": [],
   "source": [
    "def clear_dataframe(df):\n",
    "    temp = pd.get_dummies(df[\"opens1\"])\n",
    "    df = pd.concat([df,temp], axis=1)\n",
    "    \n",
    "    df.drop(\"status\",axis=1, inplace=True)\n",
    "    df.drop(labels = [\"opens1\"], axis=1, inplace=True)\n",
    "#    df.drop(\"id\",axis=1,inplace=True)\n",
    "    \n",
    "    df = df[df[\"rated\"]==True]\n",
    "    df = df[df[\"white_player_name\"]!=\"YoungCapitan\"]\n",
    "    df = df[df[\"black_player_name\"]!=\"YoungCapitan\"]\n",
    "    df.drop(\"variant\",axis=1,inplace=True)\n",
    "    \n",
    "    return df\n",
    "\n",
    "df = clear_dataframe(df)"
   ]
  },
  {
   "cell_type": "code",
   "execution_count": null,
   "id": "9e8dcdf9",
   "metadata": {},
   "outputs": [],
   "source": [
    "df.head(1)"
   ]
  },
  {
   "cell_type": "code",
   "execution_count": null,
   "id": "a679c749",
   "metadata": {},
   "outputs": [],
   "source": [
    "df[\"i_won\"]=df[\"i_won\"]+1"
   ]
  },
  {
   "cell_type": "code",
   "execution_count": null,
   "id": "d828deba",
   "metadata": {},
   "outputs": [],
   "source": [
    "df.shape"
   ]
  },
  {
   "cell_type": "code",
   "execution_count": null,
   "id": "0f72ebd7",
   "metadata": {},
   "outputs": [],
   "source": [
    "df.speed.unique()"
   ]
  },
  {
   "cell_type": "code",
   "execution_count": null,
   "id": "f08be702",
   "metadata": {},
   "outputs": [],
   "source": [
    "def rankdifftest(df):\n",
    "    \n",
    "    blitz = df[df[\"speed\"]==\"blitz\"].reset_index(drop=True)\n",
    "    classical = df[df[\"speed\"]==\"classical\"].reset_index(drop=True)\n",
    "    bullet = df[df[\"speed\"]==\"bullet\"].reset_index(drop=True)\n",
    "    rapid = df[df[\"speed\"]==\"rapid\"].reset_index(drop=True)\n",
    "    \n",
    "    for speed in [blitz, classical, bullet, rapid]:\n",
    "        rank_resu=list()\n",
    "        for index, row in speed.iterrows():\n",
    "            if index==0:\n",
    "                rank_resu.append(speed[\"my_rank\"][index])\n",
    "            else:\n",
    "                rank_resu.append(speed[\"my_rank\"][index-1])\n",
    "        speed[\"rank_after_game\"]=rank_resu\n",
    "        speed[\"my_rank_diff\"]=speed[\"rank_after_game\"]-speed[\"my_rank\"]\n",
    "    return pd.concat([blitz, classical, bullet, rapid])"
   ]
  },
  {
   "cell_type": "code",
   "execution_count": null,
   "id": "e92cdd19",
   "metadata": {
    "scrolled": true
   },
   "outputs": [],
   "source": [
    "df = rankdifftest(df)"
   ]
  },
  {
   "cell_type": "code",
   "execution_count": null,
   "id": "214c6dcf",
   "metadata": {},
   "outputs": [],
   "source": [
    "df.shape"
   ]
  },
  {
   "cell_type": "code",
   "execution_count": null,
   "id": "a85184fc",
   "metadata": {
    "scrolled": true
   },
   "outputs": [],
   "source": [
    "df.head(2)"
   ]
  },
  {
   "cell_type": "code",
   "execution_count": null,
   "id": "5e8a93ee",
   "metadata": {},
   "outputs": [],
   "source": [
    "df.columns"
   ]
  },
  {
   "cell_type": "code",
   "execution_count": null,
   "id": "2ab04ce6",
   "metadata": {},
   "outputs": [],
   "source": [
    "final_all = df[[ 'i_won','my_rank', 'enemy_rank','rank_difference', 'is_higher' ,'clock', 'movesperplayer', 'Gametime', 'timepermove','white_kingcastle', 'white_queencastle',\n",
    "       'black_kingcastle', 'black_queencastle', 'White_moves_before_castle', 'Black_moves_before_castle', 'no opens', 'Black c4 e5 Nc3 Nf6',\n",
    "       'Black d4 Nf6 Bf4 e6', 'Black d4 Nf6 Nf3 e6', 'Black d4 Nf6 c4 e6',\n",
    "       'Black d4 d5 Bf4 Nf6', 'Black d4 d5 c4 c6', 'Black e4 e5 Bc4 Nc6',\n",
    "       'Black e4 e5 Bc4 Nf6', 'Black e4 e5 Nc3 Nf6', 'Black e4 e5 Nf3 Nc6',\n",
    "       'Black e4 e5 Nf3 Nf6', 'Black e4 e5 d4 exd4', 'Black e4 e5 f4 d5',\n",
    "       'Black e4 e5 f4 exf4', 'Black e4 e6 Bc4 d5', 'Black e4 e6 Nc3 d5',\n",
    "       'Black e4 e6 Nf3 d5', 'Black e4 e6 d4 d5', 'Black e4 e6 e5 c5',\n",
    "       'Black g3 e5 Bg2 Nf6', 'White e4 c5 Nf3 Nc6', 'White e4 c5 Nf3 d6',\n",
    "       'White e4 c5 Nf3 e6', 'White e4 c6 Nf3 d5', 'White e4 c6 d4 d5',\n",
    "       'White e4 d5 Nf3 dxe4', 'White e4 d5 exd5 Nf6', 'White e4 d5 exd5 Qxd5',\n",
    "       'White e4 e5 Nc3 Nc6', 'White e4 e5 Nc3 Nf6', 'White e4 e5 Nc3 d6',\n",
    "       'White e4 e5 Nf3 Bc5', 'White e4 e5 Nf3 Nc6', 'White e4 e5 Nf3 Nf6',\n",
    "       'White e4 e5 Nf3 Qf6', 'White e4 e5 Nf3 d5', 'White e4 e5 Nf3 d6',\n",
    "       'White e4 e6 Nf3 d5', 'White e4 e6 d4 d5', 'White e4 g6 d4 Bg7'  ]]\n",
    "\n",
    "blitz = df[df[\"speed\"]==\"blitz\"][[ 'i_won','my_rank', 'enemy_rank','rank_difference', 'is_higher', 'movesperplayer', 'Gametime', 'timepermove','white_kingcastle', 'white_queencastle',\n",
    "       'black_kingcastle', 'black_queencastle', 'White_moves_before_castle', 'Black_moves_before_castle', 'no opens', 'Black c4 e5 Nc3 Nf6',\n",
    "       'Black d4 Nf6 Bf4 e6', 'Black d4 Nf6 Nf3 e6', 'Black d4 Nf6 c4 e6',\n",
    "       'Black d4 d5 Bf4 Nf6', 'Black d4 d5 c4 c6', 'Black e4 e5 Bc4 Nc6',\n",
    "       'Black e4 e5 Bc4 Nf6', 'Black e4 e5 Nc3 Nf6', 'Black e4 e5 Nf3 Nc6',\n",
    "       'Black e4 e5 Nf3 Nf6', 'Black e4 e5 d4 exd4', 'Black e4 e5 f4 d5',\n",
    "       'Black e4 e5 f4 exf4', 'Black e4 e6 Bc4 d5', 'Black e4 e6 Nc3 d5',\n",
    "       'Black e4 e6 Nf3 d5', 'Black e4 e6 d4 d5', 'Black e4 e6 e5 c5',\n",
    "       'Black g3 e5 Bg2 Nf6', 'White e4 c5 Nf3 Nc6', 'White e4 c5 Nf3 d6',\n",
    "       'White e4 c5 Nf3 e6', 'White e4 c6 Nf3 d5', 'White e4 c6 d4 d5',\n",
    "       'White e4 d5 Nf3 dxe4', 'White e4 d5 exd5 Nf6', 'White e4 d5 exd5 Qxd5',\n",
    "       'White e4 e5 Nc3 Nc6', 'White e4 e5 Nc3 Nf6', 'White e4 e5 Nc3 d6',\n",
    "       'White e4 e5 Nf3 Bc5', 'White e4 e5 Nf3 Nc6', 'White e4 e5 Nf3 Nf6',\n",
    "       'White e4 e5 Nf3 Qf6', 'White e4 e5 Nf3 d5', 'White e4 e5 Nf3 d6',\n",
    "       'White e4 e6 Nf3 d5', 'White e4 e6 d4 d5', 'White e4 g6 d4 Bg7'  ]]\n",
    "\n",
    "classical = df[df[\"speed\"]==\"classical\"][[ 'i_won','my_rank', 'enemy_rank','rank_difference', 'is_higher', 'movesperplayer', 'Gametime', 'timepermove','white_kingcastle', 'white_queencastle',\n",
    "       'black_kingcastle', 'black_queencastle', 'White_moves_before_castle', 'Black_moves_before_castle', 'no opens', 'Black c4 e5 Nc3 Nf6',\n",
    "       'Black d4 Nf6 Bf4 e6', 'Black d4 Nf6 Nf3 e6', 'Black d4 Nf6 c4 e6',\n",
    "       'Black d4 d5 Bf4 Nf6', 'Black d4 d5 c4 c6', 'Black e4 e5 Bc4 Nc6',\n",
    "       'Black e4 e5 Bc4 Nf6', 'Black e4 e5 Nc3 Nf6', 'Black e4 e5 Nf3 Nc6',\n",
    "       'Black e4 e5 Nf3 Nf6', 'Black e4 e5 d4 exd4', 'Black e4 e5 f4 d5',\n",
    "       'Black e4 e5 f4 exf4', 'Black e4 e6 Bc4 d5', 'Black e4 e6 Nc3 d5',\n",
    "       'Black e4 e6 Nf3 d5', 'Black e4 e6 d4 d5', 'Black e4 e6 e5 c5',\n",
    "       'Black g3 e5 Bg2 Nf6', 'White e4 c5 Nf3 Nc6', 'White e4 c5 Nf3 d6',\n",
    "       'White e4 c5 Nf3 e6', 'White e4 c6 Nf3 d5', 'White e4 c6 d4 d5',\n",
    "       'White e4 d5 Nf3 dxe4', 'White e4 d5 exd5 Nf6', 'White e4 d5 exd5 Qxd5',\n",
    "       'White e4 e5 Nc3 Nc6', 'White e4 e5 Nc3 Nf6', 'White e4 e5 Nc3 d6',\n",
    "       'White e4 e5 Nf3 Bc5', 'White e4 e5 Nf3 Nc6', 'White e4 e5 Nf3 Nf6',\n",
    "       'White e4 e5 Nf3 Qf6', 'White e4 e5 Nf3 d5', 'White e4 e5 Nf3 d6',\n",
    "       'White e4 e6 Nf3 d5', 'White e4 e6 d4 d5', 'White e4 g6 d4 Bg7'  ]]\n",
    "\n",
    "bullet = df[df[\"speed\"]==\"bullet\"][[ 'i_won','my_rank', 'enemy_rank','rank_difference', 'is_higher', 'movesperplayer', 'Gametime', 'timepermove','white_kingcastle', 'white_queencastle',\n",
    "       'black_kingcastle', 'black_queencastle', 'White_moves_before_castle', 'Black_moves_before_castle', 'no opens', 'Black c4 e5 Nc3 Nf6',\n",
    "       'Black d4 Nf6 Bf4 e6', 'Black d4 Nf6 Nf3 e6', 'Black d4 Nf6 c4 e6',\n",
    "       'Black d4 d5 Bf4 Nf6', 'Black d4 d5 c4 c6', 'Black e4 e5 Bc4 Nc6',\n",
    "       'Black e4 e5 Bc4 Nf6', 'Black e4 e5 Nc3 Nf6', 'Black e4 e5 Nf3 Nc6',\n",
    "       'Black e4 e5 Nf3 Nf6', 'Black e4 e5 d4 exd4', 'Black e4 e5 f4 d5',\n",
    "       'Black e4 e5 f4 exf4', 'Black e4 e6 Bc4 d5', 'Black e4 e6 Nc3 d5',\n",
    "       'Black e4 e6 Nf3 d5', 'Black e4 e6 d4 d5', 'Black e4 e6 e5 c5',\n",
    "       'Black g3 e5 Bg2 Nf6', 'White e4 c5 Nf3 Nc6', 'White e4 c5 Nf3 d6',\n",
    "       'White e4 c5 Nf3 e6', 'White e4 c6 Nf3 d5', 'White e4 c6 d4 d5',\n",
    "       'White e4 d5 Nf3 dxe4', 'White e4 d5 exd5 Nf6', 'White e4 d5 exd5 Qxd5',\n",
    "       'White e4 e5 Nc3 Nc6', 'White e4 e5 Nc3 Nf6', 'White e4 e5 Nc3 d6',\n",
    "       'White e4 e5 Nf3 Bc5', 'White e4 e5 Nf3 Nc6', 'White e4 e5 Nf3 Nf6',\n",
    "       'White e4 e5 Nf3 Qf6', 'White e4 e5 Nf3 d5', 'White e4 e5 Nf3 d6',\n",
    "       'White e4 e6 Nf3 d5', 'White e4 e6 d4 d5', 'White e4 g6 d4 Bg7'  ]]\n",
    "\n",
    "rapid = df[df[\"speed\"]==\"rapid\"][[ 'i_won','my_rank', 'enemy_rank','rank_difference', 'is_higher', 'movesperplayer', 'Gametime', 'timepermove','white_kingcastle', 'white_queencastle',\n",
    "       'black_kingcastle', 'black_queencastle', 'White_moves_before_castle', 'Black_moves_before_castle', 'no opens', 'Black c4 e5 Nc3 Nf6',\n",
    "       'Black d4 Nf6 Bf4 e6', 'Black d4 Nf6 Nf3 e6', 'Black d4 Nf6 c4 e6',\n",
    "       'Black d4 d5 Bf4 Nf6', 'Black d4 d5 c4 c6', 'Black e4 e5 Bc4 Nc6',\n",
    "       'Black e4 e5 Bc4 Nf6', 'Black e4 e5 Nc3 Nf6', 'Black e4 e5 Nf3 Nc6',\n",
    "       'Black e4 e5 Nf3 Nf6', 'Black e4 e5 d4 exd4', 'Black e4 e5 f4 d5',\n",
    "       'Black e4 e5 f4 exf4', 'Black e4 e6 Bc4 d5', 'Black e4 e6 Nc3 d5',\n",
    "       'Black e4 e6 Nf3 d5', 'Black e4 e6 d4 d5', 'Black e4 e6 e5 c5',\n",
    "       'Black g3 e5 Bg2 Nf6', 'White e4 c5 Nf3 Nc6', 'White e4 c5 Nf3 d6',\n",
    "       'White e4 c5 Nf3 e6', 'White e4 c6 Nf3 d5', 'White e4 c6 d4 d5',\n",
    "       'White e4 d5 Nf3 dxe4', 'White e4 d5 exd5 Nf6', 'White e4 d5 exd5 Qxd5',\n",
    "       'White e4 e5 Nc3 Nc6', 'White e4 e5 Nc3 Nf6', 'White e4 e5 Nc3 d6',\n",
    "       'White e4 e5 Nf3 Bc5', 'White e4 e5 Nf3 Nc6', 'White e4 e5 Nf3 Nf6',\n",
    "       'White e4 e5 Nf3 Qf6', 'White e4 e5 Nf3 d5', 'White e4 e5 Nf3 d6',\n",
    "       'White e4 e6 Nf3 d5', 'White e4 e6 d4 d5', 'White e4 g6 d4 Bg7'  ]]"
   ]
  },
  {
   "cell_type": "code",
   "execution_count": null,
   "id": "ef2212fc",
   "metadata": {},
   "outputs": [],
   "source": [
    "print(f\"blitz : {blitz.shape},\\nclassic: {classical.shape},\\nbullet: {bullet.shape},\\nrapid: {rapid.shape},\\nfull: {final_all.shape}\")"
   ]
  },
  {
   "cell_type": "code",
   "execution_count": null,
   "id": "92036698",
   "metadata": {},
   "outputs": [],
   "source": [
    "blitz.head(2)"
   ]
  },
  {
   "cell_type": "code",
   "execution_count": null,
   "id": "a2ccdbc8",
   "metadata": {},
   "outputs": [],
   "source": [
    "rapid.head(2)"
   ]
  },
  {
   "cell_type": "code",
   "execution_count": null,
   "id": "621b13e0",
   "metadata": {},
   "outputs": [],
   "source": [
    "df.speed.unique()"
   ]
  },
  {
   "cell_type": "code",
   "execution_count": null,
   "id": "eaedea0e",
   "metadata": {},
   "outputs": [],
   "source": [
    "game_modes = [blitz, classical, bullet, rapid, final_all]\n",
    "game_modes_fixed = []\n",
    "\n",
    "def fix_infinity():\n",
    "    for i in game_modes:\n",
    "        i = i[~i[\"timepermove\"].isin([np.inf, -np.inf])]\n",
    "        game_modes_fixed.append(i)\n",
    "    return game_modes_fixed\n",
    "\n",
    "all_fixed = fix_infinity()\n",
    "blitz, classical, bullet, rapid, final_all = all_fixed"
   ]
  },
  {
   "cell_type": "code",
   "execution_count": null,
   "id": "8f927692",
   "metadata": {},
   "outputs": [],
   "source": [
    "# blitz = blitz[~blitz[\"timepermove\"].isin([np.inf, -np.inf])]"
   ]
  },
  {
   "cell_type": "code",
   "execution_count": null,
   "id": "108d6034",
   "metadata": {},
   "outputs": [],
   "source": [
    "bullet[bullet['timepermove'] > 1000]"
   ]
  },
  {
   "cell_type": "code",
   "execution_count": null,
   "id": "9cb378e5",
   "metadata": {},
   "outputs": [],
   "source": [
    "# column definiton\n",
    "\"\"\"\n",
    "i_won - 0 -> I lost, 1-Draw, 2-I_Won\n",
    "is_higher -> is my rank higher than my enemy\n",
    "timepermove -> Gametime / movesperplayer\n",
    "White_moves_before_castle -> amount of white moves before castle\n",
    "no opens - no specyfic opening typed played by evilsainpl\n",
    "\"\"\""
   ]
  },
  {
   "cell_type": "code",
   "execution_count": null,
   "id": "de2cc899",
   "metadata": {},
   "outputs": [],
   "source": [
    "X = final_all[['my_rank', 'enemy_rank', 'rank_difference', 'is_higher', 'clock',\n",
    "       'movesperplayer', 'Gametime', 'timepermove', 'white_kingcastle',\n",
    "       'white_queencastle', 'black_kingcastle', 'black_queencastle',\n",
    "       'White_moves_before_castle', 'Black_moves_before_castle', 'no opens',\n",
    "       'Black c4 e5 Nc3 Nf6', 'Black d4 Nf6 Bf4 e6', 'Black d4 Nf6 Nf3 e6',\n",
    "       'Black d4 Nf6 c4 e6', 'Black d4 d5 Bf4 Nf6', 'Black d4 d5 c4 c6',\n",
    "       'Black e4 e5 Bc4 Nc6', 'Black e4 e5 Bc4 Nf6', 'Black e4 e5 Nc3 Nf6',\n",
    "       'Black e4 e5 Nf3 Nc6', 'Black e4 e5 Nf3 Nf6', 'Black e4 e5 d4 exd4',\n",
    "       'Black e4 e5 f4 d5', 'Black e4 e5 f4 exf4', 'Black e4 e6 Bc4 d5',\n",
    "       'Black e4 e6 Nc3 d5', 'Black e4 e6 Nf3 d5', 'Black e4 e6 d4 d5',\n",
    "       'Black e4 e6 e5 c5', 'Black g3 e5 Bg2 Nf6', 'White e4 c5 Nf3 Nc6',\n",
    "       'White e4 c5 Nf3 d6', 'White e4 c5 Nf3 e6', 'White e4 c6 Nf3 d5',\n",
    "       'White e4 c6 d4 d5', 'White e4 d5 Nf3 dxe4', 'White e4 d5 exd5 Nf6',\n",
    "       'White e4 d5 exd5 Qxd5', 'White e4 e5 Nc3 Nc6', 'White e4 e5 Nc3 Nf6',\n",
    "       'White e4 e5 Nc3 d6', 'White e4 e5 Nf3 Bc5', 'White e4 e5 Nf3 Nc6',\n",
    "       'White e4 e5 Nf3 Nf6', 'White e4 e5 Nf3 Qf6', 'White e4 e5 Nf3 d5',\n",
    "       'White e4 e5 Nf3 d6', 'White e4 e6 Nf3 d5', 'White e4 e6 d4 d5',\n",
    "       'White e4 g6 d4 Bg7']]\n",
    "\n",
    "y = final_all['i_won']"
   ]
  },
  {
   "cell_type": "code",
   "execution_count": null,
   "id": "599f43ca",
   "metadata": {},
   "outputs": [],
   "source": [
    "X_train, X_test, y_train, y_test = train_test_split(X, y, random_state = 0)"
   ]
  },
  {
   "cell_type": "code",
   "execution_count": null,
   "id": "39e8ad0d",
   "metadata": {},
   "outputs": [],
   "source": [
    "X.dtypes"
   ]
  },
  {
   "cell_type": "code",
   "execution_count": null,
   "id": "322c75ae",
   "metadata": {},
   "outputs": [],
   "source": [
    "import numpy as np\n",
    "from sklearn.ensemble import RandomForestClassifier\n",
    "from sklearn.model_selection import RandomizedSearchCV\n",
    "from sklearn.metrics import f1_score, precision_score, accuracy_score\n",
    "\n",
    "# Define the parameter grid for grid search\n",
    "param_dist = {\n",
    "    'n_estimators': np.arange(100, 500, 100),\n",
    "    'max_depth': np.arange(1, 70, 7),\n",
    "    'min_samples_leaf': np.arange(1, 70, 7),\n",
    "    'min_samples_split': np.arange(1, 70, 7),\n",
    "    'max_features': ['sqrt', 'log2']\n",
    "}\n",
    "\n",
    "# Create the Random Forest classifier\n",
    "rfc = RandomForestClassifier()\n",
    "\n",
    "# Create the randomized search object\n",
    "random_search = RandomizedSearchCV(rfc, param_distributions=param_dist, cv=5, n_iter=10)\n",
    "\n",
    "# Perform randomized search on the training data\n",
    "random_search.fit(X_train, y_train)\n",
    "\n",
    "# Get the best estimator and its corresponding parameters\n",
    "best_rf = random_search.best_estimator_\n",
    "print('Best Params: ', random_search.best_params_)\n",
    "\n",
    "# Fit the best estimator on the training data\n",
    "best_rf.fit(X_train, y_train)\n",
    "\n",
    "# Predict on the training and test data using the best estimator\n",
    "y_pred_train = best_rf.predict(X_train)\n",
    "y_pred = best_rf.predict(X_test)\n",
    "\n",
    "# Calculate the evaluation metrics\n",
    "print('Training Set Metrics:')\n",
    "print('f1_score:', f1_score(y_train, y_pred_train, average='weighted'))\n",
    "print('precision_score:', precision_score(y_train, y_pred_train, average='weighted'))\n",
    "print('accuracy_score:', accuracy_score(y_train, y_pred_train))\n",
    "\n",
    "# Test set\n",
    "print('Test Set Metrics:')\n",
    "print('f1_score:', f1_score(y_test, y_pred, average='weighted'))\n",
    "print('precision_score:', precision_score(y_test, y_pred, average='weighted'))\n",
    "print('accuracy_score:', accuracy_score(y_test, y_pred))"
   ]
  }
 ],
 "metadata": {
  "kernelspec": {
   "display_name": "Python 3 (ipykernel)",
   "language": "python",
   "name": "python3"
  },
  "language_info": {
   "codemirror_mode": {
    "name": "ipython",
    "version": 3
   },
   "file_extension": ".py",
   "mimetype": "text/x-python",
   "name": "python",
   "nbconvert_exporter": "python",
   "pygments_lexer": "ipython3",
   "version": "3.11.2"
  }
 },
 "nbformat": 4,
 "nbformat_minor": 5
}
