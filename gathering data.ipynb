{
 "cells": [
  {
   "cell_type": "code",
   "execution_count": 2,
   "id": "da080a8f",
   "metadata": {},
   "outputs": [],
   "source": [
    "token = \"lip_gPT8yQQYemHXfBNX2wwP\" # here should be lichess API token, but i will hide my token because its confidential data"
   ]
  },
  {
   "cell_type": "code",
   "execution_count": 3,
   "id": "1202eba0",
   "metadata": {},
   "outputs": [],
   "source": [
    "import pandas as pd\n",
    "import numpy as np\n",
    "import berserk\n",
    "import json"
   ]
  },
  {
   "cell_type": "code",
   "execution_count": 4,
   "id": "c1b35764",
   "metadata": {},
   "outputs": [],
   "source": [
    "session = berserk.TokenSession(token)\n",
    "client = berserk.Client(session=session)"
   ]
  },
  {
   "cell_type": "code",
   "execution_count": 5,
   "id": "315b3bc0",
   "metadata": {},
   "outputs": [],
   "source": [
    "duno = client.games.export_by_player('EvilSaintPL', max=500) # posible adding max=300, because without limit it takes some time"
   ]
  },
  {
   "cell_type": "code",
   "execution_count": 6,
   "id": "df98a4ed",
   "metadata": {},
   "outputs": [],
   "source": [
    "ranking_data = client.users.get_rating_history('EvilSaintPL')"
   ]
  },
  {
   "cell_type": "code",
   "execution_count": 7,
   "id": "92a685fd",
   "metadata": {},
   "outputs": [],
   "source": [
    "df1 = pd.read_json(json.dumps(list(duno), default=str))\n",
    "df = df1.copy()"
   ]
  },
  {
   "cell_type": "code",
   "execution_count": 8,
   "id": "7f99b438",
   "metadata": {},
   "outputs": [],
   "source": [
    "df = df1.copy()"
   ]
  },
  {
   "cell_type": "code",
   "execution_count": 9,
   "id": "d864c97d",
   "metadata": {
    "scrolled": true
   },
   "outputs": [
    {
     "data": {
      "text/html": [
       "<div>\n",
       "<style scoped>\n",
       "    .dataframe tbody tr th:only-of-type {\n",
       "        vertical-align: middle;\n",
       "    }\n",
       "\n",
       "    .dataframe tbody tr th {\n",
       "        vertical-align: top;\n",
       "    }\n",
       "\n",
       "    .dataframe thead th {\n",
       "        text-align: right;\n",
       "    }\n",
       "</style>\n",
       "<table border=\"1\" class=\"dataframe\">\n",
       "  <thead>\n",
       "    <tr style=\"text-align: right;\">\n",
       "      <th></th>\n",
       "      <th>id</th>\n",
       "      <th>rated</th>\n",
       "      <th>variant</th>\n",
       "      <th>speed</th>\n",
       "      <th>perf</th>\n",
       "      <th>createdAt</th>\n",
       "      <th>lastMoveAt</th>\n",
       "      <th>status</th>\n",
       "      <th>players</th>\n",
       "      <th>winner</th>\n",
       "      <th>moves</th>\n",
       "      <th>clock</th>\n",
       "      <th>tournament</th>\n",
       "      <th>initialFen</th>\n",
       "    </tr>\n",
       "  </thead>\n",
       "  <tbody>\n",
       "    <tr>\n",
       "      <th>0</th>\n",
       "      <td>zGIqZ3sO</td>\n",
       "      <td>True</td>\n",
       "      <td>standard</td>\n",
       "      <td>blitz</td>\n",
       "      <td>blitz</td>\n",
       "      <td>2023-07-01 17:31:52.480000+00:00</td>\n",
       "      <td>2023-07-01 17:41:22.575000+00:00</td>\n",
       "      <td>resign</td>\n",
       "      <td>{'white': {'user': {'name': 'Davidc323', 'patr...</td>\n",
       "      <td>black</td>\n",
       "      <td>d4 d5 e3 e5 dxe5 Nc6 Nf3 Bg4 Be2 Nge7 Nbd2 g6 ...</td>\n",
       "      <td>{'initial': 300, 'increment': 0, 'totalTime': ...</td>\n",
       "      <td>NaN</td>\n",
       "      <td>NaN</td>\n",
       "    </tr>\n",
       "  </tbody>\n",
       "</table>\n",
       "</div>"
      ],
      "text/plain": [
       "         id  rated   variant  speed   perf                         createdAt  \\\n",
       "0  zGIqZ3sO   True  standard  blitz  blitz  2023-07-01 17:31:52.480000+00:00   \n",
       "\n",
       "                         lastMoveAt  status  \\\n",
       "0  2023-07-01 17:41:22.575000+00:00  resign   \n",
       "\n",
       "                                             players winner  \\\n",
       "0  {'white': {'user': {'name': 'Davidc323', 'patr...  black   \n",
       "\n",
       "                                               moves  \\\n",
       "0  d4 d5 e3 e5 dxe5 Nc6 Nf3 Bg4 Be2 Nge7 Nbd2 g6 ...   \n",
       "\n",
       "                                               clock tournament initialFen  \n",
       "0  {'initial': 300, 'increment': 0, 'totalTime': ...        NaN        NaN  "
      ]
     },
     "execution_count": 9,
     "metadata": {},
     "output_type": "execute_result"
    }
   ],
   "source": [
    "df.head(1)\n",
    "# at this point im looing into data, and deciding what data do i need\n",
    "# in this case i dont need moves, only a amount of moves played by side\n",
    "# also its not important if was a game played in tourament\n",
    "# days per turn have value only for corespondic chess games so i can drop it too\n",
    "# swiss and initialFen also are not important\n",
    "# from players -> user i need only one result, so i will take name + will add ranking points to players\n",
    "# ratingDiff will be calculated later on my own"
   ]
  },
  {
   "cell_type": "code",
   "execution_count": 14,
   "id": "c3242d59",
   "metadata": {},
   "outputs": [
    {
     "data": {
      "text/plain": [
       "id              0\n",
       "rated           0\n",
       "variant         0\n",
       "speed           0\n",
       "perf            0\n",
       "createdAt       0\n",
       "lastMoveAt      0\n",
       "status          0\n",
       "players         0\n",
       "winner         27\n",
       "moves           0\n",
       "clock           0\n",
       "tournament    494\n",
       "initialFen    497\n",
       "dtype: int64"
      ]
     },
     "execution_count": 14,
     "metadata": {},
     "output_type": "execute_result"
    }
   ],
   "source": [
    "df.isna().sum()"
   ]
  },
  {
   "cell_type": "markdown",
   "id": "abd2ffa8",
   "metadata": {},
   "source": [
    "# dealing with moves, tournament and players columns"
   ]
  },
  {
   "cell_type": "code",
   "execution_count": 30,
   "id": "ecf3a00c",
   "metadata": {},
   "outputs": [],
   "source": [
    "df[\"movesperplayer\"] = df[\"moves\"].str.count(\" \")//2 # changing moves column to numer of moves instead of notation\n",
    "df.drop(\"tournament\", axis=1, inplace=True) # droping unnessesary column\n",
    "df.drop(\"initialFen\", axis=1, inplace=True)\n",
    "df.drop(\"swiss\", axis=1, inplace=True)\n",
    "df.drop(\"daysPerTurn\", axis=1, inplace=True)"
   ]
  },
  {
   "cell_type": "code",
   "execution_count": 32,
   "id": "65f62eb3",
   "metadata": {},
   "outputs": [
    {
     "data": {
      "text/plain": [
       "'outoftime'"
      ]
     },
     "execution_count": 32,
     "metadata": {},
     "output_type": "execute_result"
    }
   ],
   "source": [
    "df.iloc[0,7]"
   ]
  },
  {
   "cell_type": "code",
   "execution_count": 33,
   "id": "75e8ae9b",
   "metadata": {},
   "outputs": [],
   "source": [
    "def player(x: dict):\n",
    "    if ('white' in x.keys()) & ('black' in x.keys()):\n",
    "        if (\"user\" in x[\"white\"].keys()) & (\"user\" in x[\"black\"].keys()):\n",
    "            plyer_data = {\n",
    "                \"white_player_name\" : x['white']['user']['name'],\n",
    "                \"white_ranking\" : x['white']['rating'],\n",
    "                \"black_player_name\" : x['black']['user']['name'],\n",
    "                \"black_ranking\" : x['black']['rating']\n",
    "            }\n",
    "        elif (\"user\" in x[\"white\"].keys()):\n",
    "            plyer_data = {\n",
    "                \"white_player_name\" : x['white']['user']['name'],\n",
    "                \"white_ranking\" : x['white']['rating'],\n",
    "               \"black_player_name\" : \"unknown\",\n",
    "                \"black_ranking\" : 0\n",
    "            }\n",
    "        elif (\"user\" in x[\"black\"].keys()):\n",
    "            plyer_data = {\n",
    "                \"black_player_name\" : x['black']['user']['name'],\n",
    "                \"black_ranking\" : x['black']['rating'],\n",
    "                \"white_player_name\" : \"unknown\",\n",
    "                \"white_ranking\" : 0\n",
    "            }\n",
    "    else:\n",
    "        plyer_data = {\"white_player_name\":\"unknown\",\"white_ranking\":0,\"black_player_name\":unknown,\"black_ranking\":0}\n",
    "    result = pd.DataFrame(plyer_data, index=[0])\n",
    "    return result\n"
   ]
  },
  {
   "cell_type": "code",
   "execution_count": 34,
   "id": "c8e122a7",
   "metadata": {},
   "outputs": [
    {
     "data": {
      "text/plain": [
       "'outoftime'"
      ]
     },
     "execution_count": 34,
     "metadata": {},
     "output_type": "execute_result"
    }
   ],
   "source": [
    "df.iloc[0,7]"
   ]
  },
  {
   "cell_type": "code",
   "execution_count": 35,
   "id": "2c062c18",
   "metadata": {},
   "outputs": [],
   "source": [
    "c = [\"white_player_name\",\"white_ranking\",\"black_player_name\",\"black_ranking\"]\n",
    "finit = df[\"players\"].apply(player)\n",
    "result=pd.DataFrame(columns=c)\n",
    "for i in range(len(finit)):\n",
    "    result = pd.concat([result, finit[i]])\n",
    "result =result.reset_index().drop(\"index\", axis=1)\n",
    "df = pd.concat([df, result], axis=1)  # adding separated players columns \n",
    "df.drop(\"players\", axis=1, inplace=True) # droping players column"
   ]
  },
  {
   "cell_type": "code",
   "execution_count": 36,
   "id": "b88b1d59",
   "metadata": {},
   "outputs": [
    {
     "data": {
      "text/html": [
       "<div>\n",
       "<style scoped>\n",
       "    .dataframe tbody tr th:only-of-type {\n",
       "        vertical-align: middle;\n",
       "    }\n",
       "\n",
       "    .dataframe tbody tr th {\n",
       "        vertical-align: top;\n",
       "    }\n",
       "\n",
       "    .dataframe thead th {\n",
       "        text-align: right;\n",
       "    }\n",
       "</style>\n",
       "<table border=\"1\" class=\"dataframe\">\n",
       "  <thead>\n",
       "    <tr style=\"text-align: right;\">\n",
       "      <th></th>\n",
       "      <th>id</th>\n",
       "      <th>rated</th>\n",
       "      <th>variant</th>\n",
       "      <th>speed</th>\n",
       "      <th>perf</th>\n",
       "      <th>createdAt</th>\n",
       "      <th>lastMoveAt</th>\n",
       "      <th>status</th>\n",
       "      <th>winner</th>\n",
       "      <th>moves</th>\n",
       "      <th>clock</th>\n",
       "      <th>movesperplayer</th>\n",
       "      <th>white_player_name</th>\n",
       "      <th>white_ranking</th>\n",
       "      <th>black_player_name</th>\n",
       "      <th>black_ranking</th>\n",
       "    </tr>\n",
       "  </thead>\n",
       "  <tbody>\n",
       "    <tr>\n",
       "      <th>0</th>\n",
       "      <td>O83cQxfo</td>\n",
       "      <td>True</td>\n",
       "      <td>standard</td>\n",
       "      <td>blitz</td>\n",
       "      <td>blitz</td>\n",
       "      <td>2023-06-28 00:33:43.673000+00:00</td>\n",
       "      <td>2023-06-28 00:44:00.722000+00:00</td>\n",
       "      <td>outoftime</td>\n",
       "      <td>white</td>\n",
       "      <td>e4 e5 Nf3 Nc6 Bc4 Nf6 d4 exd4 e5 d5 exd6 Qxd6 ...</td>\n",
       "      <td>{'initial': 300, 'increment': 0, 'totalTime': ...</td>\n",
       "      <td>70</td>\n",
       "      <td>EvilSaintPL</td>\n",
       "      <td>1753</td>\n",
       "      <td>Leosammie</td>\n",
       "      <td>1735</td>\n",
       "    </tr>\n",
       "    <tr>\n",
       "      <th>1</th>\n",
       "      <td>KeBcqcHz</td>\n",
       "      <td>True</td>\n",
       "      <td>standard</td>\n",
       "      <td>blitz</td>\n",
       "      <td>blitz</td>\n",
       "      <td>2023-06-28 00:31:45.081000+00:00</td>\n",
       "      <td>2023-06-28 00:33:30.178000+00:00</td>\n",
       "      <td>resign</td>\n",
       "      <td>white</td>\n",
       "      <td>Nf3 Nc6 g3 e5 Bg2 e4 Ng1 d5 d3 f5 dxe4 fxe4 Nc...</td>\n",
       "      <td>{'initial': 300, 'increment': 0, 'totalTime': ...</td>\n",
       "      <td>18</td>\n",
       "      <td>convict-19</td>\n",
       "      <td>1801</td>\n",
       "      <td>EvilSaintPL</td>\n",
       "      <td>1758</td>\n",
       "    </tr>\n",
       "  </tbody>\n",
       "</table>\n",
       "</div>"
      ],
      "text/plain": [
       "         id  rated   variant  speed   perf                         createdAt  \\\n",
       "0  O83cQxfo   True  standard  blitz  blitz  2023-06-28 00:33:43.673000+00:00   \n",
       "1  KeBcqcHz   True  standard  blitz  blitz  2023-06-28 00:31:45.081000+00:00   \n",
       "\n",
       "                         lastMoveAt     status winner  \\\n",
       "0  2023-06-28 00:44:00.722000+00:00  outoftime  white   \n",
       "1  2023-06-28 00:33:30.178000+00:00     resign  white   \n",
       "\n",
       "                                               moves  \\\n",
       "0  e4 e5 Nf3 Nc6 Bc4 Nf6 d4 exd4 e5 d5 exd6 Qxd6 ...   \n",
       "1  Nf3 Nc6 g3 e5 Bg2 e4 Ng1 d5 d3 f5 dxe4 fxe4 Nc...   \n",
       "\n",
       "                                               clock  movesperplayer  \\\n",
       "0  {'initial': 300, 'increment': 0, 'totalTime': ...              70   \n",
       "1  {'initial': 300, 'increment': 0, 'totalTime': ...              18   \n",
       "\n",
       "  white_player_name white_ranking black_player_name black_ranking  \n",
       "0       EvilSaintPL          1753         Leosammie          1735  \n",
       "1        convict-19          1801       EvilSaintPL          1758  "
      ]
     },
     "execution_count": 36,
     "metadata": {},
     "output_type": "execute_result"
    }
   ],
   "source": [
    "df.head(2)"
   ]
  },
  {
   "cell_type": "markdown",
   "id": "61ce0610",
   "metadata": {},
   "source": [
    "# dealing with clock and perf column"
   ]
  },
  {
   "cell_type": "code",
   "execution_count": 37,
   "id": "cfdafc1b",
   "metadata": {
    "scrolled": false
   },
   "outputs": [
    {
     "data": {
      "text/plain": [
       "{'initial': 300, 'increment': 0, 'totalTime': 300}"
      ]
     },
     "execution_count": 37,
     "metadata": {},
     "output_type": "execute_result"
    }
   ],
   "source": [
    "df.iloc[0,10]"
   ]
  },
  {
   "cell_type": "code",
   "execution_count": 38,
   "id": "f5527a1c",
   "metadata": {},
   "outputs": [],
   "source": [
    "def clock(x):\n",
    "    if type(x)==dict:\n",
    "        if 'initial' in x.keys():\n",
    "            return x[\"initial\"]\n",
    "    else:\n",
    "        return 0"
   ]
  },
  {
   "cell_type": "code",
   "execution_count": 39,
   "id": "f41e0a6b",
   "metadata": {},
   "outputs": [],
   "source": [
    "df[\"clock\"]=df[\"clock\"].apply(clock)"
   ]
  },
  {
   "cell_type": "markdown",
   "id": "bb20fdfd",
   "metadata": {},
   "source": [
    "# deling with time columns and simple cleaning"
   ]
  },
  {
   "cell_type": "code",
   "execution_count": 40,
   "id": "2e5f360b",
   "metadata": {},
   "outputs": [],
   "source": [
    "df[\"createdAt\"] = df[\"createdAt\"].apply(lambda x: pd.to_datetime(x).tz_convert('Europe/Berlin'))\n",
    "df[\"lastMoveAt\"] = df[\"lastMoveAt\"].apply(lambda x: pd.to_datetime(x).tz_convert('Europe/Berlin'))"
   ]
  },
  {
   "cell_type": "code",
   "execution_count": 41,
   "id": "8758e4c2",
   "metadata": {},
   "outputs": [
    {
     "data": {
      "text/html": [
       "<div>\n",
       "<style scoped>\n",
       "    .dataframe tbody tr th:only-of-type {\n",
       "        vertical-align: middle;\n",
       "    }\n",
       "\n",
       "    .dataframe tbody tr th {\n",
       "        vertical-align: top;\n",
       "    }\n",
       "\n",
       "    .dataframe thead th {\n",
       "        text-align: right;\n",
       "    }\n",
       "</style>\n",
       "<table border=\"1\" class=\"dataframe\">\n",
       "  <thead>\n",
       "    <tr style=\"text-align: right;\">\n",
       "      <th></th>\n",
       "      <th>id</th>\n",
       "      <th>rated</th>\n",
       "      <th>variant</th>\n",
       "      <th>speed</th>\n",
       "      <th>perf</th>\n",
       "      <th>createdAt</th>\n",
       "      <th>lastMoveAt</th>\n",
       "      <th>status</th>\n",
       "      <th>winner</th>\n",
       "      <th>moves</th>\n",
       "      <th>clock</th>\n",
       "      <th>movesperplayer</th>\n",
       "      <th>white_player_name</th>\n",
       "      <th>white_ranking</th>\n",
       "      <th>black_player_name</th>\n",
       "      <th>black_ranking</th>\n",
       "    </tr>\n",
       "  </thead>\n",
       "  <tbody>\n",
       "    <tr>\n",
       "      <th>0</th>\n",
       "      <td>O83cQxfo</td>\n",
       "      <td>True</td>\n",
       "      <td>standard</td>\n",
       "      <td>blitz</td>\n",
       "      <td>blitz</td>\n",
       "      <td>2023-06-28 02:33:43.673000+02:00</td>\n",
       "      <td>2023-06-28 02:44:00.722000+02:00</td>\n",
       "      <td>outoftime</td>\n",
       "      <td>white</td>\n",
       "      <td>e4 e5 Nf3 Nc6 Bc4 Nf6 d4 exd4 e5 d5 exd6 Qxd6 ...</td>\n",
       "      <td>300</td>\n",
       "      <td>70</td>\n",
       "      <td>EvilSaintPL</td>\n",
       "      <td>1753</td>\n",
       "      <td>Leosammie</td>\n",
       "      <td>1735</td>\n",
       "    </tr>\n",
       "    <tr>\n",
       "      <th>1</th>\n",
       "      <td>KeBcqcHz</td>\n",
       "      <td>True</td>\n",
       "      <td>standard</td>\n",
       "      <td>blitz</td>\n",
       "      <td>blitz</td>\n",
       "      <td>2023-06-28 02:31:45.081000+02:00</td>\n",
       "      <td>2023-06-28 02:33:30.178000+02:00</td>\n",
       "      <td>resign</td>\n",
       "      <td>white</td>\n",
       "      <td>Nf3 Nc6 g3 e5 Bg2 e4 Ng1 d5 d3 f5 dxe4 fxe4 Nc...</td>\n",
       "      <td>300</td>\n",
       "      <td>18</td>\n",
       "      <td>convict-19</td>\n",
       "      <td>1801</td>\n",
       "      <td>EvilSaintPL</td>\n",
       "      <td>1758</td>\n",
       "    </tr>\n",
       "  </tbody>\n",
       "</table>\n",
       "</div>"
      ],
      "text/plain": [
       "         id  rated   variant  speed   perf                        createdAt  \\\n",
       "0  O83cQxfo   True  standard  blitz  blitz 2023-06-28 02:33:43.673000+02:00   \n",
       "1  KeBcqcHz   True  standard  blitz  blitz 2023-06-28 02:31:45.081000+02:00   \n",
       "\n",
       "                        lastMoveAt     status winner  \\\n",
       "0 2023-06-28 02:44:00.722000+02:00  outoftime  white   \n",
       "1 2023-06-28 02:33:30.178000+02:00     resign  white   \n",
       "\n",
       "                                               moves  clock  movesperplayer  \\\n",
       "0  e4 e5 Nf3 Nc6 Bc4 Nf6 d4 exd4 e5 d5 exd6 Qxd6 ...    300              70   \n",
       "1  Nf3 Nc6 g3 e5 Bg2 e4 Ng1 d5 d3 f5 dxe4 fxe4 Nc...    300              18   \n",
       "\n",
       "  white_player_name white_ranking black_player_name black_ranking  \n",
       "0       EvilSaintPL          1753         Leosammie          1735  \n",
       "1        convict-19          1801       EvilSaintPL          1758  "
      ]
     },
     "execution_count": 41,
     "metadata": {},
     "output_type": "execute_result"
    }
   ],
   "source": [
    "df.head(2)"
   ]
  },
  {
   "cell_type": "code",
   "execution_count": 42,
   "id": "bd21397d",
   "metadata": {},
   "outputs": [
    {
     "data": {
      "text/plain": [
       "802"
      ]
     },
     "execution_count": 42,
     "metadata": {},
     "output_type": "execute_result"
    }
   ],
   "source": [
    "df.status[df.status=='outoftime'].count()"
   ]
  },
  {
   "cell_type": "code",
   "execution_count": 43,
   "id": "4afaa4f9",
   "metadata": {},
   "outputs": [],
   "source": [
    "df.drop(df[df.variant!=\"standard\"].index, inplace=True)"
   ]
  },
  {
   "cell_type": "code",
   "execution_count": 44,
   "id": "ddc55a57",
   "metadata": {},
   "outputs": [],
   "source": [
    "df.drop(df[df.speed==\"correspondence\"].index, inplace=True)\n",
    "df.drop(df[df.speed=='ultraBullet'].index, inplace=True)"
   ]
  },
  {
   "cell_type": "code",
   "execution_count": 45,
   "id": "b34d7b6d",
   "metadata": {},
   "outputs": [],
   "source": [
    "df.drop(\"perf\", axis=1, inplace=True)"
   ]
  },
  {
   "cell_type": "code",
   "execution_count": 46,
   "id": "f7ec5189",
   "metadata": {},
   "outputs": [],
   "source": [
    "df.drop(df[df.status==\"noStart\"].index, inplace=True)"
   ]
  },
  {
   "cell_type": "code",
   "execution_count": 47,
   "id": "82ee8bd6",
   "metadata": {},
   "outputs": [
    {
     "data": {
      "text/html": [
       "<div>\n",
       "<style scoped>\n",
       "    .dataframe tbody tr th:only-of-type {\n",
       "        vertical-align: middle;\n",
       "    }\n",
       "\n",
       "    .dataframe tbody tr th {\n",
       "        vertical-align: top;\n",
       "    }\n",
       "\n",
       "    .dataframe thead th {\n",
       "        text-align: right;\n",
       "    }\n",
       "</style>\n",
       "<table border=\"1\" class=\"dataframe\">\n",
       "  <thead>\n",
       "    <tr style=\"text-align: right;\">\n",
       "      <th></th>\n",
       "      <th>id</th>\n",
       "      <th>rated</th>\n",
       "      <th>variant</th>\n",
       "      <th>speed</th>\n",
       "      <th>createdAt</th>\n",
       "      <th>lastMoveAt</th>\n",
       "      <th>status</th>\n",
       "      <th>winner</th>\n",
       "      <th>moves</th>\n",
       "      <th>clock</th>\n",
       "      <th>movesperplayer</th>\n",
       "      <th>white_player_name</th>\n",
       "      <th>white_ranking</th>\n",
       "      <th>black_player_name</th>\n",
       "      <th>black_ranking</th>\n",
       "    </tr>\n",
       "  </thead>\n",
       "  <tbody>\n",
       "    <tr>\n",
       "      <th>0</th>\n",
       "      <td>O83cQxfo</td>\n",
       "      <td>True</td>\n",
       "      <td>standard</td>\n",
       "      <td>blitz</td>\n",
       "      <td>2023-06-28 02:33:43.673000+02:00</td>\n",
       "      <td>2023-06-28 02:44:00.722000+02:00</td>\n",
       "      <td>outoftime</td>\n",
       "      <td>white</td>\n",
       "      <td>e4 e5 Nf3 Nc6 Bc4 Nf6 d4 exd4 e5 d5 exd6 Qxd6 ...</td>\n",
       "      <td>300</td>\n",
       "      <td>70</td>\n",
       "      <td>EvilSaintPL</td>\n",
       "      <td>1753</td>\n",
       "      <td>Leosammie</td>\n",
       "      <td>1735</td>\n",
       "    </tr>\n",
       "    <tr>\n",
       "      <th>1</th>\n",
       "      <td>KeBcqcHz</td>\n",
       "      <td>True</td>\n",
       "      <td>standard</td>\n",
       "      <td>blitz</td>\n",
       "      <td>2023-06-28 02:31:45.081000+02:00</td>\n",
       "      <td>2023-06-28 02:33:30.178000+02:00</td>\n",
       "      <td>resign</td>\n",
       "      <td>white</td>\n",
       "      <td>Nf3 Nc6 g3 e5 Bg2 e4 Ng1 d5 d3 f5 dxe4 fxe4 Nc...</td>\n",
       "      <td>300</td>\n",
       "      <td>18</td>\n",
       "      <td>convict-19</td>\n",
       "      <td>1801</td>\n",
       "      <td>EvilSaintPL</td>\n",
       "      <td>1758</td>\n",
       "    </tr>\n",
       "  </tbody>\n",
       "</table>\n",
       "</div>"
      ],
      "text/plain": [
       "         id  rated   variant  speed                        createdAt  \\\n",
       "0  O83cQxfo   True  standard  blitz 2023-06-28 02:33:43.673000+02:00   \n",
       "1  KeBcqcHz   True  standard  blitz 2023-06-28 02:31:45.081000+02:00   \n",
       "\n",
       "                        lastMoveAt     status winner  \\\n",
       "0 2023-06-28 02:44:00.722000+02:00  outoftime  white   \n",
       "1 2023-06-28 02:33:30.178000+02:00     resign  white   \n",
       "\n",
       "                                               moves  clock  movesperplayer  \\\n",
       "0  e4 e5 Nf3 Nc6 Bc4 Nf6 d4 exd4 e5 d5 exd6 Qxd6 ...    300              70   \n",
       "1  Nf3 Nc6 g3 e5 Bg2 e4 Ng1 d5 d3 f5 dxe4 fxe4 Nc...    300              18   \n",
       "\n",
       "  white_player_name white_ranking black_player_name black_ranking  \n",
       "0       EvilSaintPL          1753         Leosammie          1735  \n",
       "1        convict-19          1801       EvilSaintPL          1758  "
      ]
     },
     "execution_count": 47,
     "metadata": {},
     "output_type": "execute_result"
    }
   ],
   "source": [
    "df.head(2)"
   ]
  },
  {
   "cell_type": "code",
   "execution_count": 48,
   "id": "30d61625",
   "metadata": {},
   "outputs": [],
   "source": [
    "df.to_csv('Chess_data_basic.csv')"
   ]
  },
  {
   "cell_type": "code",
   "execution_count": null,
   "id": "e3e120c3",
   "metadata": {},
   "outputs": [],
   "source": []
  }
 ],
 "metadata": {
  "kernelspec": {
   "display_name": "Python 3 (ipykernel)",
   "language": "python",
   "name": "python3"
  },
  "language_info": {
   "codemirror_mode": {
    "name": "ipython",
    "version": 3
   },
   "file_extension": ".py",
   "mimetype": "text/x-python",
   "name": "python",
   "nbconvert_exporter": "python",
   "pygments_lexer": "ipython3",
   "version": "3.10.4"
  }
 },
 "nbformat": 4,
 "nbformat_minor": 5
}
