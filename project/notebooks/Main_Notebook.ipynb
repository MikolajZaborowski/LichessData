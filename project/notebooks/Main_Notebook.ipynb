{
 "cells": [
  {
   "cell_type": "markdown",
   "id": "85f0c5c6",
   "metadata": {},
   "source": [
    "# In this file:\n",
    "\n",
    "* Basic data analysis\n",
    "* Feature enginiring\n",
    "* Feature selection\n",
    "* models testing\n",
    "* creating best models\n",
    "* basic NN classifier\n",
    "* saving data for visualizations and modeling"
   ]
  },
  {
   "cell_type": "code",
   "execution_count": 1,
   "id": "b902a2f0",
   "metadata": {},
   "outputs": [],
   "source": [
    "import pprint\n",
    "from xgboost import XGBClassifier\n",
    "import pandas as pd\n",
    "import numpy as np\n",
    "import matplotlib.pyplot as plt\n",
    "import seaborn as sns\n",
    "from sklearn.tree import plot_tree\n",
    "\n",
    "from sklearn.model_selection import train_test_split\n",
    "# Regression\n",
    "from sklearn.ensemble import RandomForestRegressor\n",
    "from sklearn.neighbors import KNeighborsRegressor\n",
    "from sklearn.neural_network import MLPRegressor\n",
    "from sklearn.metrics import mean_absolute_error, r2_score, mean_squared_error\n",
    "# Clasification\n",
    "from sklearn.ensemble import RandomForestClassifier\n",
    "from sklearn.metrics import f1_score, precision_score, accuracy_score\n",
    "# Best_searches\n",
    "from sklearn.model_selection import GridSearchCV\n",
    "from sklearn.model_selection import RandomizedSearchCV\n",
    "# Standarization\n",
    "from sklearn.preprocessing import StandardScaler\n",
    "\n",
    "from keras import models\n",
    "from keras.layers import Dense\n",
    "from sklearn.preprocessing import MinMaxScaler\n",
    "from sklearn.preprocessing import StandardScaler\n",
    "from sklearn.ensemble import RandomForestClassifier\n",
    "from sklearn.linear_model import LogisticRegression\n",
    "from sklearn.neighbors import KNeighborsClassifier\n",
    "from sklearn.svm import SVC\n",
    "from sklearn.metrics import f1_score, precision_score, accuracy_score\n",
    "from sklearn.model_selection import train_test_split, RandomizedSearchCV\n",
    "import numpy as np\n",
    "\n",
    "import numpy as np\n",
    "from sklearn.ensemble import RandomForestClassifier\n",
    "from sklearn.model_selection import RandomizedSearchCV\n",
    "from sklearn.metrics import f1_score, precision_score, accuracy_score\n",
    "from sklearn.tree import DecisionTreeClassifier\n",
    "\n",
    "from sklearn.neighbors import KNeighborsClassifier\n",
    "from sklearn.naive_bayes import GaussianNB\n",
    "from sklearn.model_selection import train_test_split\n",
    "from sklearn.metrics import accuracy_score\n",
    "from sklearn.ensemble import GradientBoostingClassifier\n",
    "from sklearn.naive_bayes import BernoulliNB\n",
    "from sklearn.metrics import classification_report\n",
    "from sklearn.model_selection import GridSearchCV\n",
    "from sklearn.metrics import confusion_matrix\n",
    "from xgboost import XGBClassifier\n",
    "from sklearn import tree, ensemble, naive_bayes, neighbors, semi_supervised, discriminant_analysis, svm, linear_model, neural_network"
   ]
  },
  {
   "cell_type": "code",
   "execution_count": 2,
   "id": "31e086c4",
   "metadata": {},
   "outputs": [],
   "source": [
    "import ssl\n",
    "ssl._create_default_https_context = ssl._create_unverified_context\n",
    "import pandas as pd\n",
    "import numpy as np\n",
    "import arrow\n",
    "pd.set_option('display.max_columns', None)"
   ]
  },
  {
   "cell_type": "code",
   "execution_count": 3,
   "id": "05cf566e",
   "metadata": {},
   "outputs": [],
   "source": [
    "file_path = '../data/Chess_data_basic.csv'"
   ]
  },
  {
   "cell_type": "code",
   "execution_count": 4,
   "id": "c6358258",
   "metadata": {},
   "outputs": [],
   "source": [
    "df = pd.read_csv(file_path, index_col = \"Unnamed: 0\")"
   ]
  },
  {
   "cell_type": "code",
   "execution_count": 5,
   "id": "f223f719",
   "metadata": {},
   "outputs": [
    {
     "data": {
      "text/html": [
       "<div>\n",
       "<style scoped>\n",
       "    .dataframe tbody tr th:only-of-type {\n",
       "        vertical-align: middle;\n",
       "    }\n",
       "\n",
       "    .dataframe tbody tr th {\n",
       "        vertical-align: top;\n",
       "    }\n",
       "\n",
       "    .dataframe thead th {\n",
       "        text-align: right;\n",
       "    }\n",
       "</style>\n",
       "<table border=\"1\" class=\"dataframe\">\n",
       "  <thead>\n",
       "    <tr style=\"text-align: right;\">\n",
       "      <th></th>\n",
       "      <th>id</th>\n",
       "      <th>rated</th>\n",
       "      <th>variant</th>\n",
       "      <th>speed</th>\n",
       "      <th>createdAt</th>\n",
       "      <th>lastMoveAt</th>\n",
       "      <th>status</th>\n",
       "      <th>winner</th>\n",
       "      <th>moves</th>\n",
       "      <th>clock</th>\n",
       "      <th>movesperplayer</th>\n",
       "      <th>white_player_name</th>\n",
       "      <th>white_ranking</th>\n",
       "      <th>black_player_name</th>\n",
       "      <th>black_ranking</th>\n",
       "    </tr>\n",
       "  </thead>\n",
       "  <tbody>\n",
       "    <tr>\n",
       "      <th>0</th>\n",
       "      <td>O83cQxfo</td>\n",
       "      <td>True</td>\n",
       "      <td>standard</td>\n",
       "      <td>blitz</td>\n",
       "      <td>2023-06-28 02:33:43.673000+02:00</td>\n",
       "      <td>2023-06-28 02:44:00.722000+02:00</td>\n",
       "      <td>outoftime</td>\n",
       "      <td>white</td>\n",
       "      <td>e4 e5 Nf3 Nc6 Bc4 Nf6 d4 exd4 e5 d5 exd6 Qxd6 ...</td>\n",
       "      <td>300</td>\n",
       "      <td>70</td>\n",
       "      <td>EvilSaintPL</td>\n",
       "      <td>1753</td>\n",
       "      <td>Leosammie</td>\n",
       "      <td>1735</td>\n",
       "    </tr>\n",
       "    <tr>\n",
       "      <th>1</th>\n",
       "      <td>KeBcqcHz</td>\n",
       "      <td>True</td>\n",
       "      <td>standard</td>\n",
       "      <td>blitz</td>\n",
       "      <td>2023-06-28 02:31:45.081000+02:00</td>\n",
       "      <td>2023-06-28 02:33:30.178000+02:00</td>\n",
       "      <td>resign</td>\n",
       "      <td>white</td>\n",
       "      <td>Nf3 Nc6 g3 e5 Bg2 e4 Ng1 d5 d3 f5 dxe4 fxe4 Nc...</td>\n",
       "      <td>300</td>\n",
       "      <td>18</td>\n",
       "      <td>convict-19</td>\n",
       "      <td>1801</td>\n",
       "      <td>EvilSaintPL</td>\n",
       "      <td>1758</td>\n",
       "    </tr>\n",
       "  </tbody>\n",
       "</table>\n",
       "</div>"
      ],
      "text/plain": [
       "         id  rated   variant  speed                         createdAt  \\\n",
       "0  O83cQxfo   True  standard  blitz  2023-06-28 02:33:43.673000+02:00   \n",
       "1  KeBcqcHz   True  standard  blitz  2023-06-28 02:31:45.081000+02:00   \n",
       "\n",
       "                         lastMoveAt     status winner  \\\n",
       "0  2023-06-28 02:44:00.722000+02:00  outoftime  white   \n",
       "1  2023-06-28 02:33:30.178000+02:00     resign  white   \n",
       "\n",
       "                                               moves  clock  movesperplayer  \\\n",
       "0  e4 e5 Nf3 Nc6 Bc4 Nf6 d4 exd4 e5 d5 exd6 Qxd6 ...    300              70   \n",
       "1  Nf3 Nc6 g3 e5 Bg2 e4 Ng1 d5 d3 f5 dxe4 fxe4 Nc...    300              18   \n",
       "\n",
       "  white_player_name  white_ranking black_player_name  black_ranking  \n",
       "0       EvilSaintPL           1753         Leosammie           1735  \n",
       "1        convict-19           1801       EvilSaintPL           1758  "
      ]
     },
     "execution_count": 5,
     "metadata": {},
     "output_type": "execute_result"
    }
   ],
   "source": [
    "df.head(2)"
   ]
  },
  {
   "cell_type": "markdown",
   "id": "050a6b87",
   "metadata": {},
   "source": [
    "## Basic data manipulations"
   ]
  },
  {
   "cell_type": "code",
   "execution_count": 6,
   "id": "9d64554c",
   "metadata": {},
   "outputs": [
    {
     "data": {
      "text/plain": [
       "4789"
      ]
     },
     "execution_count": 6,
     "metadata": {},
     "output_type": "execute_result"
    }
   ],
   "source": [
    "len(set(df[\"black_player_name\"]+df[\"white_player_name\"]))"
   ]
  },
  {
   "cell_type": "code",
   "execution_count": 7,
   "id": "9ad84cb0",
   "metadata": {},
   "outputs": [
    {
     "data": {
      "text/plain": [
       "id                     0\n",
       "rated                  0\n",
       "variant                0\n",
       "speed                  0\n",
       "createdAt              0\n",
       "lastMoveAt             0\n",
       "status                 0\n",
       "winner               250\n",
       "moves                  1\n",
       "clock                  0\n",
       "movesperplayer         0\n",
       "white_player_name      0\n",
       "white_ranking          0\n",
       "black_player_name      0\n",
       "black_ranking          0\n",
       "dtype: int64"
      ]
     },
     "execution_count": 7,
     "metadata": {},
     "output_type": "execute_result"
    }
   ],
   "source": [
    "df.isna().sum()"
   ]
  },
  {
   "cell_type": "code",
   "execution_count": 8,
   "id": "f36519ee",
   "metadata": {},
   "outputs": [
    {
     "data": {
      "text/html": [
       "<div>\n",
       "<style scoped>\n",
       "    .dataframe tbody tr th:only-of-type {\n",
       "        vertical-align: middle;\n",
       "    }\n",
       "\n",
       "    .dataframe tbody tr th {\n",
       "        vertical-align: top;\n",
       "    }\n",
       "\n",
       "    .dataframe thead th {\n",
       "        text-align: right;\n",
       "    }\n",
       "</style>\n",
       "<table border=\"1\" class=\"dataframe\">\n",
       "  <thead>\n",
       "    <tr style=\"text-align: right;\">\n",
       "      <th></th>\n",
       "      <th>id</th>\n",
       "      <th>rated</th>\n",
       "      <th>variant</th>\n",
       "      <th>speed</th>\n",
       "      <th>createdAt</th>\n",
       "      <th>lastMoveAt</th>\n",
       "      <th>status</th>\n",
       "      <th>winner</th>\n",
       "      <th>moves</th>\n",
       "      <th>clock</th>\n",
       "      <th>movesperplayer</th>\n",
       "      <th>white_player_name</th>\n",
       "      <th>white_ranking</th>\n",
       "      <th>black_player_name</th>\n",
       "      <th>black_ranking</th>\n",
       "    </tr>\n",
       "  </thead>\n",
       "  <tbody>\n",
       "    <tr>\n",
       "      <th>2723</th>\n",
       "      <td>8aopWTpz</td>\n",
       "      <td>True</td>\n",
       "      <td>standard</td>\n",
       "      <td>bullet</td>\n",
       "      <td>2020-11-12 17:19:50.287000+01:00</td>\n",
       "      <td>2020-11-12 17:19:50.287000+01:00</td>\n",
       "      <td>resign</td>\n",
       "      <td>white</td>\n",
       "      <td>NaN</td>\n",
       "      <td>60</td>\n",
       "      <td>0</td>\n",
       "      <td>asev123</td>\n",
       "      <td>1139</td>\n",
       "      <td>EvilSaintPL</td>\n",
       "      <td>1319</td>\n",
       "    </tr>\n",
       "  </tbody>\n",
       "</table>\n",
       "</div>"
      ],
      "text/plain": [
       "            id  rated   variant   speed                         createdAt  \\\n",
       "2723  8aopWTpz   True  standard  bullet  2020-11-12 17:19:50.287000+01:00   \n",
       "\n",
       "                            lastMoveAt  status winner moves  clock  \\\n",
       "2723  2020-11-12 17:19:50.287000+01:00  resign  white   NaN     60   \n",
       "\n",
       "      movesperplayer white_player_name  white_ranking black_player_name  \\\n",
       "2723               0           asev123           1139       EvilSaintPL   \n",
       "\n",
       "      black_ranking  \n",
       "2723           1319  "
      ]
     },
     "execution_count": 8,
     "metadata": {},
     "output_type": "execute_result"
    }
   ],
   "source": [
    "df[df[\"moves\"].isna()]"
   ]
  },
  {
   "cell_type": "markdown",
   "id": "7ecc004e",
   "metadata": {},
   "source": [
    "### Nan value exist in winner and moves columns \n",
    "Nan in winner means game ended in a draw \\\n",
    "in Moves column Nan mean game ended without any move played so its not important for analysis or modeling\n"
   ]
  },
  {
   "cell_type": "code",
   "execution_count": 9,
   "id": "08e68840",
   "metadata": {},
   "outputs": [],
   "source": [
    "df.dropna(subset=['moves'],inplace=True) # delating nan values\n",
    "df[\"winner\"] = df[\"winner\"].fillna(\"draw\") # changing "
   ]
  },
  {
   "cell_type": "code",
   "execution_count": 10,
   "id": "9780dde7",
   "metadata": {
    "scrolled": false
   },
   "outputs": [
    {
     "data": {
      "text/html": [
       "<div>\n",
       "<style scoped>\n",
       "    .dataframe tbody tr th:only-of-type {\n",
       "        vertical-align: middle;\n",
       "    }\n",
       "\n",
       "    .dataframe tbody tr th {\n",
       "        vertical-align: top;\n",
       "    }\n",
       "\n",
       "    .dataframe thead th {\n",
       "        text-align: right;\n",
       "    }\n",
       "</style>\n",
       "<table border=\"1\" class=\"dataframe\">\n",
       "  <thead>\n",
       "    <tr style=\"text-align: right;\">\n",
       "      <th></th>\n",
       "      <th>id</th>\n",
       "      <th>rated</th>\n",
       "      <th>variant</th>\n",
       "      <th>speed</th>\n",
       "      <th>createdAt</th>\n",
       "      <th>lastMoveAt</th>\n",
       "      <th>status</th>\n",
       "      <th>winner</th>\n",
       "      <th>moves</th>\n",
       "      <th>clock</th>\n",
       "      <th>movesperplayer</th>\n",
       "      <th>white_player_name</th>\n",
       "      <th>white_ranking</th>\n",
       "      <th>black_player_name</th>\n",
       "      <th>black_ranking</th>\n",
       "    </tr>\n",
       "  </thead>\n",
       "  <tbody>\n",
       "    <tr>\n",
       "      <th>count</th>\n",
       "      <td>5363</td>\n",
       "      <td>5363</td>\n",
       "      <td>5363</td>\n",
       "      <td>5363</td>\n",
       "      <td>5363</td>\n",
       "      <td>5363</td>\n",
       "      <td>5363</td>\n",
       "      <td>5363</td>\n",
       "      <td>5363</td>\n",
       "      <td>5363.000000</td>\n",
       "      <td>5363.000000</td>\n",
       "      <td>5363</td>\n",
       "      <td>5363.000000</td>\n",
       "      <td>5363</td>\n",
       "      <td>5363.000000</td>\n",
       "    </tr>\n",
       "    <tr>\n",
       "      <th>unique</th>\n",
       "      <td>5363</td>\n",
       "      <td>2</td>\n",
       "      <td>1</td>\n",
       "      <td>4</td>\n",
       "      <td>5363</td>\n",
       "      <td>5363</td>\n",
       "      <td>6</td>\n",
       "      <td>3</td>\n",
       "      <td>5356</td>\n",
       "      <td>NaN</td>\n",
       "      <td>NaN</td>\n",
       "      <td>2377</td>\n",
       "      <td>NaN</td>\n",
       "      <td>2413</td>\n",
       "      <td>NaN</td>\n",
       "    </tr>\n",
       "    <tr>\n",
       "      <th>top</th>\n",
       "      <td>O83cQxfo</td>\n",
       "      <td>True</td>\n",
       "      <td>standard</td>\n",
       "      <td>blitz</td>\n",
       "      <td>2023-06-28 02:33:43.673000+02:00</td>\n",
       "      <td>2023-06-28 02:44:00.722000+02:00</td>\n",
       "      <td>resign</td>\n",
       "      <td>white</td>\n",
       "      <td>d4 d5</td>\n",
       "      <td>NaN</td>\n",
       "      <td>NaN</td>\n",
       "      <td>EvilSaintPL</td>\n",
       "      <td>NaN</td>\n",
       "      <td>EvilSaintPL</td>\n",
       "      <td>NaN</td>\n",
       "    </tr>\n",
       "    <tr>\n",
       "      <th>freq</th>\n",
       "      <td>1</td>\n",
       "      <td>4912</td>\n",
       "      <td>5363</td>\n",
       "      <td>3748</td>\n",
       "      <td>1</td>\n",
       "      <td>1</td>\n",
       "      <td>2858</td>\n",
       "      <td>2625</td>\n",
       "      <td>2</td>\n",
       "      <td>NaN</td>\n",
       "      <td>NaN</td>\n",
       "      <td>2709</td>\n",
       "      <td>NaN</td>\n",
       "      <td>2654</td>\n",
       "      <td>NaN</td>\n",
       "    </tr>\n",
       "    <tr>\n",
       "      <th>mean</th>\n",
       "      <td>NaN</td>\n",
       "      <td>NaN</td>\n",
       "      <td>NaN</td>\n",
       "      <td>NaN</td>\n",
       "      <td>NaN</td>\n",
       "      <td>NaN</td>\n",
       "      <td>NaN</td>\n",
       "      <td>NaN</td>\n",
       "      <td>NaN</td>\n",
       "      <td>301.868357</td>\n",
       "      <td>30.544844</td>\n",
       "      <td>NaN</td>\n",
       "      <td>1464.105538</td>\n",
       "      <td>NaN</td>\n",
       "      <td>1461.914787</td>\n",
       "    </tr>\n",
       "    <tr>\n",
       "      <th>std</th>\n",
       "      <td>NaN</td>\n",
       "      <td>NaN</td>\n",
       "      <td>NaN</td>\n",
       "      <td>NaN</td>\n",
       "      <td>NaN</td>\n",
       "      <td>NaN</td>\n",
       "      <td>NaN</td>\n",
       "      <td>NaN</td>\n",
       "      <td>NaN</td>\n",
       "      <td>492.720788</td>\n",
       "      <td>16.140272</td>\n",
       "      <td>NaN</td>\n",
       "      <td>222.531762</td>\n",
       "      <td>NaN</td>\n",
       "      <td>221.066990</td>\n",
       "    </tr>\n",
       "    <tr>\n",
       "      <th>min</th>\n",
       "      <td>NaN</td>\n",
       "      <td>NaN</td>\n",
       "      <td>NaN</td>\n",
       "      <td>NaN</td>\n",
       "      <td>NaN</td>\n",
       "      <td>NaN</td>\n",
       "      <td>NaN</td>\n",
       "      <td>NaN</td>\n",
       "      <td>NaN</td>\n",
       "      <td>15.000000</td>\n",
       "      <td>0.000000</td>\n",
       "      <td>NaN</td>\n",
       "      <td>0.000000</td>\n",
       "      <td>NaN</td>\n",
       "      <td>0.000000</td>\n",
       "    </tr>\n",
       "    <tr>\n",
       "      <th>25%</th>\n",
       "      <td>NaN</td>\n",
       "      <td>NaN</td>\n",
       "      <td>NaN</td>\n",
       "      <td>NaN</td>\n",
       "      <td>NaN</td>\n",
       "      <td>NaN</td>\n",
       "      <td>NaN</td>\n",
       "      <td>NaN</td>\n",
       "      <td>NaN</td>\n",
       "      <td>180.000000</td>\n",
       "      <td>19.000000</td>\n",
       "      <td>NaN</td>\n",
       "      <td>1332.000000</td>\n",
       "      <td>NaN</td>\n",
       "      <td>1328.000000</td>\n",
       "    </tr>\n",
       "    <tr>\n",
       "      <th>50%</th>\n",
       "      <td>NaN</td>\n",
       "      <td>NaN</td>\n",
       "      <td>NaN</td>\n",
       "      <td>NaN</td>\n",
       "      <td>NaN</td>\n",
       "      <td>NaN</td>\n",
       "      <td>NaN</td>\n",
       "      <td>NaN</td>\n",
       "      <td>NaN</td>\n",
       "      <td>300.000000</td>\n",
       "      <td>28.000000</td>\n",
       "      <td>NaN</td>\n",
       "      <td>1470.000000</td>\n",
       "      <td>NaN</td>\n",
       "      <td>1467.000000</td>\n",
       "    </tr>\n",
       "    <tr>\n",
       "      <th>75%</th>\n",
       "      <td>NaN</td>\n",
       "      <td>NaN</td>\n",
       "      <td>NaN</td>\n",
       "      <td>NaN</td>\n",
       "      <td>NaN</td>\n",
       "      <td>NaN</td>\n",
       "      <td>NaN</td>\n",
       "      <td>NaN</td>\n",
       "      <td>NaN</td>\n",
       "      <td>300.000000</td>\n",
       "      <td>39.000000</td>\n",
       "      <td>NaN</td>\n",
       "      <td>1609.000000</td>\n",
       "      <td>NaN</td>\n",
       "      <td>1607.000000</td>\n",
       "    </tr>\n",
       "    <tr>\n",
       "      <th>max</th>\n",
       "      <td>NaN</td>\n",
       "      <td>NaN</td>\n",
       "      <td>NaN</td>\n",
       "      <td>NaN</td>\n",
       "      <td>NaN</td>\n",
       "      <td>NaN</td>\n",
       "      <td>NaN</td>\n",
       "      <td>NaN</td>\n",
       "      <td>NaN</td>\n",
       "      <td>10800.000000</td>\n",
       "      <td>110.000000</td>\n",
       "      <td>NaN</td>\n",
       "      <td>2279.000000</td>\n",
       "      <td>NaN</td>\n",
       "      <td>2327.000000</td>\n",
       "    </tr>\n",
       "  </tbody>\n",
       "</table>\n",
       "</div>"
      ],
      "text/plain": [
       "              id rated   variant  speed                         createdAt  \\\n",
       "count       5363  5363      5363   5363                              5363   \n",
       "unique      5363     2         1      4                              5363   \n",
       "top     O83cQxfo  True  standard  blitz  2023-06-28 02:33:43.673000+02:00   \n",
       "freq           1  4912      5363   3748                                 1   \n",
       "mean         NaN   NaN       NaN    NaN                               NaN   \n",
       "std          NaN   NaN       NaN    NaN                               NaN   \n",
       "min          NaN   NaN       NaN    NaN                               NaN   \n",
       "25%          NaN   NaN       NaN    NaN                               NaN   \n",
       "50%          NaN   NaN       NaN    NaN                               NaN   \n",
       "75%          NaN   NaN       NaN    NaN                               NaN   \n",
       "max          NaN   NaN       NaN    NaN                               NaN   \n",
       "\n",
       "                              lastMoveAt  status winner  moves         clock  \\\n",
       "count                               5363    5363   5363   5363   5363.000000   \n",
       "unique                              5363       6      3   5356           NaN   \n",
       "top     2023-06-28 02:44:00.722000+02:00  resign  white  d4 d5           NaN   \n",
       "freq                                   1    2858   2625      2           NaN   \n",
       "mean                                 NaN     NaN    NaN    NaN    301.868357   \n",
       "std                                  NaN     NaN    NaN    NaN    492.720788   \n",
       "min                                  NaN     NaN    NaN    NaN     15.000000   \n",
       "25%                                  NaN     NaN    NaN    NaN    180.000000   \n",
       "50%                                  NaN     NaN    NaN    NaN    300.000000   \n",
       "75%                                  NaN     NaN    NaN    NaN    300.000000   \n",
       "max                                  NaN     NaN    NaN    NaN  10800.000000   \n",
       "\n",
       "        movesperplayer white_player_name  white_ranking black_player_name  \\\n",
       "count      5363.000000              5363    5363.000000              5363   \n",
       "unique             NaN              2377            NaN              2413   \n",
       "top                NaN       EvilSaintPL            NaN       EvilSaintPL   \n",
       "freq               NaN              2709            NaN              2654   \n",
       "mean         30.544844               NaN    1464.105538               NaN   \n",
       "std          16.140272               NaN     222.531762               NaN   \n",
       "min           0.000000               NaN       0.000000               NaN   \n",
       "25%          19.000000               NaN    1332.000000               NaN   \n",
       "50%          28.000000               NaN    1470.000000               NaN   \n",
       "75%          39.000000               NaN    1609.000000               NaN   \n",
       "max         110.000000               NaN    2279.000000               NaN   \n",
       "\n",
       "        black_ranking  \n",
       "count     5363.000000  \n",
       "unique            NaN  \n",
       "top               NaN  \n",
       "freq              NaN  \n",
       "mean      1461.914787  \n",
       "std        221.066990  \n",
       "min          0.000000  \n",
       "25%       1328.000000  \n",
       "50%       1467.000000  \n",
       "75%       1607.000000  \n",
       "max       2327.000000  "
      ]
     },
     "execution_count": 10,
     "metadata": {},
     "output_type": "execute_result"
    }
   ],
   "source": [
    "df.describe(include=\"all\")"
   ]
  },
  {
   "cell_type": "markdown",
   "id": "cb37740f",
   "metadata": {},
   "source": [
    "Data to clear:\n",
    "\n",
    "* movesperplayer >=2 -> one of players left game before 3 moves per player, its not posible to define game is lost before 3-4 moves per player plyed (if one side is not intentionaly losing game)\n",
    "* white_ranking\tor black_ranking == 0 -> enemy are \"unknown\", fortuntly all that games are not ranked, so wont be used in analysis or predictions"
   ]
  },
  {
   "cell_type": "code",
   "execution_count": 11,
   "id": "7a9e79ec",
   "metadata": {},
   "outputs": [],
   "source": [
    "df = df[df[\"rated\"]==True]\n",
    "\n",
    "df = df[df[\"movesperplayer\"]>2]"
   ]
  },
  {
   "cell_type": "markdown",
   "id": "3d1981ec",
   "metadata": {},
   "source": [
    "## Handling time values"
   ]
  },
  {
   "cell_type": "code",
   "execution_count": 12,
   "id": "ea3c9ec5",
   "metadata": {},
   "outputs": [],
   "source": [
    "def convert_date_with_offset(date_str):\n",
    "    return arrow.get(date_str).datetime\n",
    "\n",
    "for i in ['createdAt', 'lastMoveAt']:\n",
    "    df[i] = df[i].apply(convert_date_with_offset)"
   ]
  },
  {
   "cell_type": "markdown",
   "id": "e3a53a51",
   "metadata": {},
   "source": [
    "# Feature Enginiring\n",
    "\n",
    "In this step we want to get features that might be important for predictions or might have some value for analysis\n",
    "\n",
    "Another very important think for this specyfic dataset is to analysis game for one's player perspetive of view, so the columns should be more like -> my ranking / enemy ranking / if i played as white or as black and so on, that would help to analize one player playstyle and find his strong and weak sides"
   ]
  },
  {
   "cell_type": "markdown",
   "id": "1750665e",
   "metadata": {},
   "source": [
    "### Duration of game and time used per one move\n",
    "\n",
    "Duration of games would later give informations in what stages of game analyzed side win more games or lose more games"
   ]
  },
  {
   "cell_type": "code",
   "execution_count": 13,
   "id": "d30dad1a",
   "metadata": {},
   "outputs": [],
   "source": [
    "# Create Gametime column\n",
    "df[\"Gametime\"] = df[\"lastMoveAt\"] - df[\"createdAt\"]\n",
    "# Handle Gametime column\n",
    "df['Gametime'] = pd.to_timedelta(df['Gametime'])\n",
    "\n",
    "rounding = lambda x: round(x, 1)\n",
    "\n",
    "df['Gametime'] = df['Gametime'].dt.total_seconds().apply(rounding)\n",
    "df['timepermove']=(df['Gametime']/df[\"movesperplayer\"]).apply(rounding)"
   ]
  },
  {
   "cell_type": "markdown",
   "id": "43304c07",
   "metadata": {},
   "source": [
    "### insight from moves column:\n",
    "\n",
    "* cheking for long or short castle ( for both sides )\n",
    "* taking number of moves before castle devided by 100  ( if no castle - values set to 1 ) ( for both sides )\n",
    "* groping by opening ( opening as first 4 played moves )\n",
    "\n",
    "Model cant take in to count moves column as it is, so its very important to change that kind of columns to numerics columns. What kind of feature should be taken from those kind of columns is only a matter of creativity \n",
    "\n",
    "### another import features:\n",
    "* classifing for one side win, enemy win and draw\n",
    "* adding rank difference column\n"
   ]
  },
  {
   "cell_type": "markdown",
   "id": "c02a9d55",
   "metadata": {},
   "source": [
    "## Checking for side castle "
   ]
  },
  {
   "cell_type": "markdown",
   "id": "5201e760",
   "metadata": {},
   "source": [
    "kingside castle ( short ) is O-O in moves notation and queenside castle ( long ) is O-O-O"
   ]
  },
  {
   "cell_type": "code",
   "execution_count": 14,
   "id": "4a261a5a",
   "metadata": {},
   "outputs": [],
   "source": [
    "def moves_column(df):\n",
    "    df[\"moves\"] = df[\"moves\"].str.split(\" \")\n",
    "    df[\"white_moves\"]=df[\"moves\"].apply(lambda x: x[::2])\n",
    "    df[\"black_moves\"]=df[\"moves\"].apply(lambda x: x[1::2])\n",
    "    return df\n",
    "\n",
    "df = moves_column(df)"
   ]
  },
  {
   "cell_type": "code",
   "execution_count": 15,
   "id": "81b26380",
   "metadata": {},
   "outputs": [],
   "source": [
    "def castle( df ):\n",
    "    color_list = []\n",
    "    my_short = []\n",
    "    my_long = []\n",
    "    enemy_short = []\n",
    "    enemy_long = []\n",
    "    \n",
    "    \n",
    "    for index, row in df.iterrows():\n",
    "        if df[\"white_player_name\"][index]==\"EvilSaintPL\":\n",
    "            color_list.append(True)\n",
    "        else:\n",
    "            color_list.append(False)\n",
    "        \n",
    "        if df[\"white_player_name\"][index]==\"EvilSaintPL\" and (\"O-O\" in df[\"white_moves\"][index]):\n",
    "            my_short.append(True)\n",
    "            my_long.append(False)\n",
    "        elif df[\"white_player_name\"][index]==\"EvilSaintPL\" and (\"O-O-O\" in df[\"white_moves\"][index]):\n",
    "            my_long.append(True)\n",
    "            my_short.append(False)\n",
    "        elif df[\"black_player_name\"][index]==\"EvilSaintPL\" and (\"O-O\" in df[\"black_moves\"][index]):\n",
    "            my_short.append(True)\n",
    "            my_long.append(False)\n",
    "        elif df[\"black_player_name\"][index]==\"EvilSaintPL\" and (\"O-O-O\" in df[\"black_moves\"][index]):\n",
    "            my_long.append(True)\n",
    "            my_short.append(False)\n",
    "        else:\n",
    "            my_long.append(False)\n",
    "            my_short.append(False)\n",
    "        \n",
    "        if df[\"white_player_name\"][index]!=\"EvilSaintPL\" and (\"O-O\" in df[\"white_moves\"][index]):\n",
    "            enemy_short.append(True)\n",
    "            enemy_long.append(False)\n",
    "        elif df[\"white_player_name\"][index]!=\"EvilSaintPL\" and (\"O-O-O\" in df[\"white_moves\"][index]):\n",
    "            enemy_long.append(True)\n",
    "            enemy_short.append(False)\n",
    "        elif df[\"black_player_name\"][index]!=\"EvilSaintPL\" and (\"O-O\" in df[\"black_moves\"][index]):\n",
    "            enemy_short.append(True)\n",
    "            enemy_long.append(False)\n",
    "        elif df[\"black_player_name\"][index]!=\"EvilSaintPL\" and (\"O-O-O\" in df[\"black_moves\"][index]):\n",
    "            enemy_long.append(True)\n",
    "            enemy_short.append(False)\n",
    "        else:\n",
    "            enemy_long.append(False)\n",
    "            enemy_short.append(False)        \n",
    "        \n",
    "    df[\"my_kingcastle\"]=my_short\n",
    "    df[\"my_queencastle\"]=my_long\n",
    "    df[\"enemy_kingcastle\"]=enemy_short\n",
    "    df[\"enemy_queencastle\"]=enemy_long\n",
    "    df[\"my_color\"]=color_list\n",
    "    return df\n",
    "        \n",
    "df = castle(df)"
   ]
  },
  {
   "cell_type": "code",
   "execution_count": 16,
   "id": "5974f9bf",
   "metadata": {},
   "outputs": [],
   "source": [
    "pd.options.mode.chained_assignment = None"
   ]
  },
  {
   "cell_type": "markdown",
   "id": "575528a6",
   "metadata": {},
   "source": [
    "## Number of moves before castle "
   ]
  },
  {
   "cell_type": "code",
   "execution_count": 17,
   "id": "35b3639a",
   "metadata": {},
   "outputs": [],
   "source": [
    "def find_index_of_first_occurrence(lst):\n",
    "    elements = [\"O-O\", \"O-O-O\"]\n",
    "    for element in elements:\n",
    "        if element in lst:\n",
    "            return lst.index(element)\n",
    "    return len(lst) + 1"
   ]
  },
  {
   "cell_type": "code",
   "execution_count": 18,
   "id": "2c1eed0a",
   "metadata": {},
   "outputs": [],
   "source": [
    "def moves_before_castle( df ):\n",
    "    df[\"White_moves_before_castle\"] = df[\"white_moves\"].apply(find_index_of_first_occurrence)\n",
    "    df[\"Black_moves_before_castle\"] = df[\"black_moves\"].apply(find_index_of_first_occurrence)\n",
    "    \n",
    "    my_moves_before = []\n",
    "    enemy_moves_before = []\n",
    "    \n",
    "    for index, row in df.iterrows():\n",
    "        if df[\"my_color\"][index]==1:\n",
    "            my_moves_before.append(df[\"White_moves_before_castle\"][index])\n",
    "            enemy_moves_before.append(df[\"Black_moves_before_castle\"][index])\n",
    "        else:\n",
    "            my_moves_before.append(df[\"Black_moves_before_castle\"][index])\n",
    "            enemy_moves_before.append(df[\"White_moves_before_castle\"][index])\n",
    "            \n",
    "    df[\"my_moves_before_castle\"] = my_moves_before\n",
    "    df[\"enemy_moves_before_castle\"]= enemy_moves_before\n",
    "    \n",
    "    for index, row in df.iterrows():\n",
    "        if df[\"my_moves_before_castle\"][index]>(df[\"movesperplayer\"][index]):\n",
    "            df[\"my_moves_before_castle\"][index]=100\n",
    "        elif df[\"enemy_moves_before_castle\"][index]>(df[\"movesperplayer\"][index]):\n",
    "            df[\"enemy_moves_before_castle\"][index]=100\n",
    "    \n",
    "    df[\"my_moves_before_castle\"] = df[\"my_moves_before_castle\"]/(100)\n",
    "    df[\"enemy_moves_before_castle\"] = df[\"enemy_moves_before_castle\"]/(100)\n",
    "    \n",
    "    return df\n",
    "\n",
    "df=moves_before_castle( df )"
   ]
  },
  {
   "cell_type": "markdown",
   "id": "5c9eb6ae",
   "metadata": {},
   "source": [
    "## Grouping by opening"
   ]
  },
  {
   "cell_type": "code",
   "execution_count": 19,
   "id": "c835c22c",
   "metadata": {},
   "outputs": [],
   "source": [
    "df[\"open4\"] = df[\"moves\"].apply(lambda x: x[:4])\n",
    "df[\"open4\"] = df[\"open4\"].apply(lambda x: \" \".join(x))"
   ]
  },
  {
   "cell_type": "code",
   "execution_count": 20,
   "id": "95786092",
   "metadata": {
    "scrolled": false
   },
   "outputs": [],
   "source": [
    "white_opens = df[df['white_player_name'] == 'EvilSaintPL'][\"open4\"].value_counts().head(20)\n",
    "black_opens = df[df['black_player_name'] == 'EvilSaintPL'][\"open4\"].value_counts().head(20)"
   ]
  },
  {
   "cell_type": "code",
   "execution_count": 21,
   "id": "d9406457",
   "metadata": {},
   "outputs": [],
   "source": [
    "def iterable_opening_list_and_my_ranking( df ):\n",
    "    \n",
    "    openings_list = []\n",
    "    rank_of_evilsaintpl_list = []\n",
    "    evilsaintpl_won = []\n",
    "    enemy_rank_list = []\n",
    "    \n",
    "    for index, row in df.iterrows():\n",
    "        \n",
    "        # OPENS1\n",
    "        if df[\"white_player_name\"][index]==\"EvilSaintPL\" and df[\"open4\"][index] in white_opens.index:\n",
    "            openings_list.append(\"White \" + df[\"open4\"][index])\n",
    "        elif  df[\"white_player_name\"][index]!=\"EvilSaintPL\" and df[\"open4\"][index] in black_opens.index:\n",
    "            openings_list.append(\"Black \" + df[\"open4\"][index]) \n",
    "        else:\n",
    "            openings_list.append(\"no opens\")\n",
    "        \n",
    "        # MY RANK AND ENEMY RANK \n",
    "        if df[\"white_player_name\"][index]==\"EvilSaintPL\":\n",
    "            rank_of_evilsaintpl_list.append(df[\"white_ranking\"][index])\n",
    "            enemy_rank_list.append(df[\"black_ranking\"][index])\n",
    "        elif df[\"black_player_name\"][index]==\"EvilSaintPL\":\n",
    "            rank_of_evilsaintpl_list.append(df[\"black_ranking\"][index])\n",
    "            enemy_rank_list.append(df[\"white_ranking\"][index])\n",
    "        else:\n",
    "            print(index)\n",
    "            \n",
    "        # I WON \n",
    "        if df[\"winner\"][index] == 'draw':\n",
    "            evilsaintpl_won.append(0)\n",
    "        elif df[\"white_player_name\"][index]==\"EvilSaintPL\" and df[\"winner\"][index]=='white':\n",
    "            evilsaintpl_won.append(1)\n",
    "        elif  df[\"black_player_name\"][index]==\"EvilSaintPL\" and df[\"winner\"][index]=='black':\n",
    "            evilsaintpl_won.append(1)\n",
    "        else:\n",
    "            evilsaintpl_won.append(-1)\n",
    "            \n",
    "        \n",
    "\n",
    "    df[\"opens1\"]= openings_list\n",
    "    df[\"my_rank\"]= rank_of_evilsaintpl_list\n",
    "    df['i_won'] = evilsaintpl_won\n",
    "    df['enemy_rank'] = enemy_rank_list\n",
    "    \n",
    "    # NEW RANKS FE\n",
    "    df['rank_difference'] = df['my_rank'] - df['enemy_rank']\n",
    "\n",
    "    return df\n",
    "\n",
    "df = iterable_opening_list_and_my_ranking(df)"
   ]
  },
  {
   "cell_type": "markdown",
   "id": "0910fda8",
   "metadata": {},
   "source": [
    "On that stage I wanted to save data for tableu wizualisations\n",
    "\n",
    "created visuals here -> https://public.tableau.com/views/Chess_Analysis/Story1?:language=en-GB&publish=yes&:display_count=n&:origin=viz_share_link\n",
    "\n",
    "and here https://public.tableau.com/views/Book2_16890080408260/Dashboard1?:language=en-GB&:display_count=n&:origin=viz_share_link\n",
    "\n",
    "quick desription of viasuls in Readme"
   ]
  },
  {
   "cell_type": "code",
   "execution_count": 22,
   "id": "30235d63",
   "metadata": {},
   "outputs": [],
   "source": [
    "dfwiz = df.copy()"
   ]
  },
  {
   "cell_type": "markdown",
   "id": "7c2ac132",
   "metadata": {},
   "source": [
    "## Another data cleaning and onehot encoding for openings"
   ]
  },
  {
   "cell_type": "code",
   "execution_count": 23,
   "id": "6e13b614",
   "metadata": {},
   "outputs": [],
   "source": [
    "def clear_dataframe(df):\n",
    "    temp = pd.get_dummies(df[\"opens1\"])\n",
    "    df = pd.concat([df,temp], axis=1)\n",
    "    \n",
    "    df.drop(\"status\",axis=1, inplace=True)\n",
    "    df.drop(labels = [\"opens1\", \"id\"], axis=1, inplace=True)\n",
    "    df = df[df[\"white_player_name\"]!=\"YoungCapitan\"]\n",
    "    df = df[df[\"black_player_name\"]!=\"YoungCapitan\"]\n",
    "    df.drop(\"variant\",axis=1,inplace=True)\n",
    "    \n",
    "    return df\n",
    "\n",
    "df = clear_dataframe(df)"
   ]
  },
  {
   "cell_type": "code",
   "execution_count": 24,
   "id": "a679c749",
   "metadata": {},
   "outputs": [],
   "source": [
    "df[\"i_won\"]=df[\"i_won\"]+1"
   ]
  },
  {
   "cell_type": "code",
   "execution_count": 25,
   "id": "d828deba",
   "metadata": {},
   "outputs": [
    {
     "data": {
      "text/plain": [
       "(4862, 71)"
      ]
     },
     "execution_count": 25,
     "metadata": {},
     "output_type": "execute_result"
    }
   ],
   "source": [
    "df.shape"
   ]
  },
  {
   "cell_type": "code",
   "execution_count": 26,
   "id": "0f72ebd7",
   "metadata": {
    "scrolled": true
   },
   "outputs": [
    {
     "data": {
      "text/plain": [
       "array(['blitz', 'classical', 'bullet', 'rapid'], dtype=object)"
      ]
     },
     "execution_count": 26,
     "metadata": {},
     "output_type": "execute_result"
    }
   ],
   "source": [
    "df.speed.unique()"
   ]
  },
  {
   "cell_type": "markdown",
   "id": "5278a8d9",
   "metadata": {},
   "source": [
    "## Adding column for rank gained or losed by game ( not used for predictions ) and sorting by speed"
   ]
  },
  {
   "cell_type": "code",
   "execution_count": 27,
   "id": "f08be702",
   "metadata": {},
   "outputs": [],
   "source": [
    "def rankdifftest(df):\n",
    "    \n",
    "    blitz = df[df[\"speed\"]==\"blitz\"].reset_index(drop=True)\n",
    "    classical = df[df[\"speed\"]==\"classical\"].reset_index(drop=True)\n",
    "    bullet = df[df[\"speed\"]==\"bullet\"].reset_index(drop=True)\n",
    "    rapid = df[df[\"speed\"]==\"rapid\"].reset_index(drop=True)\n",
    "    \n",
    "    for speed in [blitz, classical, bullet, rapid]:\n",
    "        rank_resu=list()\n",
    "        for index, row in speed.iterrows():\n",
    "            if index==0:\n",
    "                rank_resu.append(speed[\"my_rank\"][index])\n",
    "            else:\n",
    "                rank_resu.append(speed[\"my_rank\"][index-1])\n",
    "        speed[\"rank_after_game\"]=rank_resu\n",
    "        speed[\"my_rank_diff\"]=speed[\"rank_after_game\"]-speed[\"my_rank\"]\n",
    "    return pd.concat([blitz, classical, bullet, rapid])\n",
    "df = rankdifftest(df)"
   ]
  },
  {
   "cell_type": "markdown",
   "id": "2e11f6cd",
   "metadata": {},
   "source": [
    "### taking from data only columns that may be usfull for predictions"
   ]
  },
  {
   "cell_type": "code",
   "execution_count": 35,
   "id": "45a2396c",
   "metadata": {},
   "outputs": [],
   "source": [
    "model_columns = [ 'i_won','my_color','my_rank','rank_difference', 'movesperplayer', 'timepermove','my_kingcastle', 'my_queencastle',\n",
    "       'enemy_kingcastle', 'enemy_queencastle',\n",
    "       'my_moves_before_castle', 'enemy_moves_before_castle', 'no opens','Black d4 Nf6 Bf4 e6', 'Black d4 Nf6 Nf3 e6', 'Black d4 Nf6 c4 e6',\n",
    "       'Black d4 d5 Bf4 Nf6', 'Black d4 d5 Nf3 Nf6', 'Black d4 d5 c4 c6',\n",
    "       'Black e4 e5 Bc4 Nc6', 'Black e4 e5 Bc4 Nf6', 'Black e4 e5 Nc3 Nf6',\n",
    "       'Black e4 e5 Nf3 Nc6', 'Black e4 e5 Nf3 Nf6', 'Black e4 e5 d4 exd4',\n",
    "       'Black e4 e5 f4 d5', 'Black e4 e5 f4 exf4', 'Black e4 e6 Bc4 d5',\n",
    "       'Black e4 e6 Nc3 d5', 'Black e4 e6 Nf3 d5', 'Black e4 e6 d4 d5',\n",
    "       'Black e4 e6 e5 c5', 'Black g3 e5 Bg2 Nf6', 'White e4 c5 Nf3 Nc6',\n",
    "       'White e4 c5 Nf3 d6', 'White e4 c5 Nf3 e6', 'White e4 c6 Nf3 d5',\n",
    "       'White e4 c6 d4 d5', 'White e4 d5 Nf3 dxe4', 'White e4 d5 exd5 Nf6',\n",
    "       'White e4 d5 exd5 Qxd5', 'White e4 e5 Nc3 Nc6', 'White e4 e5 Nc3 Nf6',\n",
    "       'White e4 e5 Nc3 d6', 'White e4 e5 Nf3 Bc5', 'White e4 e5 Nf3 Nc6',\n",
    "       'White e4 e5 Nf3 Nf6', 'White e4 e5 Nf3 Qf6', 'White e4 e5 Nf3 d5',\n",
    "       'White e4 e5 Nf3 d6', 'White e4 e6 Nf3 d5', 'White e4 e6 d4 d5',\n",
    "       'White e4 g6 d4 Bg7']\n",
    "cols_to_minmax_scale =  ['my_rank', 'movesperplayer', 'timepermove',\n",
    "       'my_moves_before_castle', 'enemy_moves_before_castle', ]\n",
    "cols_to_standard_scale = ['rank_difference']"
   ]
  },
  {
   "cell_type": "code",
   "execution_count": 36,
   "id": "d3374dba",
   "metadata": {},
   "outputs": [],
   "source": [
    "cols_without_openings= ['i_won' ,'my_color','my_rank','enemy_rank' ,'rank_difference', 'movesperplayer', 'Gametime', 'timepermove','my_kingcastle', 'my_queencastle',\n",
    "       'enemy_kingcastle', 'enemy_queencastle',\n",
    "       'my_moves_before_castle', 'enemy_moves_before_castle']"
   ]
  },
  {
   "cell_type": "markdown",
   "id": "cfcb474f",
   "metadata": {},
   "source": [
    "## Feature selection\n",
    "\n",
    "feature selestion should be different for different models, tree based models are more telerant for colerated or outliers, while colerated columns and outliers in linear models are huge problem \\\n",
    "also some of openings columns may be very important for tree based models while useless for linear models and thats why i dont want to use 'sklearn.SelectFromModel' to keep only important features \\\n",
    " thats the main resons why i will handle feature selection on my own, without sklearn tools or  Featurewiz for example\n"
   ]
  },
  {
   "cell_type": "markdown",
   "id": "2d70ae09",
   "metadata": {},
   "source": [
    "because of high coleration I want to delete enemy_rank and gametime column ( high colleration with my_rank / movesperplayer)"
   ]
  },
  {
   "cell_type": "code",
   "execution_count": 31,
   "id": "03c5d932",
   "metadata": {},
   "outputs": [
    {
     "data": {
      "text/plain": [
       "<Axes: >"
      ]
     },
     "execution_count": 31,
     "metadata": {},
     "output_type": "execute_result"
    },
    {
     "data": {
      "image/png": "[encoded data removed]",
      "text/plain": [
       "<Figure size 640x480 with 2 Axes>"
      ]
     },
     "metadata": {},
     "output_type": "display_data"
    }
   ],
   "source": [
    "sns.heatmap(df[df[\"speed\"]==\"blitz\"][cols_without_openings].corr(), annot=True, cmap='coolwarm', fmt='.1f', linewidths=0.5)"
   ]
  },
  {
   "cell_type": "markdown",
   "id": "b4188447",
   "metadata": {},
   "source": [
    "## grouping data by speed\n",
    "\n",
    "Dividing games by speed is very important for columns like my_rank, rank 1600 in blitz might have other impact on wining than rank 1600 in bullet\n",
    "\n",
    "Realy important think to keep in mind is number of games in different speeds, for example classical games should be worse for prediction than bullet because number of classical speed games is lower, another think is that I played classical games in begining of my chess carrer when I was much worse player. For that reason I dont take into a count classical games, and most of focus I keep on blitz"
   ]
  },
  {
   "cell_type": "markdown",
   "id": "d5b6d4c9",
   "metadata": {},
   "source": [
    "## Scaling data\n",
    "\n",
    "scaling is important step in buildning models, beacause without it model might intepret bigger values as more important than smaler values.\n",
    "\n",
    "For most of features I used MinMaxScaler beacuse features distributions havent outliers and their distribution shape is similar to gaussian, in some cases distiburtions are left or right skewed,\n",
    "\n",
    "For rank_diff I used StandarScaler beacuse i want to keep negative values"
   ]
  },
  {
   "cell_type": "code",
   "execution_count": 37,
   "id": "2ab04ce6",
   "metadata": {},
   "outputs": [],
   "source": [
    "blitz = df[df[\"speed\"]==\"blitz\"][model_columns]\n",
    "scaler1 = MinMaxScaler()\n",
    "scaler2 = StandardScaler()\n",
    "blitz[cols_to_minmax_scale]=pd.DataFrame(scaler1.fit_transform(blitz[cols_to_minmax_scale]))\n",
    "blitz[cols_to_standard_scale]=pd.DataFrame(scaler2.fit_transform(blitz[cols_to_standard_scale]))\n",
    "\n",
    "bullet = df[df[\"speed\"]==\"bullet\"][model_columns]\n",
    "scaler1 = MinMaxScaler()\n",
    "scaler2 = StandardScaler()\n",
    "bullet[cols_to_minmax_scale]=pd.DataFrame(scaler1.fit_transform(bullet[cols_to_minmax_scale]))\n",
    "bullet[cols_to_standard_scale]=pd.DataFrame(scaler2.fit_transform(bullet[cols_to_standard_scale]))\n",
    "\n",
    "rapid = df[df[\"speed\"]==\"rapid\"][model_columns]\n",
    "scaler1 = MinMaxScaler()\n",
    "scaler2 = StandardScaler()\n",
    "rapid[cols_to_minmax_scale]=pd.DataFrame(scaler1.fit_transform(rapid[cols_to_minmax_scale]))\n",
    "rapid[cols_to_standard_scale]=pd.DataFrame(scaler2.fit_transform(rapid[cols_to_standard_scale]))\n",
    "\n"
   ]
  },
  {
   "cell_type": "code",
   "execution_count": 40,
   "id": "ef2212fc",
   "metadata": {},
   "outputs": [
    {
     "name": "stdout",
     "output_type": "stream",
     "text": [
      "blitz : (3402, 53),\n",
      "bullet: (972, 53),\n",
      "rapid: (335, 53)\n"
     ]
    }
   ],
   "source": [
    "print(f\"blitz : {blitz.shape},\\nbullet: {bullet.shape},\\nrapid: {rapid.shape}\")"
   ]
  },
  {
   "cell_type": "code",
   "execution_count": 41,
   "id": "92036698",
   "metadata": {
    "scrolled": false
   },
   "outputs": [
    {
     "data": {
      "text/html": [
       "<div>\n",
       "<style scoped>\n",
       "    .dataframe tbody tr th:only-of-type {\n",
       "        vertical-align: middle;\n",
       "    }\n",
       "\n",
       "    .dataframe tbody tr th {\n",
       "        vertical-align: top;\n",
       "    }\n",
       "\n",
       "    .dataframe thead th {\n",
       "        text-align: right;\n",
       "    }\n",
       "</style>\n",
       "<table border=\"1\" class=\"dataframe\">\n",
       "  <thead>\n",
       "    <tr style=\"text-align: right;\">\n",
       "      <th></th>\n",
       "      <th>i_won</th>\n",
       "      <th>my_color</th>\n",
       "      <th>my_rank</th>\n",
       "      <th>rank_difference</th>\n",
       "      <th>movesperplayer</th>\n",
       "      <th>timepermove</th>\n",
       "      <th>my_kingcastle</th>\n",
       "      <th>my_queencastle</th>\n",
       "      <th>enemy_kingcastle</th>\n",
       "      <th>enemy_queencastle</th>\n",
       "      <th>my_moves_before_castle</th>\n",
       "      <th>enemy_moves_before_castle</th>\n",
       "      <th>no opens</th>\n",
       "      <th>Black d4 Nf6 Bf4 e6</th>\n",
       "      <th>Black d4 Nf6 Nf3 e6</th>\n",
       "      <th>Black d4 Nf6 c4 e6</th>\n",
       "      <th>Black d4 d5 Bf4 Nf6</th>\n",
       "      <th>Black d4 d5 Nf3 Nf6</th>\n",
       "      <th>Black d4 d5 c4 c6</th>\n",
       "      <th>Black e4 e5 Bc4 Nc6</th>\n",
       "      <th>Black e4 e5 Bc4 Nf6</th>\n",
       "      <th>Black e4 e5 Nc3 Nf6</th>\n",
       "      <th>Black e4 e5 Nf3 Nc6</th>\n",
       "      <th>Black e4 e5 Nf3 Nf6</th>\n",
       "      <th>Black e4 e5 d4 exd4</th>\n",
       "      <th>Black e4 e5 f4 d5</th>\n",
       "      <th>Black e4 e5 f4 exf4</th>\n",
       "      <th>Black e4 e6 Bc4 d5</th>\n",
       "      <th>Black e4 e6 Nc3 d5</th>\n",
       "      <th>Black e4 e6 Nf3 d5</th>\n",
       "      <th>Black e4 e6 d4 d5</th>\n",
       "      <th>Black e4 e6 e5 c5</th>\n",
       "      <th>Black g3 e5 Bg2 Nf6</th>\n",
       "      <th>White e4 c5 Nf3 Nc6</th>\n",
       "      <th>White e4 c5 Nf3 d6</th>\n",
       "      <th>White e4 c5 Nf3 e6</th>\n",
       "      <th>White e4 c6 Nf3 d5</th>\n",
       "      <th>White e4 c6 d4 d5</th>\n",
       "      <th>White e4 d5 Nf3 dxe4</th>\n",
       "      <th>White e4 d5 exd5 Nf6</th>\n",
       "      <th>White e4 d5 exd5 Qxd5</th>\n",
       "      <th>White e4 e5 Nc3 Nc6</th>\n",
       "      <th>White e4 e5 Nc3 Nf6</th>\n",
       "      <th>White e4 e5 Nc3 d6</th>\n",
       "      <th>White e4 e5 Nf3 Bc5</th>\n",
       "      <th>White e4 e5 Nf3 Nc6</th>\n",
       "      <th>White e4 e5 Nf3 Nf6</th>\n",
       "      <th>White e4 e5 Nf3 Qf6</th>\n",
       "      <th>White e4 e5 Nf3 d5</th>\n",
       "      <th>White e4 e5 Nf3 d6</th>\n",
       "      <th>White e4 e6 Nf3 d5</th>\n",
       "      <th>White e4 e6 d4 d5</th>\n",
       "      <th>White e4 g6 d4 Bg7</th>\n",
       "    </tr>\n",
       "  </thead>\n",
       "  <tbody>\n",
       "    <tr>\n",
       "      <th>0</th>\n",
       "      <td>0</td>\n",
       "      <td>True</td>\n",
       "      <td>0.898757</td>\n",
       "      <td>-0.468255</td>\n",
       "      <td>0.299065</td>\n",
       "      <td>0.290076</td>\n",
       "      <td>True</td>\n",
       "      <td>False</td>\n",
       "      <td>True</td>\n",
       "      <td>False</td>\n",
       "      <td>0.051546</td>\n",
       "      <td>0.041237</td>\n",
       "      <td>False</td>\n",
       "      <td>False</td>\n",
       "      <td>False</td>\n",
       "      <td>False</td>\n",
       "      <td>False</td>\n",
       "      <td>False</td>\n",
       "      <td>False</td>\n",
       "      <td>False</td>\n",
       "      <td>False</td>\n",
       "      <td>False</td>\n",
       "      <td>False</td>\n",
       "      <td>False</td>\n",
       "      <td>False</td>\n",
       "      <td>False</td>\n",
       "      <td>False</td>\n",
       "      <td>False</td>\n",
       "      <td>False</td>\n",
       "      <td>False</td>\n",
       "      <td>False</td>\n",
       "      <td>False</td>\n",
       "      <td>False</td>\n",
       "      <td>False</td>\n",
       "      <td>False</td>\n",
       "      <td>False</td>\n",
       "      <td>False</td>\n",
       "      <td>False</td>\n",
       "      <td>False</td>\n",
       "      <td>True</td>\n",
       "      <td>False</td>\n",
       "      <td>False</td>\n",
       "      <td>False</td>\n",
       "      <td>False</td>\n",
       "      <td>False</td>\n",
       "      <td>False</td>\n",
       "      <td>False</td>\n",
       "      <td>False</td>\n",
       "      <td>False</td>\n",
       "      <td>False</td>\n",
       "      <td>False</td>\n",
       "      <td>False</td>\n",
       "      <td>False</td>\n",
       "    </tr>\n",
       "    <tr>\n",
       "      <th>1</th>\n",
       "      <td>0</td>\n",
       "      <td>False</td>\n",
       "      <td>0.925400</td>\n",
       "      <td>1.868773</td>\n",
       "      <td>0.224299</td>\n",
       "      <td>0.290076</td>\n",
       "      <td>True</td>\n",
       "      <td>False</td>\n",
       "      <td>True</td>\n",
       "      <td>False</td>\n",
       "      <td>0.030928</td>\n",
       "      <td>0.061856</td>\n",
       "      <td>True</td>\n",
       "      <td>False</td>\n",
       "      <td>False</td>\n",
       "      <td>False</td>\n",
       "      <td>False</td>\n",
       "      <td>False</td>\n",
       "      <td>False</td>\n",
       "      <td>False</td>\n",
       "      <td>False</td>\n",
       "      <td>False</td>\n",
       "      <td>False</td>\n",
       "      <td>False</td>\n",
       "      <td>False</td>\n",
       "      <td>False</td>\n",
       "      <td>False</td>\n",
       "      <td>False</td>\n",
       "      <td>False</td>\n",
       "      <td>False</td>\n",
       "      <td>False</td>\n",
       "      <td>False</td>\n",
       "      <td>False</td>\n",
       "      <td>False</td>\n",
       "      <td>False</td>\n",
       "      <td>False</td>\n",
       "      <td>False</td>\n",
       "      <td>False</td>\n",
       "      <td>False</td>\n",
       "      <td>False</td>\n",
       "      <td>False</td>\n",
       "      <td>False</td>\n",
       "      <td>False</td>\n",
       "      <td>False</td>\n",
       "      <td>False</td>\n",
       "      <td>False</td>\n",
       "      <td>False</td>\n",
       "      <td>False</td>\n",
       "      <td>False</td>\n",
       "      <td>False</td>\n",
       "      <td>False</td>\n",
       "      <td>False</td>\n",
       "      <td>False</td>\n",
       "    </tr>\n",
       "  </tbody>\n",
       "</table>\n",
       "</div>"
      ],
      "text/plain": [
       "   i_won  my_color   my_rank  rank_difference  movesperplayer  timepermove  \\\n",
       "0      0      True  0.898757        -0.468255        0.299065     0.290076   \n",
       "1      0     False  0.925400         1.868773        0.224299     0.290076   \n",
       "\n",
       "   my_kingcastle  my_queencastle  enemy_kingcastle  enemy_queencastle  \\\n",
       "0           True           False              True              False   \n",
       "1           True           False              True              False   \n",
       "\n",
       "   my_moves_before_castle  enemy_moves_before_castle  no opens  \\\n",
       "0                0.051546                   0.041237     False   \n",
       "1                0.030928                   0.061856      True   \n",
       "\n",
       "   Black d4 Nf6 Bf4 e6  Black d4 Nf6 Nf3 e6  Black d4 Nf6 c4 e6  \\\n",
       "0                False                False               False   \n",
       "1                False                False               False   \n",
       "\n",
       "   Black d4 d5 Bf4 Nf6  Black d4 d5 Nf3 Nf6  Black d4 d5 c4 c6  \\\n",
       "0                False                False              False   \n",
       "1                False                False              False   \n",
       "\n",
       "   Black e4 e5 Bc4 Nc6  Black e4 e5 Bc4 Nf6  Black e4 e5 Nc3 Nf6  \\\n",
       "0                False                False                False   \n",
       "1                False                False                False   \n",
       "\n",
       "   Black e4 e5 Nf3 Nc6  Black e4 e5 Nf3 Nf6  Black e4 e5 d4 exd4  \\\n",
       "0                False                False                False   \n",
       "1                False                False                False   \n",
       "\n",
       "   Black e4 e5 f4 d5  Black e4 e5 f4 exf4  Black e4 e6 Bc4 d5  \\\n",
       "0              False                False               False   \n",
       "1              False                False               False   \n",
       "\n",
       "   Black e4 e6 Nc3 d5  Black e4 e6 Nf3 d5  Black e4 e6 d4 d5  \\\n",
       "0               False               False              False   \n",
       "1               False               False              False   \n",
       "\n",
       "   Black e4 e6 e5 c5  Black g3 e5 Bg2 Nf6  White e4 c5 Nf3 Nc6  \\\n",
       "0              False                False                False   \n",
       "1              False                False                False   \n",
       "\n",
       "   White e4 c5 Nf3 d6  White e4 c5 Nf3 e6  White e4 c6 Nf3 d5  \\\n",
       "0               False               False               False   \n",
       "1               False               False               False   \n",
       "\n",
       "   White e4 c6 d4 d5  White e4 d5 Nf3 dxe4  White e4 d5 exd5 Nf6  \\\n",
       "0              False                 False                  True   \n",
       "1              False                 False                 False   \n",
       "\n",
       "   White e4 d5 exd5 Qxd5  White e4 e5 Nc3 Nc6  White e4 e5 Nc3 Nf6  \\\n",
       "0                  False                False                False   \n",
       "1                  False                False                False   \n",
       "\n",
       "   White e4 e5 Nc3 d6  White e4 e5 Nf3 Bc5  White e4 e5 Nf3 Nc6  \\\n",
       "0               False                False                False   \n",
       "1               False                False                False   \n",
       "\n",
       "   White e4 e5 Nf3 Nf6  White e4 e5 Nf3 Qf6  White e4 e5 Nf3 d5  \\\n",
       "0                False                False               False   \n",
       "1                False                False               False   \n",
       "\n",
       "   White e4 e5 Nf3 d6  White e4 e6 Nf3 d5  White e4 e6 d4 d5  \\\n",
       "0               False               False              False   \n",
       "1               False               False              False   \n",
       "\n",
       "   White e4 g6 d4 Bg7  \n",
       "0               False  \n",
       "1               False  "
      ]
     },
     "execution_count": 41,
     "metadata": {},
     "output_type": "execute_result"
    }
   ],
   "source": [
    "bullet.head(2)"
   ]
  },
  {
   "cell_type": "code",
   "execution_count": 168,
   "id": "1d510d34",
   "metadata": {},
   "outputs": [],
   "source": [
    "X = blitz.drop(\"i_won\",axis=1)\n",
    "y = blitz[\"i_won\"]\n",
    "\n",
    "XRapid_test = rapid.drop(\"i_won\",axis=1)\n",
    "yRapid_test = rapid[\"i_won\"]\n",
    "\n",
    "X_train, X_test, y_train, y_test = train_test_split(X, y, random_state = 0)  "
   ]
  },
  {
   "cell_type": "markdown",
   "id": "2c476ffe",
   "metadata": {},
   "source": [
    "## column definiton\n",
    "\n",
    "* i_won - 0 -> I lost, 1-Draw, 2-I_Won\n",
    "* my_color - 1 -> white , 0 -> black\n",
    "* gametime - duration of game in sec.\n",
    "* timepermove -> Gametime / movesperplayer\n",
    "* no opens - no specyfic opening typed played by me\n"
   ]
  },
  {
   "cell_type": "markdown",
   "id": "0d06fa92",
   "metadata": {},
   "source": [
    "# Models"
   ]
  },
  {
   "cell_type": "code",
   "execution_count": 38,
   "id": "61079f4c",
   "metadata": {},
   "outputs": [],
   "source": [
    "from sklearn.neighbors import KNeighborsClassifier\n",
    "from sklearn.naive_bayes import GaussianNB\n",
    "from sklearn.model_selection import train_test_split\n",
    "from sklearn.metrics import accuracy_score\n",
    "from sklearn.ensemble import GradientBoostingClassifier\n",
    "from sklearn.naive_bayes import BernoulliNB\n",
    "from sklearn.metrics import classification_report\n",
    "from sklearn.model_selection import GridSearchCV\n",
    "from sklearn.metrics import confusion_matrix\n",
    "from xgboost import XGBClassifier\n",
    "from sklearn import tree, ensemble, naive_bayes, neighbors, semi_supervised, discriminant_analysis, svm, linear_model, neural_network"
   ]
  },
  {
   "cell_type": "markdown",
   "id": "fce5544f",
   "metadata": {},
   "source": [
    "Function to test different models to see what kind of models are important to test with parameters in future"
   ]
  },
  {
   "cell_type": "code",
   "execution_count": 45,
   "id": "e98f0eba",
   "metadata": {},
   "outputs": [],
   "source": [
    "def basic_models_test(X_train, X_test, y_train, y_test):\n",
    "    \"\"\"\n",
    "    Function to test some classifiers, without any parameters\n",
    "    \"\"\"\n",
    "    # chose models to test\n",
    "    models=[\n",
    "    naive_bayes.BernoulliNB(),\n",
    "    tree.DecisionTreeClassifier(),\n",
    "    tree.ExtraTreeClassifier(),\n",
    "    ensemble.ExtraTreesClassifier(),\n",
    "    naive_bayes.GaussianNB(),\n",
    "    semi_supervised.LabelPropagation(),\n",
    "    semi_supervised.LabelSpreading(),\n",
    "    discriminant_analysis.LinearDiscriminantAnalysis(),\n",
    "    svm.LinearSVC(multi_class=\"crammer_singer\"),\n",
    "    linear_model.LogisticRegression(multi_class=\"multinomial\", max_iter=1000),\n",
    "    linear_model.LogisticRegressionCV(multi_class=\"multinomial\", max_iter=1000),\n",
    "    neural_network.MLPClassifier(),\n",
    "    discriminant_analysis.QuadraticDiscriminantAnalysis(),\n",
    "    ensemble.RandomForestClassifier(),\n",
    "    linear_model.RidgeClassifier(),\n",
    "    linear_model.RidgeClassifierCV(),\n",
    "    ]\n",
    "    # create results dicts to fill in future\n",
    "    result = dict()\n",
    "    results2 = dict()\n",
    "    \n",
    "    for model in models:\n",
    "        # Fit and predict results for model\n",
    "        model.fit(X_train, y_train)\n",
    "        y_pred = model.predict(X_test)\n",
    "        # Calculate the evaluation metrics and save them to results\n",
    "        result[str(model)]= f\"f1_score: {round(f1_score(y_test, y_pred, average='weighted'), 4)}, precision_score: {round(precision_score(y_test, y_pred, average='weighted'), 4)}, accuracy_score: {round(accuracy_score(y_test, y_pred), 4)}\"\n",
    "    return result\n",
    "    \n",
    "    "
   ]
  },
  {
   "cell_type": "markdown",
   "id": "af84a7a6",
   "metadata": {},
   "source": [
    "Function to test a model with different Test/Train folds and also to test model on other speed"
   ]
  },
  {
   "cell_type": "code",
   "execution_count": 46,
   "id": "2035b7f1",
   "metadata": {},
   "outputs": [],
   "source": [
    "def model_test(model, X, y, X_test_F, y_test_F, n=5):\n",
    "    \"\"\" model <- model to test,\n",
    "        X, y <- X, y to train and test\n",
    "        X_test. y_test <- diff data for testing only\n",
    "        n <- num. of folds\n",
    "    \"\"\"\n",
    "    Train_res = list()\n",
    "    Test_res = list()\n",
    "    Final_test = list()\n",
    "    AVG = dict()\n",
    "    \n",
    "    for i in range(n):\n",
    "        # create a copy of model and chose a fold to test\n",
    "        test_model = model\n",
    "        X_train, X_test, y_train, y_test = train_test_split(X, y, random_state = i)\n",
    "        # fit and predict result with model\n",
    "        test_model.fit(X_train, y_train)\n",
    "        y_pred_test = test_model.predict(X_test)\n",
    "        y_pred_train = test_model.predict(X_train)\n",
    "        # save evaluation metrics of that fold\n",
    "        Train_res.append(f1_score(y_train, y_pred_train, average='weighted'))\n",
    "        Test_res.append(f1_score(y_test, y_pred_test, average='weighted'))\n",
    "    # same as in loop but only to train and test on chossen data\n",
    "    test_model = model\n",
    "    test_model.fit(X, y)\n",
    "    y_pred_F = test_model.predict(X_test_F)\n",
    "    Final_test.append(f1_score(y_test_F, y_pred_F, average='weighted'))   \n",
    "        \n",
    "    AVG[\"Train\"]=sum(Train_res)/n\n",
    "    AVG[\"Test\"]=sum(Test_res)/n\n",
    "    AVG[\"Test_Final\"]=sum(Final_test)\n",
    "    return AVG"
   ]
  },
  {
   "cell_type": "markdown",
   "id": "e57ab3c5",
   "metadata": {},
   "source": [
    "Function to plot a confusion matrix of predictions"
   ]
  },
  {
   "cell_type": "code",
   "execution_count": 47,
   "id": "a7a7dc8e",
   "metadata": {},
   "outputs": [],
   "source": [
    "def plot_confusion_matrix(y_true, y_pred, classes):\n",
    "    \"\"\"\n",
    "    y_true -> true value of predicted values\n",
    "    y_pred -> value estimated by model\n",
    "    classes -> names of predicted classes\n",
    "    \"\"\"\n",
    "    cm = confusion_matrix(y_true, y_pred)\n",
    "    tick_marks = np.arange(len(classes))\n",
    "    plt.figure(figsize=(8, 6))\n",
    "    sns.heatmap(cm, annot=True, cmap=\"Blues\", fmt=\"d\", xticklabels=classes, yticklabels=classes)\n",
    "    plt.xticks(tick_marks + 0.5, classes)\n",
    "    plt.yticks(tick_marks + 0.5, classes)\n",
    "    plt.xlabel('Predicted')\n",
    "    plt.ylabel('True')\n",
    "    plt.title('Confusion Matrix')\n",
    "    plt.show()"
   ]
  },
  {
   "cell_type": "code",
   "execution_count": 48,
   "id": "9cabcbed",
   "metadata": {
    "scrolled": true
   },
   "outputs": [
    {
     "name": "stderr",
     "output_type": "stream",
     "text": [
      "D:\\LichessData\\venv\\lib\\site-packages\\sklearn\\metrics\\_classification.py:1469: UndefinedMetricWarning: Precision is ill-defined and being set to 0.0 in labels with no predicted samples. Use `zero_division` parameter to control this behavior.\n",
      "  _warn_prf(average, modifier, msg_start, len(result))\n",
      "D:\\LichessData\\venv\\lib\\site-packages\\sklearn\\svm\\_classes.py:32: FutureWarning: The default value of `dual` will change from `True` to `'auto'` in 1.5. Set the value of `dual` explicitly to suppress the warning.\n",
      "  warnings.warn(\n",
      "D:\\LichessData\\venv\\lib\\site-packages\\sklearn\\svm\\_base.py:1242: ConvergenceWarning: Liblinear failed to converge, increase the number of iterations.\n",
      "  warnings.warn(\n",
      "D:\\LichessData\\venv\\lib\\site-packages\\sklearn\\metrics\\_classification.py:1469: UndefinedMetricWarning: Precision is ill-defined and being set to 0.0 in labels with no predicted samples. Use `zero_division` parameter to control this behavior.\n",
      "  _warn_prf(average, modifier, msg_start, len(result))\n",
      "D:\\LichessData\\venv\\lib\\site-packages\\sklearn\\neural_network\\_multilayer_perceptron.py:691: ConvergenceWarning: Stochastic Optimizer: Maximum iterations (200) reached and the optimization hasn't converged yet.\n",
      "  warnings.warn(\n",
      "D:\\LichessData\\venv\\lib\\site-packages\\sklearn\\discriminant_analysis.py:935: UserWarning: Variables are collinear\n",
      "  warnings.warn(\"Variables are collinear\")\n",
      "D:\\LichessData\\venv\\lib\\site-packages\\sklearn\\metrics\\_classification.py:1469: UndefinedMetricWarning: Precision is ill-defined and being set to 0.0 in labels with no predicted samples. Use `zero_division` parameter to control this behavior.\n",
      "  _warn_prf(average, modifier, msg_start, len(result))\n",
      "D:\\LichessData\\venv\\lib\\site-packages\\sklearn\\metrics\\_classification.py:1469: UndefinedMetricWarning: Precision is ill-defined and being set to 0.0 in labels with no predicted samples. Use `zero_division` parameter to control this behavior.\n",
      "  _warn_prf(average, modifier, msg_start, len(result))\n"
     ]
    },
    {
     "data": {
      "text/plain": [
       "{'BernoulliNB()': 'f1_score: 0.47, precision_score: 0.4592, accuracy_score: 0.4924',\n",
       " 'DecisionTreeClassifier()': 'f1_score: 0.4842, precision_score: 0.4825, accuracy_score: 0.4865',\n",
       " 'ExtraTreeClassifier()': 'f1_score: 0.4328, precision_score: 0.4324, accuracy_score: 0.4336',\n",
       " 'ExtraTreesClassifier()': 'f1_score: 0.4834, precision_score: 0.4819, accuracy_score: 0.4947',\n",
       " 'GaussianNB()': 'f1_score: 0.0916, precision_score: 0.5939, accuracy_score: 0.1011',\n",
       " 'LabelPropagation()': 'f1_score: 0.4684, precision_score: 0.466, accuracy_score: 0.4747',\n",
       " 'LabelSpreading()': 'f1_score: 0.4773, precision_score: 0.4752, accuracy_score: 0.4841',\n",
       " 'LinearDiscriminantAnalysis()': 'f1_score: 0.4912, precision_score: 0.4883, accuracy_score: 0.4959',\n",
       " \"LinearSVC(multi_class='crammer_singer')\": 'f1_score: 0.5064, precision_score: 0.4941, accuracy_score: 0.5264',\n",
       " \"LogisticRegression(max_iter=1000, multi_class='multinomial')\": 'f1_score: 0.5024, precision_score: 0.4962, accuracy_score: 0.5159',\n",
       " \"LogisticRegressionCV(max_iter=1000, multi_class='multinomial')\": 'f1_score: 0.5071, precision_score: 0.4933, accuracy_score: 0.5229',\n",
       " 'MLPClassifier()': 'f1_score: 0.4893, precision_score: 0.4854, accuracy_score: 0.4994',\n",
       " 'QuadraticDiscriminantAnalysis()': 'f1_score: 0.159, precision_score: 0.5891, accuracy_score: 0.141',\n",
       " 'RandomForestClassifier()': 'f1_score: 0.4872, precision_score: 0.4837, accuracy_score: 0.5006',\n",
       " 'RidgeClassifier()': 'f1_score: 0.5029, precision_score: 0.4882, accuracy_score: 0.5194',\n",
       " 'RidgeClassifierCV()': 'f1_score: 0.5118, precision_score: 0.497, accuracy_score: 0.5288'}"
      ]
     },
     "execution_count": 48,
     "metadata": {},
     "output_type": "execute_result"
    }
   ],
   "source": [
    "basic_models_test(X_train, X_test, y_train, y_test)"
   ]
  },
  {
   "cell_type": "markdown",
   "id": "ade7f8f6",
   "metadata": {},
   "source": [
    "Function to randomise search best models parameters"
   ]
  },
  {
   "cell_type": "code",
   "execution_count": 58,
   "id": "f424ba95",
   "metadata": {},
   "outputs": [],
   "source": [
    "classifiers = {\n",
    "    'XGBoost': {\n",
    "        'model': XGBClassifier(),\n",
    "        'param_dist': {\n",
    "            'max_depth': np.arange(5, 12),\n",
    "            'learning_rate': [0.1, 0.01],\n",
    "            'n_estimators': [100],\n",
    "            'gamma': [0, 3, 5, 7],\n",
    "            'subsample': [0.8, 1.0],\n",
    "            'colsample_bytree': [0.8, 1.0]\n",
    "        }\n",
    "    },\n",
    "    'Random Forest': {\n",
    "        'model': RandomForestClassifier(),\n",
    "        'param_dist': {\n",
    "            'n_estimators': [100],\n",
    "            'max_depth': np.arange(5, 12),\n",
    "            'min_samples_leaf': np.arange(2, 20, 2),\n",
    "            'min_samples_split': np.arange(2, 20, 2),\n",
    "            'max_features': ['sqrt', 'log2'],\n",
    "            'min_weight_fraction_leaf':[0, 0.04, 0.02]\n",
    "        }\n",
    "    },\n",
    "    'Logistic Regression': {\n",
    "        'model': LogisticRegression(max_iter=10000),\n",
    "        'param_dist': {\n",
    "            'C': [0.1, 1.0, 2],\n",
    "            'penalty': ['l2', None]\n",
    "        }\n",
    "    },\n",
    "    'Decision Tree': {\n",
    "        'model': DecisionTreeClassifier(),\n",
    "        'param_dist': {\n",
    "            'criterion': ['gini', 'entropy'],\n",
    "            'max_depth': [5, 10, 15],\n",
    "            'min_samples_leaf': [1, 5, 10],\n",
    "            'min_samples_split': [2, 5, 10],\n",
    "            'max_features': ['sqrt', 'log2']\n",
    "        }\n",
    "    }\n",
    "}"
   ]
  },
  {
   "cell_type": "code",
   "execution_count": 59,
   "id": "29c5b6f1",
   "metadata": {},
   "outputs": [],
   "source": [
    "dataframes_names_str = [\"blitz\", \"bullet\", \"rapid\"]\n",
    "\n",
    "all_dataframes = [blitz, bullet, rapid]\n",
    "\n",
    "def model_for_different_gamemodes_extended():\n",
    "    final_results = {}\n",
    "    for dataframe, dataframe_name in zip(all_dataframes, dataframes_names_str):\n",
    "        \n",
    "        X = dataframe.drop(\"i_won\", axis=1)\n",
    "        y = dataframe['i_won']\n",
    "\n",
    "        X_train, X_test, y_train, y_test = train_test_split(X, y, random_state = 0)  \n",
    "        \n",
    "        final_results[dataframe_name] = {}\n",
    "        \n",
    "        print(f\"Dataframe: \", dataframe_name, \" is on modeling!\")\n",
    "        \n",
    "        for model_name, model_features in classifiers.items():\n",
    "            \n",
    "            model = model_features['model']\n",
    "\n",
    "            param_dist = model_features['param_dist']\n",
    "            \n",
    "            random_search = RandomizedSearchCV(model, param_distributions=param_dist, cv=5, n_iter=50, error_score='raise')\n",
    "\n",
    "            random_search.fit(X_train, y_train)\n",
    "\n",
    "            best_model = random_search.best_estimator_\n",
    "\n",
    "            best_model.fit(X_train, y_train)\n",
    "\n",
    "            y_pred_train = best_model.predict(X_train)\n",
    "            y_pred = best_model.predict(X_test)\n",
    "            \n",
    "            final_results[dataframe_name][model_name] = {}\n",
    "\n",
    "            # evaluation metrics\n",
    "            final_results[dataframe_name][model_name][\"Best Estimators\"] = random_search.best_params_\n",
    "            final_results[dataframe_name][model_name][\"Trainging Set metics\"] = {}\n",
    "            final_results[dataframe_name][model_name][\"Trainging Set metics\"]['f1_score'] = f1_score(y_train, y_pred_train, average='weighted', zero_division=1)\n",
    "            final_results[dataframe_name][model_name][\"Trainging Set metics\"]['precision_score'] = precision_score(y_train, y_pred_train, average='weighted', zero_division=1)\n",
    "            final_results[dataframe_name][model_name][\"Trainging Set metics\"]['accuracy_score'] = accuracy_score(y_train, y_pred_train)\n",
    "\n",
    "            final_results[dataframe_name][model_name][\"Test Set metics\"] = {}\n",
    "            final_results[dataframe_name][model_name][\"Test Set metics\"]['f1_score'] = f1_score(y_test, y_pred, average='weighted', zero_division=1)\n",
    "            final_results[dataframe_name][model_name][\"Test Set metics\"]['precision_score'] = precision_score(y_test, y_pred, average='weighted', zero_division=1)\n",
    "            final_results[dataframe_name][model_name][\"Test Set metics\"]['accuracy_score'] = accuracy_score(y_test, y_pred)      \n",
    "    return final_results"
   ]
  },
  {
   "cell_type": "code",
   "execution_count": 60,
   "id": "e0def945",
   "metadata": {},
   "outputs": [
    {
     "name": "stdout",
     "output_type": "stream",
     "text": [
      "Dataframe:  blitz  is on modeling!\n"
     ]
    },
    {
     "name": "stderr",
     "output_type": "stream",
     "text": [
      "D:\\LichessData\\venv\\lib\\site-packages\\sklearn\\model_selection\\_search.py:307: UserWarning: The total space of parameters 6 is smaller than n_iter=50. Running 6 iterations. For exhaustive searches, use GridSearchCV.\n",
      "  warnings.warn(\n",
      "D:\\LichessData\\venv\\lib\\site-packages\\sklearn\\linear_model\\_logistic.py:1192: UserWarning: Setting penalty=None will ignore the C and l1_ratio parameters\n",
      "  warnings.warn(\n",
      "D:\\LichessData\\venv\\lib\\site-packages\\sklearn\\linear_model\\_logistic.py:1192: UserWarning: Setting penalty=None will ignore the C and l1_ratio parameters\n",
      "  warnings.warn(\n",
      "D:\\LichessData\\venv\\lib\\site-packages\\sklearn\\linear_model\\_logistic.py:1192: UserWarning: Setting penalty=None will ignore the C and l1_ratio parameters\n",
      "  warnings.warn(\n",
      "D:\\LichessData\\venv\\lib\\site-packages\\sklearn\\linear_model\\_logistic.py:1192: UserWarning: Setting penalty=None will ignore the C and l1_ratio parameters\n",
      "  warnings.warn(\n",
      "D:\\LichessData\\venv\\lib\\site-packages\\sklearn\\linear_model\\_logistic.py:1192: UserWarning: Setting penalty=None will ignore the C and l1_ratio parameters\n",
      "  warnings.warn(\n",
      "D:\\LichessData\\venv\\lib\\site-packages\\sklearn\\linear_model\\_logistic.py:1192: UserWarning: Setting penalty=None will ignore the C and l1_ratio parameters\n",
      "  warnings.warn(\n",
      "D:\\LichessData\\venv\\lib\\site-packages\\sklearn\\linear_model\\_logistic.py:1192: UserWarning: Setting penalty=None will ignore the C and l1_ratio parameters\n",
      "  warnings.warn(\n",
      "D:\\LichessData\\venv\\lib\\site-packages\\sklearn\\linear_model\\_logistic.py:1192: UserWarning: Setting penalty=None will ignore the C and l1_ratio parameters\n",
      "  warnings.warn(\n",
      "D:\\LichessData\\venv\\lib\\site-packages\\sklearn\\linear_model\\_logistic.py:1192: UserWarning: Setting penalty=None will ignore the C and l1_ratio parameters\n",
      "  warnings.warn(\n",
      "D:\\LichessData\\venv\\lib\\site-packages\\sklearn\\linear_model\\_logistic.py:1192: UserWarning: Setting penalty=None will ignore the C and l1_ratio parameters\n",
      "  warnings.warn(\n"
     ]
    },
    {
     "name": "stdout",
     "output_type": "stream",
     "text": [
      "Dataframe:  bullet  is on modeling!\n"
     ]
    },
    {
     "name": "stderr",
     "output_type": "stream",
     "text": [
      "D:\\LichessData\\venv\\lib\\site-packages\\sklearn\\model_selection\\_search.py:307: UserWarning: The total space of parameters 6 is smaller than n_iter=50. Running 6 iterations. For exhaustive searches, use GridSearchCV.\n",
      "  warnings.warn(\n",
      "D:\\LichessData\\venv\\lib\\site-packages\\sklearn\\linear_model\\_logistic.py:1192: UserWarning: Setting penalty=None will ignore the C and l1_ratio parameters\n",
      "  warnings.warn(\n",
      "D:\\LichessData\\venv\\lib\\site-packages\\sklearn\\linear_model\\_logistic.py:1192: UserWarning: Setting penalty=None will ignore the C and l1_ratio parameters\n",
      "  warnings.warn(\n",
      "D:\\LichessData\\venv\\lib\\site-packages\\sklearn\\linear_model\\_logistic.py:1192: UserWarning: Setting penalty=None will ignore the C and l1_ratio parameters\n",
      "  warnings.warn(\n",
      "D:\\LichessData\\venv\\lib\\site-packages\\sklearn\\linear_model\\_logistic.py:1192: UserWarning: Setting penalty=None will ignore the C and l1_ratio parameters\n",
      "  warnings.warn(\n",
      "D:\\LichessData\\venv\\lib\\site-packages\\sklearn\\linear_model\\_logistic.py:1192: UserWarning: Setting penalty=None will ignore the C and l1_ratio parameters\n",
      "  warnings.warn(\n",
      "D:\\LichessData\\venv\\lib\\site-packages\\sklearn\\linear_model\\_logistic.py:1192: UserWarning: Setting penalty=None will ignore the C and l1_ratio parameters\n",
      "  warnings.warn(\n",
      "D:\\LichessData\\venv\\lib\\site-packages\\sklearn\\linear_model\\_logistic.py:1192: UserWarning: Setting penalty=None will ignore the C and l1_ratio parameters\n",
      "  warnings.warn(\n",
      "D:\\LichessData\\venv\\lib\\site-packages\\sklearn\\linear_model\\_logistic.py:1192: UserWarning: Setting penalty=None will ignore the C and l1_ratio parameters\n",
      "  warnings.warn(\n",
      "D:\\LichessData\\venv\\lib\\site-packages\\sklearn\\linear_model\\_logistic.py:1192: UserWarning: Setting penalty=None will ignore the C and l1_ratio parameters\n",
      "  warnings.warn(\n",
      "D:\\LichessData\\venv\\lib\\site-packages\\sklearn\\linear_model\\_logistic.py:1192: UserWarning: Setting penalty=None will ignore the C and l1_ratio parameters\n",
      "  warnings.warn(\n"
     ]
    },
    {
     "name": "stdout",
     "output_type": "stream",
     "text": [
      "Dataframe:  rapid  is on modeling!\n"
     ]
    },
    {
     "name": "stderr",
     "output_type": "stream",
     "text": [
      "D:\\LichessData\\venv\\lib\\site-packages\\sklearn\\model_selection\\_search.py:307: UserWarning: The total space of parameters 6 is smaller than n_iter=50. Running 6 iterations. For exhaustive searches, use GridSearchCV.\n",
      "  warnings.warn(\n",
      "D:\\LichessData\\venv\\lib\\site-packages\\sklearn\\linear_model\\_logistic.py:1192: UserWarning: Setting penalty=None will ignore the C and l1_ratio parameters\n",
      "  warnings.warn(\n",
      "D:\\LichessData\\venv\\lib\\site-packages\\sklearn\\linear_model\\_logistic.py:1192: UserWarning: Setting penalty=None will ignore the C and l1_ratio parameters\n",
      "  warnings.warn(\n",
      "D:\\LichessData\\venv\\lib\\site-packages\\sklearn\\linear_model\\_logistic.py:1192: UserWarning: Setting penalty=None will ignore the C and l1_ratio parameters\n",
      "  warnings.warn(\n",
      "D:\\LichessData\\venv\\lib\\site-packages\\sklearn\\linear_model\\_logistic.py:1192: UserWarning: Setting penalty=None will ignore the C and l1_ratio parameters\n",
      "  warnings.warn(\n",
      "D:\\LichessData\\venv\\lib\\site-packages\\sklearn\\linear_model\\_logistic.py:1192: UserWarning: Setting penalty=None will ignore the C and l1_ratio parameters\n",
      "  warnings.warn(\n",
      "D:\\LichessData\\venv\\lib\\site-packages\\sklearn\\linear_model\\_logistic.py:1192: UserWarning: Setting penalty=None will ignore the C and l1_ratio parameters\n",
      "  warnings.warn(\n",
      "D:\\LichessData\\venv\\lib\\site-packages\\sklearn\\linear_model\\_logistic.py:1192: UserWarning: Setting penalty=None will ignore the C and l1_ratio parameters\n",
      "  warnings.warn(\n",
      "D:\\LichessData\\venv\\lib\\site-packages\\sklearn\\linear_model\\_logistic.py:1192: UserWarning: Setting penalty=None will ignore the C and l1_ratio parameters\n",
      "  warnings.warn(\n",
      "D:\\LichessData\\venv\\lib\\site-packages\\sklearn\\linear_model\\_logistic.py:1192: UserWarning: Setting penalty=None will ignore the C and l1_ratio parameters\n",
      "  warnings.warn(\n",
      "D:\\LichessData\\venv\\lib\\site-packages\\sklearn\\linear_model\\_logistic.py:1192: UserWarning: Setting penalty=None will ignore the C and l1_ratio parameters\n",
      "  warnings.warn(\n"
     ]
    },
    {
     "name": "stdout",
     "output_type": "stream",
     "text": [
      "{'blitz': {'Decision Tree': {'Best Estimators': {'criterion': 'gini',\n",
      "                                                 'max_depth': 10,\n",
      "                                                 'max_features': 'sqrt',\n",
      "                                                 'min_samples_leaf': 10,\n",
      "                                                 'min_samples_split': 10},\n",
      "                             'Test Set metics': {'accuracy_score': 0.5123384253819037,\n",
      "                                                 'f1_score': 0.49395811834621484,\n",
      "                                                 'precision_score': 0.49998176835366653},\n",
      "                             'Trainging Set metics': {'accuracy_score': 0.5962367698941592,\n",
      "                                                      'f1_score': 0.5774426686935649,\n",
      "                                                      'precision_score': 0.6057370152555969}},\n",
      "           'Logistic Regression': {'Best Estimators': {'C': 0.1,\n",
      "                                                       'penalty': 'l2'},\n",
      "                                   'Test Set metics': {'accuracy_score': 0.5299647473560517,\n",
      "                                                       'f1_score': 0.5130370169789051,\n",
      "                                                       'precision_score': 0.5568524814049111},\n",
      "                                   'Trainging Set metics': {'accuracy_score': 0.5668365346922776,\n",
      "                                                            'f1_score': 0.5510064882303742,\n",
      "                                                            'precision_score': 0.5880386518961638}},\n",
      "           'Random Forest': {'Best Estimators': {'max_depth': 7,\n",
      "                                                 'max_features': 'log2',\n",
      "                                                 'min_samples_leaf': 2,\n",
      "                                                 'min_samples_split': 12,\n",
      "                                                 'min_weight_fraction_leaf': 0,\n",
      "                                                 'n_estimators': 100},\n",
      "                             'Test Set metics': {'accuracy_score': 0.5464159811985899,\n",
      "                                                 'f1_score': 0.5208600403581577,\n",
      "                                                 'precision_score': 0.5768993388120891},\n",
      "                             'Trainging Set metics': {'accuracy_score': 0.6174049392395139,\n",
      "                                                      'f1_score': 0.5945680535886813,\n",
      "                                                      'precision_score': 0.6504460241883276}},\n",
      "           'XGBoost': {'Best Estimators': {'colsample_bytree': 0.8,\n",
      "                                           'gamma': 5,\n",
      "                                           'learning_rate': 0.1,\n",
      "                                           'max_depth': 8,\n",
      "                                           'n_estimators': 100,\n",
      "                                           'subsample': 1.0},\n",
      "                       'Test Set metics': {'accuracy_score': 0.5440658049353702,\n",
      "                                           'f1_score': 0.583636191090143,\n",
      "                                           'precision_score': 0.5135057650489531},\n",
      "                       'Trainging Set metics': {'accuracy_score': 0.595452763622109,\n",
      "                                                'f1_score': 0.5773199975045866,\n",
      "                                                'precision_score': 0.6203790571903725}}},\n",
      " 'bullet': {'Decision Tree': {'Best Estimators': {'criterion': 'gini',\n",
      "                                                  'max_depth': 10,\n",
      "                                                  'max_features': 'sqrt',\n",
      "                                                  'min_samples_leaf': 10,\n",
      "                                                  'min_samples_split': 2},\n",
      "                              'Test Set metics': {'accuracy_score': 0.51440329218107,\n",
      "                                                  'f1_score': 0.5059924128576757,\n",
      "                                                  'precision_score': 0.5318849164516464},\n",
      "                              'Trainging Set metics': {'accuracy_score': 0.6268861454046639,\n",
      "                                                       'f1_score': 0.6166009773251165,\n",
      "                                                       'precision_score': 0.6450235831312038}},\n",
      "            'Logistic Regression': {'Best Estimators': {'C': 0.1,\n",
      "                                                        'penalty': 'l2'},\n",
      "                                    'Test Set metics': {'accuracy_score': 0.5679012345679012,\n",
      "                                                        'f1_score': 0.5465217565275738,\n",
      "                                                        'precision_score': 0.5852476949523363},\n",
      "                                    'Trainging Set metics': {'accuracy_score': 0.6090534979423868,\n",
      "                                                             'f1_score': 0.583185062782381,\n",
      "                                                             'precision_score': 0.6261078149791508}},\n",
      "            'Random Forest': {'Best Estimators': {'max_depth': 10,\n",
      "                                                  'max_features': 'sqrt',\n",
      "                                                  'min_samples_leaf': 2,\n",
      "                                                  'min_samples_split': 4,\n",
      "                                                  'min_weight_fraction_leaf': 0.02,\n",
      "                                                  'n_estimators': 100},\n",
      "                              'Test Set metics': {'accuracy_score': 0.5473251028806584,\n",
      "                                                  'f1_score': 0.5076184998183172,\n",
      "                                                  'precision_score': 0.5718976852725202},\n",
      "                              'Trainging Set metics': {'accuracy_score': 0.710562414266118,\n",
      "                                                       'f1_score': 0.6848237135449481,\n",
      "                                                       'precision_score': 0.7496310675864833}},\n",
      "            'XGBoost': {'Best Estimators': {'colsample_bytree': 0.8,\n",
      "                                            'gamma': 3,\n",
      "                                            'learning_rate': 0.1,\n",
      "                                            'max_depth': 5,\n",
      "                                            'n_estimators': 100,\n",
      "                                            'subsample': 0.8},\n",
      "                        'Test Set metics': {'accuracy_score': 0.5308641975308642,\n",
      "                                            'f1_score': 0.5142456385649652,\n",
      "                                            'precision_score': 0.5459288003987877},\n",
      "                        'Trainging Set metics': {'accuracy_score': 0.7242798353909465,\n",
      "                                                 'f1_score': 0.7088308943497241,\n",
      "                                                 'precision_score': 0.7395211680057401}}},\n",
      " 'rapid': {'Decision Tree': {'Best Estimators': {'criterion': 'gini',\n",
      "                                                 'max_depth': 10,\n",
      "                                                 'max_features': 'log2',\n",
      "                                                 'min_samples_leaf': 10,\n",
      "                                                 'min_samples_split': 10},\n",
      "                             'Test Set metics': {'accuracy_score': 0.5357142857142857,\n",
      "                                                 'f1_score': 0.48093820861678016,\n",
      "                                                 'precision_score': 0.5458422174840086},\n",
      "                             'Trainging Set metics': {'accuracy_score': 0.6653386454183267,\n",
      "                                                      'f1_score': 0.633350690449953,\n",
      "                                                      'precision_score': 0.6964799699507057}},\n",
      "           'Logistic Regression': {'Best Estimators': {'C': 0.1,\n",
      "                                                       'penalty': 'l2'},\n",
      "                                   'Test Set metics': {'accuracy_score': 0.6071428571428571,\n",
      "                                                       'f1_score': 0.5683261183261183,\n",
      "                                                       'precision_score': 0.6332199546485261},\n",
      "                                   'Trainging Set metics': {'accuracy_score': 0.6294820717131474,\n",
      "                                                            'f1_score': 0.5962273340668346,\n",
      "                                                            'precision_score': 0.6477785149307859}},\n",
      "           'Random Forest': {'Best Estimators': {'max_depth': 6,\n",
      "                                                 'max_features': 'sqrt',\n",
      "                                                 'min_samples_leaf': 14,\n",
      "                                                 'min_samples_split': 16,\n",
      "                                                 'min_weight_fraction_leaf': 0.04,\n",
      "                                                 'n_estimators': 100},\n",
      "                             'Test Set metics': {'accuracy_score': 0.5476190476190477,\n",
      "                                                 'f1_score': 0.4718904284121675,\n",
      "                                                 'precision_score': 0.5595238095238095},\n",
      "                             'Trainging Set metics': {'accuracy_score': 0.6693227091633466,\n",
      "                                                      'f1_score': 0.6301470301115454,\n",
      "                                                      'precision_score': 0.7224800535179952}},\n",
      "           'XGBoost': {'Best Estimators': {'colsample_bytree': 1.0,\n",
      "                                           'gamma': 5,\n",
      "                                           'learning_rate': 0.1,\n",
      "                                           'max_depth': 6,\n",
      "                                           'n_estimators': 100,\n",
      "                                           'subsample': 0.8},\n",
      "                       'Test Set metics': {'accuracy_score': 0.5476190476190477,\n",
      "                                           'f1_score': 0.48140959282263635,\n",
      "                                           'precision_score': 0.5603741496598639},\n",
      "                       'Trainging Set metics': {'accuracy_score': 0.6454183266932271,\n",
      "                                                'f1_score': 0.6161781342314113,\n",
      "                                                'precision_score': 0.6666302703624006}}}}\n"
     ]
    }
   ],
   "source": [
    "final_res = model_for_different_gamemodes_extended()\n",
    "pprint.pprint(final_res)"
   ]
  },
  {
   "cell_type": "markdown",
   "id": "4cf3e9f7",
   "metadata": {},
   "source": [
    "saving results"
   ]
  },
  {
   "cell_type": "code",
   "execution_count": 56,
   "id": "a3496991",
   "metadata": {},
   "outputs": [],
   "source": [
    "wyniki = pd.DataFrame.from_dict(final_res)\n",
    "zapis = 2\n",
    "wyniki.to_json(f\"../data/finalne_wyniki_{zapis}.json\")"
   ]
  },
  {
   "cell_type": "markdown",
   "id": "6c6209a7",
   "metadata": {},
   "source": [
    "Acording to the result of 'model_for_different_gamemodes_extended' function, best models are RandomForest, XGB and logistic regresion. In most of cases there is an overfiting, so there is posibilyty to find even better parameters"
   ]
  },
  {
   "cell_type": "markdown",
   "id": "ab413b9d",
   "metadata": {},
   "source": [
    "## testing best models of \"model_for_different_gamemodes_extended\" function"
   ]
  },
  {
   "cell_type": "markdown",
   "id": "e4c8e05a",
   "metadata": {},
   "source": [
    "## RandormForestClassifier"
   ]
  },
  {
   "cell_type": "code",
   "execution_count": 61,
   "id": "3fe75f34",
   "metadata": {
    "scrolled": false
   },
   "outputs": [
    {
     "data": {
      "text/html": [
       "<style>#sk-container-id-1 {color: black;}#sk-container-id-1 pre{padding: 0;}#sk-container-id-1 div.sk-toggleable {background-color: white;}#sk-container-id-1 label.sk-toggleable__label {cursor: pointer;display: block;width: 100%;margin-bottom: 0;padding: 0.3em;box-sizing: border-box;text-align: center;}#sk-container-id-1 label.sk-toggleable__label-arrow:before {content: \"▸\";float: left;margin-right: 0.25em;color: #696969;}#sk-container-id-1 label.sk-toggleable__label-arrow:hover:before {color: black;}#sk-container-id-1 div.sk-estimator:hover label.sk-toggleable__label-arrow:before {color: black;}#sk-container-id-1 div.sk-toggleable__content {max-height: 0;max-width: 0;overflow: hidden;text-align: left;background-color: #f0f8ff;}#sk-container-id-1 div.sk-toggleable__content pre {margin: 0.2em;color: black;border-radius: 0.25em;background-color: #f0f8ff;}#sk-container-id-1 input.sk-toggleable__control:checked~div.sk-toggleable__content {max-height: 200px;max-width: 100%;overflow: auto;}#sk-container-id-1 input.sk-toggleable__control:checked~label.sk-toggleable__label-arrow:before {content: \"▾\";}#sk-container-id-1 div.sk-estimator input.sk-toggleable__control:checked~label.sk-toggleable__label {background-color: #d4ebff;}#sk-container-id-1 div.sk-label input.sk-toggleable__control:checked~label.sk-toggleable__label {background-color: #d4ebff;}#sk-container-id-1 input.sk-hidden--visually {border: 0;clip: rect(1px 1px 1px 1px);clip: rect(1px, 1px, 1px, 1px);height: 1px;margin: -1px;overflow: hidden;padding: 0;position: absolute;width: 1px;}#sk-container-id-1 div.sk-estimator {font-family: monospace;background-color: #f0f8ff;border: 1px dotted black;border-radius: 0.25em;box-sizing: border-box;margin-bottom: 0.5em;}#sk-container-id-1 div.sk-estimator:hover {background-color: #d4ebff;}#sk-container-id-1 div.sk-parallel-item::after {content: \"\";width: 100%;border-bottom: 1px solid gray;flex-grow: 1;}#sk-container-id-1 div.sk-label:hover label.sk-toggleable__label {background-color: #d4ebff;}#sk-container-id-1 div.sk-serial::before {content: \"\";position: absolute;border-left: 1px solid gray;box-sizing: border-box;top: 0;bottom: 0;left: 50%;z-index: 0;}#sk-container-id-1 div.sk-serial {display: flex;flex-direction: column;align-items: center;background-color: white;padding-right: 0.2em;padding-left: 0.2em;position: relative;}#sk-container-id-1 div.sk-item {position: relative;z-index: 1;}#sk-container-id-1 div.sk-parallel {display: flex;align-items: stretch;justify-content: center;background-color: white;position: relative;}#sk-container-id-1 div.sk-item::before, #sk-container-id-1 div.sk-parallel-item::before {content: \"\";position: absolute;border-left: 1px solid gray;box-sizing: border-box;top: 0;bottom: 0;left: 50%;z-index: -1;}#sk-container-id-1 div.sk-parallel-item {display: flex;flex-direction: column;z-index: 1;position: relative;background-color: white;}#sk-container-id-1 div.sk-parallel-item:first-child::after {align-self: flex-end;width: 50%;}#sk-container-id-1 div.sk-parallel-item:last-child::after {align-self: flex-start;width: 50%;}#sk-container-id-1 div.sk-parallel-item:only-child::after {width: 0;}#sk-container-id-1 div.sk-dashed-wrapped {border: 1px dashed gray;margin: 0 0.4em 0.5em 0.4em;box-sizing: border-box;padding-bottom: 0.4em;background-color: white;}#sk-container-id-1 div.sk-label label {font-family: monospace;font-weight: bold;display: inline-block;line-height: 1.2em;}#sk-container-id-1 div.sk-label-container {text-align: center;}#sk-container-id-1 div.sk-container {/* jupyter's `normalize.less` sets `[hidden] { display: none; }` but bootstrap.min.css set `[hidden] { display: none !important; }` so we also need the `!important` here to be able to override the default hidden behavior on the sphinx rendered scikit-learn.org. See: https://github.com/scikit-learn/scikit-learn/issues/21755 */display: inline-block !important;position: relative;}#sk-container-id-1 div.sk-text-repr-fallback {display: none;}</style><div id=\"sk-container-id-1\" class=\"sk-top-container\"><div class=\"sk-text-repr-fallback\"><pre>RandomForestClassifier(max_depth=7, max_features=&#x27;log2&#x27;, min_samples_leaf=2,\n",
       "                       min_samples_split=12, min_weight_fraction_leaf=0)</pre><b>In a Jupyter environment, please rerun this cell to show the HTML representation or trust the notebook. <br />On GitHub, the HTML representation is unable to render, please try loading this page with nbviewer.org.</b></div><div class=\"sk-container\" hidden><div class=\"sk-item\"><div class=\"sk-estimator sk-toggleable\"><input class=\"sk-toggleable__control sk-hidden--visually\" id=\"sk-estimator-id-1\" type=\"checkbox\" checked><label for=\"sk-estimator-id-1\" class=\"sk-toggleable__label sk-toggleable__label-arrow\">RandomForestClassifier</label><div class=\"sk-toggleable__content\"><pre>RandomForestClassifier(max_depth=7, max_features=&#x27;log2&#x27;, min_samples_leaf=2,\n",
       "                       min_samples_split=12, min_weight_fraction_leaf=0)</pre></div></div></div></div></div>"
      ],
      "text/plain": [
       "RandomForestClassifier(max_depth=7, max_features='log2', min_samples_leaf=2,\n",
       "                       min_samples_split=12, min_weight_fraction_leaf=0)"
      ]
     },
     "execution_count": 61,
     "metadata": {},
     "output_type": "execute_result"
    }
   ],
   "source": [
    "RF_params = final_res[\"blitz\"]['Random Forest'][\"Best Estimators\"]\n",
    "RF = ensemble.RandomForestClassifier(**RF_params)\n",
    "RF.fit(X, y)"
   ]
  },
  {
   "cell_type": "code",
   "execution_count": 62,
   "id": "a066ac6e",
   "metadata": {
    "scrolled": true
   },
   "outputs": [
    {
     "data": {
      "text/plain": [
       "{'Train': 0.6017602313402358,\n",
       " 'Test': 0.5254561978588819,\n",
       " 'Test_Final': 0.5580503163694711}"
      ]
     },
     "execution_count": 62,
     "metadata": {},
     "output_type": "execute_result"
    }
   ],
   "source": [
    "model_test(RF, X, y, rapid.drop(\"i_won\", axis=1), rapid[\"i_won\"], n=5)"
   ]
  },
  {
   "cell_type": "code",
   "execution_count": 63,
   "id": "11b19791",
   "metadata": {},
   "outputs": [],
   "source": [
    "FE = pd.DataFrame(index = X.columns, data=RF.feature_importances_, columns=[\"ważność\"])"
   ]
  },
  {
   "cell_type": "markdown",
   "id": "9c157165",
   "metadata": {},
   "source": [
    "Feature importances by random forest"
   ]
  },
  {
   "cell_type": "code",
   "execution_count": 64,
   "id": "cc87b8db",
   "metadata": {},
   "outputs": [
    {
     "data": {
      "text/html": [
       "<div>\n",
       "<style scoped>\n",
       "    .dataframe tbody tr th:only-of-type {\n",
       "        vertical-align: middle;\n",
       "    }\n",
       "\n",
       "    .dataframe tbody tr th {\n",
       "        vertical-align: top;\n",
       "    }\n",
       "\n",
       "    .dataframe thead th {\n",
       "        text-align: right;\n",
       "    }\n",
       "</style>\n",
       "<table border=\"1\" class=\"dataframe\">\n",
       "  <thead>\n",
       "    <tr style=\"text-align: right;\">\n",
       "      <th></th>\n",
       "      <th>ważność</th>\n",
       "    </tr>\n",
       "  </thead>\n",
       "  <tbody>\n",
       "    <tr>\n",
       "      <th>White e4 d5 Nf3 dxe4</th>\n",
       "      <td>0.000370</td>\n",
       "    </tr>\n",
       "    <tr>\n",
       "      <th>White e4 e6 Nf3 d5</th>\n",
       "      <td>0.000677</td>\n",
       "    </tr>\n",
       "    <tr>\n",
       "      <th>White e4 e5 Nf3 Qf6</th>\n",
       "      <td>0.000930</td>\n",
       "    </tr>\n",
       "    <tr>\n",
       "      <th>Black e4 e5 Nc3 Nf6</th>\n",
       "      <td>0.001131</td>\n",
       "    </tr>\n",
       "    <tr>\n",
       "      <th>Black g3 e5 Bg2 Nf6</th>\n",
       "      <td>0.001179</td>\n",
       "    </tr>\n",
       "    <tr>\n",
       "      <th>Black d4 Nf6 Bf4 e6</th>\n",
       "      <td>0.001392</td>\n",
       "    </tr>\n",
       "    <tr>\n",
       "      <th>Black e4 e6 Bc4 d5</th>\n",
       "      <td>0.001451</td>\n",
       "    </tr>\n",
       "    <tr>\n",
       "      <th>Black e4 e5 Bc4 Nf6</th>\n",
       "      <td>0.001928</td>\n",
       "    </tr>\n",
       "    <tr>\n",
       "      <th>White e4 e5 Nf3 d5</th>\n",
       "      <td>0.002042</td>\n",
       "    </tr>\n",
       "    <tr>\n",
       "      <th>Black d4 Nf6 Nf3 e6</th>\n",
       "      <td>0.002385</td>\n",
       "    </tr>\n",
       "    <tr>\n",
       "      <th>White e4 g6 d4 Bg7</th>\n",
       "      <td>0.002667</td>\n",
       "    </tr>\n",
       "    <tr>\n",
       "      <th>Black e4 e5 f4 d5</th>\n",
       "      <td>0.002770</td>\n",
       "    </tr>\n",
       "    <tr>\n",
       "      <th>Black d4 d5 Nf3 Nf6</th>\n",
       "      <td>0.002910</td>\n",
       "    </tr>\n",
       "    <tr>\n",
       "      <th>Black e4 e6 Nf3 d5</th>\n",
       "      <td>0.003123</td>\n",
       "    </tr>\n",
       "    <tr>\n",
       "      <th>Black e4 e6 e5 c5</th>\n",
       "      <td>0.003190</td>\n",
       "    </tr>\n",
       "    <tr>\n",
       "      <th>Black e4 e5 f4 exf4</th>\n",
       "      <td>0.003735</td>\n",
       "    </tr>\n",
       "    <tr>\n",
       "      <th>Black d4 d5 Bf4 Nf6</th>\n",
       "      <td>0.003914</td>\n",
       "    </tr>\n",
       "    <tr>\n",
       "      <th>White e4 e5 Nf3 Nf6</th>\n",
       "      <td>0.004213</td>\n",
       "    </tr>\n",
       "    <tr>\n",
       "      <th>Black e4 e5 Nf3 Nf6</th>\n",
       "      <td>0.004244</td>\n",
       "    </tr>\n",
       "    <tr>\n",
       "      <th>Black e4 e6 Nc3 d5</th>\n",
       "      <td>0.004323</td>\n",
       "    </tr>\n",
       "    <tr>\n",
       "      <th>White e4 e5 Nc3 Nf6</th>\n",
       "      <td>0.004326</td>\n",
       "    </tr>\n",
       "    <tr>\n",
       "      <th>White e4 c5 Nf3 Nc6</th>\n",
       "      <td>0.004426</td>\n",
       "    </tr>\n",
       "    <tr>\n",
       "      <th>Black e4 e5 d4 exd4</th>\n",
       "      <td>0.004896</td>\n",
       "    </tr>\n",
       "    <tr>\n",
       "      <th>White e4 e5 Nf3 Nc6</th>\n",
       "      <td>0.004999</td>\n",
       "    </tr>\n",
       "    <tr>\n",
       "      <th>White e4 e5 Nc3 d6</th>\n",
       "      <td>0.005079</td>\n",
       "    </tr>\n",
       "    <tr>\n",
       "      <th>White e4 c6 Nf3 d5</th>\n",
       "      <td>0.005323</td>\n",
       "    </tr>\n",
       "    <tr>\n",
       "      <th>White e4 e5 Nf3 d6</th>\n",
       "      <td>0.005475</td>\n",
       "    </tr>\n",
       "    <tr>\n",
       "      <th>White e4 c5 Nf3 d6</th>\n",
       "      <td>0.005679</td>\n",
       "    </tr>\n",
       "    <tr>\n",
       "      <th>Black d4 d5 c4 c6</th>\n",
       "      <td>0.005826</td>\n",
       "    </tr>\n",
       "    <tr>\n",
       "      <th>Black e4 e5 Bc4 Nc6</th>\n",
       "      <td>0.005849</td>\n",
       "    </tr>\n",
       "    <tr>\n",
       "      <th>no opens</th>\n",
       "      <td>0.006271</td>\n",
       "    </tr>\n",
       "    <tr>\n",
       "      <th>White e4 d5 exd5 Nf6</th>\n",
       "      <td>0.006275</td>\n",
       "    </tr>\n",
       "    <tr>\n",
       "      <th>Black e4 e6 d4 d5</th>\n",
       "      <td>0.006368</td>\n",
       "    </tr>\n",
       "    <tr>\n",
       "      <th>White e4 d5 exd5 Qxd5</th>\n",
       "      <td>0.006654</td>\n",
       "    </tr>\n",
       "    <tr>\n",
       "      <th>White e4 e6 d4 d5</th>\n",
       "      <td>0.006786</td>\n",
       "    </tr>\n",
       "    <tr>\n",
       "      <th>my_queencastle</th>\n",
       "      <td>0.007519</td>\n",
       "    </tr>\n",
       "    <tr>\n",
       "      <th>White e4 e5 Nc3 Nc6</th>\n",
       "      <td>0.007718</td>\n",
       "    </tr>\n",
       "    <tr>\n",
       "      <th>my_color</th>\n",
       "      <td>0.007830</td>\n",
       "    </tr>\n",
       "    <tr>\n",
       "      <th>White e4 c6 d4 d5</th>\n",
       "      <td>0.008111</td>\n",
       "    </tr>\n",
       "    <tr>\n",
       "      <th>Black e4 e5 Nf3 Nc6</th>\n",
       "      <td>0.010208</td>\n",
       "    </tr>\n",
       "    <tr>\n",
       "      <th>White e4 e5 Nf3 Bc5</th>\n",
       "      <td>0.010409</td>\n",
       "    </tr>\n",
       "    <tr>\n",
       "      <th>enemy_queencastle</th>\n",
       "      <td>0.010540</td>\n",
       "    </tr>\n",
       "    <tr>\n",
       "      <th>enemy_kingcastle</th>\n",
       "      <td>0.012342</td>\n",
       "    </tr>\n",
       "    <tr>\n",
       "      <th>White e4 c5 Nf3 e6</th>\n",
       "      <td>0.015440</td>\n",
       "    </tr>\n",
       "    <tr>\n",
       "      <th>my_kingcastle</th>\n",
       "      <td>0.024580</td>\n",
       "    </tr>\n",
       "    <tr>\n",
       "      <th>Black d4 Nf6 c4 e6</th>\n",
       "      <td>0.024968</td>\n",
       "    </tr>\n",
       "    <tr>\n",
       "      <th>enemy_moves_before_castle</th>\n",
       "      <td>0.075503</td>\n",
       "    </tr>\n",
       "    <tr>\n",
       "      <th>my_moves_before_castle</th>\n",
       "      <td>0.078940</td>\n",
       "    </tr>\n",
       "    <tr>\n",
       "      <th>my_rank</th>\n",
       "      <td>0.080868</td>\n",
       "    </tr>\n",
       "    <tr>\n",
       "      <th>timepermove</th>\n",
       "      <td>0.085863</td>\n",
       "    </tr>\n",
       "    <tr>\n",
       "      <th>rank_difference</th>\n",
       "      <td>0.184313</td>\n",
       "    </tr>\n",
       "    <tr>\n",
       "      <th>movesperplayer</th>\n",
       "      <td>0.222040</td>\n",
       "    </tr>\n",
       "  </tbody>\n",
       "</table>\n",
       "</div>"
      ],
      "text/plain": [
       "                            ważność\n",
       "White e4 d5 Nf3 dxe4       0.000370\n",
       "White e4 e6 Nf3 d5         0.000677\n",
       "White e4 e5 Nf3 Qf6        0.000930\n",
       "Black e4 e5 Nc3 Nf6        0.001131\n",
       "Black g3 e5 Bg2 Nf6        0.001179\n",
       "Black d4 Nf6 Bf4 e6        0.001392\n",
       "Black e4 e6 Bc4 d5         0.001451\n",
       "Black e4 e5 Bc4 Nf6        0.001928\n",
       "White e4 e5 Nf3 d5         0.002042\n",
       "Black d4 Nf6 Nf3 e6        0.002385\n",
       "White e4 g6 d4 Bg7         0.002667\n",
       "Black e4 e5 f4 d5          0.002770\n",
       "Black d4 d5 Nf3 Nf6        0.002910\n",
       "Black e4 e6 Nf3 d5         0.003123\n",
       "Black e4 e6 e5 c5          0.003190\n",
       "Black e4 e5 f4 exf4        0.003735\n",
       "Black d4 d5 Bf4 Nf6        0.003914\n",
       "White e4 e5 Nf3 Nf6        0.004213\n",
       "Black e4 e5 Nf3 Nf6        0.004244\n",
       "Black e4 e6 Nc3 d5         0.004323\n",
       "White e4 e5 Nc3 Nf6        0.004326\n",
       "White e4 c5 Nf3 Nc6        0.004426\n",
       "Black e4 e5 d4 exd4        0.004896\n",
       "White e4 e5 Nf3 Nc6        0.004999\n",
       "White e4 e5 Nc3 d6         0.005079\n",
       "White e4 c6 Nf3 d5         0.005323\n",
       "White e4 e5 Nf3 d6         0.005475\n",
       "White e4 c5 Nf3 d6         0.005679\n",
       "Black d4 d5 c4 c6          0.005826\n",
       "Black e4 e5 Bc4 Nc6        0.005849\n",
       "no opens                   0.006271\n",
       "White e4 d5 exd5 Nf6       0.006275\n",
       "Black e4 e6 d4 d5          0.006368\n",
       "White e4 d5 exd5 Qxd5      0.006654\n",
       "White e4 e6 d4 d5          0.006786\n",
       "my_queencastle             0.007519\n",
       "White e4 e5 Nc3 Nc6        0.007718\n",
       "my_color                   0.007830\n",
       "White e4 c6 d4 d5          0.008111\n",
       "Black e4 e5 Nf3 Nc6        0.010208\n",
       "White e4 e5 Nf3 Bc5        0.010409\n",
       "enemy_queencastle          0.010540\n",
       "enemy_kingcastle           0.012342\n",
       "White e4 c5 Nf3 e6         0.015440\n",
       "my_kingcastle              0.024580\n",
       "Black d4 Nf6 c4 e6         0.024968\n",
       "enemy_moves_before_castle  0.075503\n",
       "my_moves_before_castle     0.078940\n",
       "my_rank                    0.080868\n",
       "timepermove                0.085863\n",
       "rank_difference            0.184313\n",
       "movesperplayer             0.222040"
      ]
     },
     "execution_count": 64,
     "metadata": {},
     "output_type": "execute_result"
    }
   ],
   "source": [
    "FE.sort_values(\"ważność\", reversed=True )"
   ]
  },
  {
   "cell_type": "markdown",
   "id": "b17b5a51",
   "metadata": {},
   "source": [
    "# XGBoost"
   ]
  },
  {
   "cell_type": "code",
   "execution_count": 91,
   "id": "74603ee2",
   "metadata": {},
   "outputs": [],
   "source": [
    "XGB_params1= final_res[\"blitz\"]['XGBoost'][\"Best Estimators\"]"
   ]
  },
  {
   "cell_type": "code",
   "execution_count": 72,
   "id": "fb1879bd",
   "metadata": {},
   "outputs": [
    {
     "data": {
      "image/png": "[encoded data removed]",
      "text/plain": [
       "<Figure size 800x600 with 2 Axes>"
      ]
     },
     "metadata": {},
     "output_type": "display_data"
    }
   ],
   "source": [
    "model_xgb = XGBClassifier(**XGB_params1)\n",
    "model_xgb.fit(X_train, y_train)\n",
    "y_pred = model_xgb.predict(X_test)\n",
    "plot_confusion_matrix(y_test, y_pred, [\"lose\",\"draw\",\"win\"])"
   ]
  },
  {
   "cell_type": "code",
   "execution_count": 73,
   "id": "32604931",
   "metadata": {},
   "outputs": [
    {
     "data": {
      "text/plain": [
       "{'Train': 0.5673733913351441,\n",
       " 'Test': 0.5334652705928536,\n",
       " 'Test_Final': 0.5760037024181419}"
      ]
     },
     "execution_count": 73,
     "metadata": {},
     "output_type": "execute_result"
    }
   ],
   "source": [
    "model_test(model_xgb, X, y, XRapid_test , yRapid_test , n=5)"
   ]
  },
  {
   "cell_type": "markdown",
   "id": "e001ba57",
   "metadata": {},
   "source": [
    "# LogisticRegression"
   ]
  },
  {
   "cell_type": "code",
   "execution_count": 75,
   "id": "6db727d4",
   "metadata": {
    "scrolled": true
   },
   "outputs": [
    {
     "data": {
      "text/plain": [
       "{'Train': 0.5526422752758156,\n",
       " 'Test': 0.5288431455624704,\n",
       " 'Test_Final': 0.5462225911856278}"
      ]
     },
     "execution_count": 75,
     "metadata": {},
     "output_type": "execute_result"
    }
   ],
   "source": [
    "LogisticRegression_params = final_res[\"blitz\"]['Logistic Regression'][\"Best Estimators\"]\n",
    "LR = linear_model.LogisticRegression(**LogisticRegression_params)\n",
    "model_test(LR, blitz.drop(\"i_won\",axis=1), blitz[\"i_won\"], bullet.drop(\"i_won\", axis=1), bullet[\"i_won\"], n=10)"
   ]
  },
  {
   "cell_type": "markdown",
   "id": "648f34c8",
   "metadata": {},
   "source": [
    "## Making final best model\n",
    "Final model would be XGB with extended gridsearch "
   ]
  },
  {
   "cell_type": "code",
   "execution_count": null,
   "id": "0b7b39d3",
   "metadata": {
    "scrolled": true
   },
   "outputs": [],
   "source": [
    "xgb_model = XGBClassifier()\n",
    "\n",
    "# Defining the hyperparameter grid we want to test\n",
    "param_grid = {\n",
    "    'n_estimators': [100],                     # number of trees in the model\n",
    "    'learning_rate': [0.01, 0.1],              # learning rate\n",
    "    'max_depth': [3, 5, 6, 7, 9, 12],          # maximum depth of a tree\n",
    "    'subsample': [0.7, 0.8, 1.0],              # subsample ratio of the training instances\n",
    "    'colsample_bytree': [0.8, 1.0],            # subsample ratio of features when constructing each tree\n",
    "    'gamma': [0, 0.1, 2, 5, 7],                # regularization parameter L1\n",
    "    'min_child_weight': [1, 3, 5]              # minimum sum of instance weight (hessian) in a child\n",
    "}\n",
    "# Creating the GridSearchCV object\n",
    "grid_search = GridSearchCV(estimator=xgb_model, param_grid=param_grid, scoring='f1_weighted', cv=4, verbose=10)\n",
    "\n",
    "# Starting the grid search process\n",
    "grid_result = grid_search.fit(X_train, y_train)"
   ]
  },
  {
   "cell_type": "code",
   "execution_count": 144,
   "id": "97bbd5ff",
   "metadata": {
    "scrolled": true
   },
   "outputs": [],
   "source": [
    "XGB_params = {'colsample_bytree': 0.8,\n",
    " 'gamma': 5,\n",
    " 'learning_rate': 0.1,\n",
    " 'max_depth': 6,\n",
    " 'min_child_weight': 5,\n",
    " 'n_estimators': 500,\n",
    " 'subsample': 0.8}"
   ]
  },
  {
   "cell_type": "code",
   "execution_count": 166,
   "id": "4ac71c6a",
   "metadata": {},
   "outputs": [
    {
     "data": {
      "text/plain": [
       "{'Train': 0.6036915053653662,\n",
       " 'Test': 0.5431262445918559,\n",
       " 'Test_Final': 0.5353984225532075}"
      ]
     },
     "execution_count": 166,
     "metadata": {},
     "output_type": "execute_result"
    }
   ],
   "source": [
    "Best_Model = XGBClassifier(**XGB_params)\n",
    "model_test(Best_Model, blitz.drop(\"i_won\",axis=1), blitz[\"i_won\"], bullet.drop(\"i_won\", axis=1), bullet[\"i_won\"], n=5)"
   ]
  },
  {
   "cell_type": "code",
   "execution_count": 169,
   "id": "fb55f92b",
   "metadata": {},
   "outputs": [
    {
     "data": {
      "image/png": "[encoded data removed]",
      "text/plain": [
       "<Figure size 800x600 with 2 Axes>"
      ]
     },
     "metadata": {},
     "output_type": "display_data"
    }
   ],
   "source": [
    "Best_Model.fit(X_train, y_train)\n",
    "y_pred = model_xgb.predict(X_test)\n",
    "plot_confusion_matrix(y_test, y_pred, [\"lose\",\"draw\",\"win\"])"
   ]
  },
  {
   "cell_type": "code",
   "execution_count": 154,
   "id": "a06e63f1",
   "metadata": {},
   "outputs": [
    {
     "data": {
      "image/png": "[encoded data removed]",
      "text/plain": [
       "<Figure size 640x480 with 1 Axes>"
      ]
     },
     "metadata": {},
     "output_type": "display_data"
    }
   ],
   "source": [
    "from xgboost import plot_importance\n",
    "plot_importance(Best_Model);"
   ]
  },
  {
   "cell_type": "markdown",
   "id": "8b0fcd63",
   "metadata": {},
   "source": [
    "# Some of the final conclusions"
   ]
  },
  {
   "cell_type": "markdown",
   "id": "8fcd71a1",
   "metadata": {},
   "source": [
    "Because of modeling i know the feature importances, for some of them i can have an impact,\n",
    "for example movesperplayer is most important feature, that means statisticly I won more games with some amount of moves then with other. Because of viasualisations in tableu I know that I won more games with more moves than with fewer moves. \n",
    "\n",
    "It means that i loses more quick games and that maight be coused by: \\ \n",
    "1) surrendering games in early stages \n",
    "2) Worse plaing early game than mid and late game \\\n",
    "For this case I should study more on how to play early game, and also I should learn more openings"
   ]
  },
  {
   "cell_type": "markdown",
   "id": "71dba3a4",
   "metadata": {},
   "source": [
    "On the other hand, for some of featurs i cant have an impact, and those dont give me hints, on what i should focus on"
   ]
  },
  {
   "cell_type": "markdown",
   "id": "45d34902",
   "metadata": {},
   "source": [
    "Other very important think is what opening should i improve or change in my plaing, for some of opening i lost more games than for other, and on those i should focus more while studing chess"
   ]
  },
  {
   "cell_type": "markdown",
   "id": "8f71bd6c",
   "metadata": {},
   "source": [
    "There is a lot more of conlusions that i have because of this project, if you want to know the rest of it or if you have any questions feel free to contact me:\n",
    "    mail: mikolajzaborowski2000@gmail.com\n",
    "    linedin: https://www.linkedin.com/in/mikolajzaborowski/"
   ]
  },
  {
   "cell_type": "markdown",
   "id": "65a69e6b",
   "metadata": {},
   "source": [
    "# Some basic NN"
   ]
  },
  {
   "cell_type": "code",
   "execution_count": 156,
   "id": "edc39eb4",
   "metadata": {},
   "outputs": [],
   "source": [
    "import tensorflow as tf\n",
    "from tensorflow import keras\n",
    "from tensorflow.keras.models import Sequential\n",
    "from tensorflow.keras.layers import Dense"
   ]
  },
  {
   "cell_type": "code",
   "execution_count": 157,
   "id": "87b08681",
   "metadata": {},
   "outputs": [],
   "source": [
    "X = blitz.drop(\"i_won\", axis=1)\n",
    "y = blitz[\"i_won\"]\n",
    "\n",
    "# scaler = MinMaxScaler()\n",
    "# X = scaler.fit_transform(X)\n",
    "# X_F = scaler.transform(X_F)\n",
    "\n",
    "X_train, X_test, y_train, y_test = train_test_split(X, y, random_state = 8)\n",
    "X_train = np.asarray(X_train).astype('float32')\n",
    "y_train = np.asarray(y_train).astype('float32')\n",
    "\n",
    "X_test = np.asarray(X_test).astype('float32')\n",
    "y_test = np.asarray(y_test).astype('float32')\n",
    "\n",
    "y_train = tf.keras.utils.to_categorical(y_train, num_classes=3)\n",
    "y_test = tf.keras.utils.to_categorical(y_test, num_classes=3)"
   ]
  },
  {
   "cell_type": "code",
   "execution_count": 158,
   "id": "53fd67cd",
   "metadata": {
    "scrolled": true
   },
   "outputs": [
    {
     "name": "stdout",
     "output_type": "stream",
     "text": [
      "Epoch 1/110\n",
      "40/40 [==============================] - 1s 8ms/step - loss: 0.8795 - accuracy: 0.4963 - val_loss: 0.8129 - val_accuracy: 0.5605\n",
      "Epoch 2/110\n",
      "40/40 [==============================] - 0s 4ms/step - loss: 0.8381 - accuracy: 0.5339 - val_loss: 0.8051 - val_accuracy: 0.5617\n",
      "Epoch 3/110\n",
      "40/40 [==============================] - 0s 3ms/step - loss: 0.8206 - accuracy: 0.5453 - val_loss: 0.7896 - val_accuracy: 0.5734\n",
      "Epoch 4/110\n",
      "40/40 [==============================] - 0s 3ms/step - loss: 0.7955 - accuracy: 0.5559 - val_loss: 0.8025 - val_accuracy: 0.5488\n",
      "Epoch 5/110\n",
      "40/40 [==============================] - 0s 3ms/step - loss: 0.7775 - accuracy: 0.5747 - val_loss: 0.8356 - val_accuracy: 0.5147\n",
      "Epoch 6/110\n",
      "40/40 [==============================] - 0s 3ms/step - loss: 0.7631 - accuracy: 0.5762 - val_loss: 0.8465 - val_accuracy: 0.5253\n",
      "Epoch 7/110\n",
      "40/40 [==============================] - 0s 6ms/step - loss: 0.7487 - accuracy: 0.5853 - val_loss: 0.8186 - val_accuracy: 0.5452\n",
      "Epoch 8/110\n",
      "40/40 [==============================] - 0s 4ms/step - loss: 0.7448 - accuracy: 0.5974 - val_loss: 0.8247 - val_accuracy: 0.5687\n",
      "Epoch 9/110\n",
      "40/40 [==============================] - 0s 4ms/step - loss: 0.7206 - accuracy: 0.6096 - val_loss: 0.8478 - val_accuracy: 0.5323\n",
      "Epoch 10/110\n",
      "40/40 [==============================] - 0s 3ms/step - loss: 0.7093 - accuracy: 0.6190 - val_loss: 0.8547 - val_accuracy: 0.5370\n",
      "Epoch 11/110\n",
      "40/40 [==============================] - 0s 4ms/step - loss: 0.6909 - accuracy: 0.6237 - val_loss: 0.8871 - val_accuracy: 0.5182\n",
      "Epoch 12/110\n",
      "40/40 [==============================] - 0s 4ms/step - loss: 0.6824 - accuracy: 0.6311 - val_loss: 0.8973 - val_accuracy: 0.5288\n",
      "Epoch 13/110\n",
      "40/40 [==============================] - 0s 3ms/step - loss: 0.6674 - accuracy: 0.6437 - val_loss: 0.9051 - val_accuracy: 0.5511\n",
      "Epoch 14/110\n",
      "40/40 [==============================] - 0s 3ms/step - loss: 0.6572 - accuracy: 0.6378 - val_loss: 0.9465 - val_accuracy: 0.5241\n",
      "Epoch 15/110\n",
      "40/40 [==============================] - 0s 3ms/step - loss: 0.6366 - accuracy: 0.6582 - val_loss: 0.9386 - val_accuracy: 0.5347\n",
      "Epoch 16/110\n",
      "40/40 [==============================] - 0s 5ms/step - loss: 0.6258 - accuracy: 0.6660 - val_loss: 0.9867 - val_accuracy: 0.5170\n",
      "Epoch 17/110\n",
      "40/40 [==============================] - 0s 4ms/step - loss: 0.6136 - accuracy: 0.6691 - val_loss: 1.0177 - val_accuracy: 0.5452\n",
      "Epoch 18/110\n",
      "40/40 [==============================] - 0s 3ms/step - loss: 0.6227 - accuracy: 0.6586 - val_loss: 0.9984 - val_accuracy: 0.5488\n",
      "Epoch 19/110\n",
      "40/40 [==============================] - 0s 4ms/step - loss: 0.5976 - accuracy: 0.6860 - val_loss: 1.0553 - val_accuracy: 0.5276\n",
      "Epoch 20/110\n",
      "40/40 [==============================] - 0s 3ms/step - loss: 0.5928 - accuracy: 0.6864 - val_loss: 1.0528 - val_accuracy: 0.5288\n",
      "Epoch 21/110\n",
      "40/40 [==============================] - 0s 3ms/step - loss: 0.5956 - accuracy: 0.6789 - val_loss: 1.0770 - val_accuracy: 0.5088\n",
      "Epoch 22/110\n",
      "40/40 [==============================] - 0s 3ms/step - loss: 0.5689 - accuracy: 0.6989 - val_loss: 1.1554 - val_accuracy: 0.5570\n",
      "Epoch 23/110\n",
      "40/40 [==============================] - 0s 3ms/step - loss: 0.5533 - accuracy: 0.7033 - val_loss: 1.2045 - val_accuracy: 0.5347\n",
      "Epoch 24/110\n",
      "40/40 [==============================] - 0s 3ms/step - loss: 0.5506 - accuracy: 0.7005 - val_loss: 1.1139 - val_accuracy: 0.5370\n",
      "Epoch 25/110\n",
      "40/40 [==============================] - 0s 3ms/step - loss: 0.5395 - accuracy: 0.7150 - val_loss: 1.2537 - val_accuracy: 0.5429\n",
      "Epoch 26/110\n",
      "40/40 [==============================] - 0s 3ms/step - loss: 0.5355 - accuracy: 0.7323 - val_loss: 1.1873 - val_accuracy: 0.5652\n",
      "Epoch 27/110\n",
      "40/40 [==============================] - 0s 3ms/step - loss: 0.5181 - accuracy: 0.7213 - val_loss: 1.2596 - val_accuracy: 0.5382\n",
      "Epoch 28/110\n",
      "40/40 [==============================] - 0s 3ms/step - loss: 0.5107 - accuracy: 0.7330 - val_loss: 1.2900 - val_accuracy: 0.5347\n",
      "Epoch 29/110\n",
      "40/40 [==============================] - 0s 3ms/step - loss: 0.4960 - accuracy: 0.7495 - val_loss: 1.3053 - val_accuracy: 0.5417\n",
      "Epoch 30/110\n",
      "40/40 [==============================] - 0s 3ms/step - loss: 0.4947 - accuracy: 0.7338 - val_loss: 1.4510 - val_accuracy: 0.5300\n",
      "Epoch 31/110\n",
      "40/40 [==============================] - 0s 3ms/step - loss: 0.4860 - accuracy: 0.7456 - val_loss: 1.4559 - val_accuracy: 0.5464\n",
      "Epoch 32/110\n",
      "40/40 [==============================] - 0s 3ms/step - loss: 0.4693 - accuracy: 0.7574 - val_loss: 1.5098 - val_accuracy: 0.5488\n",
      "Epoch 33/110\n",
      "40/40 [==============================] - 0s 3ms/step - loss: 0.4659 - accuracy: 0.7574 - val_loss: 1.6374 - val_accuracy: 0.5206\n",
      "Epoch 34/110\n",
      "40/40 [==============================] - 0s 4ms/step - loss: 0.4459 - accuracy: 0.7695 - val_loss: 1.6624 - val_accuracy: 0.5605\n",
      "Epoch 35/110\n",
      "40/40 [==============================] - 0s 3ms/step - loss: 0.4375 - accuracy: 0.7754 - val_loss: 1.7384 - val_accuracy: 0.5288\n",
      "Epoch 36/110\n",
      "40/40 [==============================] - 0s 3ms/step - loss: 0.4376 - accuracy: 0.7750 - val_loss: 1.7811 - val_accuracy: 0.5323\n",
      "Epoch 37/110\n",
      "40/40 [==============================] - 0s 3ms/step - loss: 0.4504 - accuracy: 0.7703 - val_loss: 1.7459 - val_accuracy: 0.5253\n",
      "Epoch 38/110\n",
      "40/40 [==============================] - 0s 3ms/step - loss: 0.4312 - accuracy: 0.7832 - val_loss: 1.7953 - val_accuracy: 0.5394\n",
      "Epoch 39/110\n",
      "40/40 [==============================] - 0s 3ms/step - loss: 0.4159 - accuracy: 0.7907 - val_loss: 1.8219 - val_accuracy: 0.5229\n",
      "Epoch 40/110\n",
      "40/40 [==============================] - 0s 3ms/step - loss: 0.4279 - accuracy: 0.7903 - val_loss: 1.7467 - val_accuracy: 0.5323\n",
      "Epoch 41/110\n",
      "40/40 [==============================] - 0s 3ms/step - loss: 0.4018 - accuracy: 0.8005 - val_loss: 1.8987 - val_accuracy: 0.5417\n",
      "Epoch 42/110\n",
      "40/40 [==============================] - 0s 3ms/step - loss: 0.3993 - accuracy: 0.8009 - val_loss: 1.8028 - val_accuracy: 0.5535\n",
      "Epoch 43/110\n",
      "40/40 [==============================] - 0s 3ms/step - loss: 0.3769 - accuracy: 0.8095 - val_loss: 2.0831 - val_accuracy: 0.5288\n",
      "Epoch 44/110\n",
      "40/40 [==============================] - 0s 3ms/step - loss: 0.3762 - accuracy: 0.8138 - val_loss: 2.0404 - val_accuracy: 0.5323\n",
      "Epoch 45/110\n",
      "40/40 [==============================] - 0s 3ms/step - loss: 0.4257 - accuracy: 0.7993 - val_loss: 1.9027 - val_accuracy: 0.5347\n",
      "Epoch 46/110\n",
      "40/40 [==============================] - 0s 3ms/step - loss: 0.4006 - accuracy: 0.8060 - val_loss: 1.9896 - val_accuracy: 0.5347\n",
      "Epoch 47/110\n",
      "40/40 [==============================] - 0s 3ms/step - loss: 0.3601 - accuracy: 0.8271 - val_loss: 2.0995 - val_accuracy: 0.5264\n",
      "Epoch 48/110\n",
      "40/40 [==============================] - 0s 3ms/step - loss: 0.3374 - accuracy: 0.8401 - val_loss: 2.2627 - val_accuracy: 0.5041\n",
      "Epoch 49/110\n",
      "40/40 [==============================] - 0s 4ms/step - loss: 0.3433 - accuracy: 0.8389 - val_loss: 2.1123 - val_accuracy: 0.5323\n",
      "Epoch 50/110\n",
      "40/40 [==============================] - 0s 3ms/step - loss: 0.3287 - accuracy: 0.8448 - val_loss: 2.3073 - val_accuracy: 0.5311\n",
      "Epoch 51/110\n",
      "40/40 [==============================] - 0s 3ms/step - loss: 0.3161 - accuracy: 0.8534 - val_loss: 2.3939 - val_accuracy: 0.5335\n",
      "Epoch 52/110\n",
      "40/40 [==============================] - 0s 5ms/step - loss: 0.3111 - accuracy: 0.8510 - val_loss: 2.4237 - val_accuracy: 0.5123\n",
      "Epoch 53/110\n",
      "40/40 [==============================] - 0s 3ms/step - loss: 0.3106 - accuracy: 0.8475 - val_loss: 2.4532 - val_accuracy: 0.5417\n",
      "Epoch 54/110\n",
      "40/40 [==============================] - 0s 3ms/step - loss: 0.3242 - accuracy: 0.8452 - val_loss: 2.6947 - val_accuracy: 0.5276\n",
      "Epoch 55/110\n",
      "40/40 [==============================] - 0s 3ms/step - loss: 0.3134 - accuracy: 0.8506 - val_loss: 2.6187 - val_accuracy: 0.5358\n",
      "Epoch 56/110\n",
      "40/40 [==============================] - 0s 3ms/step - loss: 0.3202 - accuracy: 0.8589 - val_loss: 2.5807 - val_accuracy: 0.5323\n",
      "Epoch 57/110\n",
      "40/40 [==============================] - 0s 3ms/step - loss: 0.3517 - accuracy: 0.8408 - val_loss: 2.3611 - val_accuracy: 0.5100\n",
      "Epoch 58/110\n",
      "40/40 [==============================] - 0s 3ms/step - loss: 0.3043 - accuracy: 0.8554 - val_loss: 2.5400 - val_accuracy: 0.5300\n"
     ]
    },
    {
     "name": "stdout",
     "output_type": "stream",
     "text": [
      "Epoch 59/110\n",
      "40/40 [==============================] - 0s 3ms/step - loss: 0.2854 - accuracy: 0.8644 - val_loss: 2.6944 - val_accuracy: 0.5229\n",
      "Epoch 60/110\n",
      "40/40 [==============================] - 0s 3ms/step - loss: 0.2545 - accuracy: 0.8871 - val_loss: 2.7100 - val_accuracy: 0.5323\n",
      "Epoch 61/110\n",
      "40/40 [==============================] - 0s 3ms/step - loss: 0.2729 - accuracy: 0.8753 - val_loss: 2.6308 - val_accuracy: 0.5206\n",
      "Epoch 62/110\n",
      "40/40 [==============================] - 0s 3ms/step - loss: 0.2605 - accuracy: 0.8671 - val_loss: 2.8894 - val_accuracy: 0.5206\n",
      "Epoch 63/110\n",
      "40/40 [==============================] - 0s 3ms/step - loss: 0.2431 - accuracy: 0.8804 - val_loss: 2.7865 - val_accuracy: 0.5135\n",
      "Epoch 64/110\n",
      "40/40 [==============================] - 0s 3ms/step - loss: 0.2463 - accuracy: 0.8859 - val_loss: 2.9306 - val_accuracy: 0.5088\n",
      "Epoch 65/110\n",
      "40/40 [==============================] - 0s 3ms/step - loss: 0.2743 - accuracy: 0.8789 - val_loss: 2.8849 - val_accuracy: 0.5417\n",
      "Epoch 66/110\n",
      "40/40 [==============================] - 0s 3ms/step - loss: 0.2737 - accuracy: 0.8738 - val_loss: 3.0471 - val_accuracy: 0.5288\n",
      "Epoch 67/110\n",
      "40/40 [==============================] - 0s 3ms/step - loss: 0.2734 - accuracy: 0.8691 - val_loss: 2.7775 - val_accuracy: 0.5429\n",
      "Epoch 68/110\n",
      "40/40 [==============================] - 0s 3ms/step - loss: 0.2474 - accuracy: 0.8895 - val_loss: 2.8702 - val_accuracy: 0.5206\n",
      "Epoch 69/110\n",
      "40/40 [==============================] - 0s 3ms/step - loss: 0.2626 - accuracy: 0.8875 - val_loss: 2.8884 - val_accuracy: 0.5370\n",
      "Epoch 70/110\n",
      "40/40 [==============================] - 0s 3ms/step - loss: 0.2191 - accuracy: 0.8957 - val_loss: 3.0283 - val_accuracy: 0.5135\n",
      "Epoch 71/110\n",
      "40/40 [==============================] - 0s 3ms/step - loss: 0.2179 - accuracy: 0.8953 - val_loss: 3.3227 - val_accuracy: 0.5382\n",
      "Epoch 72/110\n",
      "40/40 [==============================] - 0s 3ms/step - loss: 0.2106 - accuracy: 0.9071 - val_loss: 3.0323 - val_accuracy: 0.5253\n",
      "Epoch 73/110\n",
      "40/40 [==============================] - 0s 3ms/step - loss: 0.2186 - accuracy: 0.9040 - val_loss: 3.1926 - val_accuracy: 0.5405\n",
      "Epoch 74/110\n",
      "40/40 [==============================] - 0s 3ms/step - loss: 0.2370 - accuracy: 0.8840 - val_loss: 3.2729 - val_accuracy: 0.5370\n",
      "Epoch 75/110\n",
      "40/40 [==============================] - 0s 3ms/step - loss: 0.2367 - accuracy: 0.8926 - val_loss: 3.1176 - val_accuracy: 0.5311\n",
      "Epoch 76/110\n",
      "40/40 [==============================] - 0s 3ms/step - loss: 0.2324 - accuracy: 0.8930 - val_loss: 3.3787 - val_accuracy: 0.5311\n",
      "Epoch 77/110\n",
      "40/40 [==============================] - 0s 3ms/step - loss: 0.2847 - accuracy: 0.8832 - val_loss: 3.0723 - val_accuracy: 0.5135\n",
      "Epoch 78/110\n",
      "40/40 [==============================] - 0s 3ms/step - loss: 0.2100 - accuracy: 0.9071 - val_loss: 3.1541 - val_accuracy: 0.5276\n",
      "Epoch 79/110\n",
      "40/40 [==============================] - 0s 3ms/step - loss: 0.2013 - accuracy: 0.9036 - val_loss: 3.3662 - val_accuracy: 0.5405\n",
      "Epoch 80/110\n",
      "40/40 [==============================] - 0s 3ms/step - loss: 0.1950 - accuracy: 0.9110 - val_loss: 3.3753 - val_accuracy: 0.5382\n",
      "Epoch 81/110\n",
      "40/40 [==============================] - 0s 3ms/step - loss: 0.1651 - accuracy: 0.9236 - val_loss: 3.5719 - val_accuracy: 0.5394\n",
      "Epoch 82/110\n",
      "40/40 [==============================] - 0s 4ms/step - loss: 0.1562 - accuracy: 0.9318 - val_loss: 3.5109 - val_accuracy: 0.5370\n",
      "Epoch 83/110\n",
      "40/40 [==============================] - 0s 3ms/step - loss: 0.1675 - accuracy: 0.9267 - val_loss: 3.6470 - val_accuracy: 0.5206\n",
      "Epoch 84/110\n",
      "40/40 [==============================] - 0s 3ms/step - loss: 0.1569 - accuracy: 0.9267 - val_loss: 3.8730 - val_accuracy: 0.5394\n",
      "Epoch 85/110\n",
      "40/40 [==============================] - 0s 3ms/step - loss: 0.1481 - accuracy: 0.9294 - val_loss: 3.9440 - val_accuracy: 0.5394\n",
      "Epoch 86/110\n",
      "40/40 [==============================] - 0s 3ms/step - loss: 0.1387 - accuracy: 0.9420 - val_loss: 4.1765 - val_accuracy: 0.5112\n",
      "Epoch 87/110\n",
      "40/40 [==============================] - 0s 3ms/step - loss: 0.1339 - accuracy: 0.9424 - val_loss: 4.1229 - val_accuracy: 0.5123\n",
      "Epoch 88/110\n",
      "40/40 [==============================] - 0s 3ms/step - loss: 0.1330 - accuracy: 0.9451 - val_loss: 4.1786 - val_accuracy: 0.5452\n",
      "Epoch 89/110\n",
      "40/40 [==============================] - 0s 3ms/step - loss: 0.1309 - accuracy: 0.9459 - val_loss: 4.2343 - val_accuracy: 0.5253\n",
      "Epoch 90/110\n",
      "40/40 [==============================] - 0s 3ms/step - loss: 0.1378 - accuracy: 0.9392 - val_loss: 4.4873 - val_accuracy: 0.5300\n",
      "Epoch 91/110\n",
      "40/40 [==============================] - 0s 3ms/step - loss: 0.1448 - accuracy: 0.9357 - val_loss: 4.1279 - val_accuracy: 0.5112\n",
      "Epoch 92/110\n",
      "40/40 [==============================] - 0s 4ms/step - loss: 0.1908 - accuracy: 0.9232 - val_loss: 4.1770 - val_accuracy: 0.5441\n",
      "Epoch 93/110\n",
      "40/40 [==============================] - 0s 3ms/step - loss: 0.2369 - accuracy: 0.8949 - val_loss: 3.8294 - val_accuracy: 0.5370\n",
      "Epoch 94/110\n",
      "40/40 [==============================] - 0s 3ms/step - loss: 0.2597 - accuracy: 0.9016 - val_loss: 3.3813 - val_accuracy: 0.5370\n",
      "Epoch 95/110\n",
      "40/40 [==============================] - 0s 4ms/step - loss: 0.2263 - accuracy: 0.9145 - val_loss: 3.3358 - val_accuracy: 0.5394\n",
      "Epoch 96/110\n",
      "40/40 [==============================] - 0s 3ms/step - loss: 0.1608 - accuracy: 0.9334 - val_loss: 3.7603 - val_accuracy: 0.5253\n",
      "Epoch 97/110\n",
      "40/40 [==============================] - 0s 3ms/step - loss: 0.1324 - accuracy: 0.9483 - val_loss: 3.8890 - val_accuracy: 0.5335\n",
      "Epoch 98/110\n",
      "40/40 [==============================] - 0s 4ms/step - loss: 0.1324 - accuracy: 0.9471 - val_loss: 4.0279 - val_accuracy: 0.5323\n",
      "Epoch 99/110\n",
      "40/40 [==============================] - 0s 3ms/step - loss: 0.1178 - accuracy: 0.9486 - val_loss: 4.1241 - val_accuracy: 0.5229\n",
      "Epoch 100/110\n",
      "40/40 [==============================] - 0s 3ms/step - loss: 0.1347 - accuracy: 0.9416 - val_loss: 4.1821 - val_accuracy: 0.5311\n",
      "Epoch 101/110\n",
      "40/40 [==============================] - 0s 3ms/step - loss: 0.1314 - accuracy: 0.9412 - val_loss: 4.1804 - val_accuracy: 0.5417\n",
      "Epoch 102/110\n",
      "40/40 [==============================] - 0s 3ms/step - loss: 0.1131 - accuracy: 0.9518 - val_loss: 4.4670 - val_accuracy: 0.5441\n",
      "Epoch 103/110\n",
      "40/40 [==============================] - 0s 3ms/step - loss: 0.1103 - accuracy: 0.9518 - val_loss: 4.5898 - val_accuracy: 0.5382\n",
      "Epoch 104/110\n",
      "40/40 [==============================] - 0s 3ms/step - loss: 0.1188 - accuracy: 0.9498 - val_loss: 4.1980 - val_accuracy: 0.5464\n",
      "Epoch 105/110\n",
      "40/40 [==============================] - 0s 3ms/step - loss: 0.1084 - accuracy: 0.9549 - val_loss: 4.5982 - val_accuracy: 0.5370\n",
      "Epoch 106/110\n",
      "40/40 [==============================] - 0s 3ms/step - loss: 0.0936 - accuracy: 0.9608 - val_loss: 4.7309 - val_accuracy: 0.5511\n",
      "Epoch 107/110\n",
      "40/40 [==============================] - 0s 4ms/step - loss: 0.0996 - accuracy: 0.9600 - val_loss: 4.5836 - val_accuracy: 0.5335\n",
      "Epoch 108/110\n",
      "40/40 [==============================] - 0s 3ms/step - loss: 0.0948 - accuracy: 0.9635 - val_loss: 4.7822 - val_accuracy: 0.5511\n",
      "Epoch 109/110\n",
      "40/40 [==============================] - 0s 4ms/step - loss: 0.1035 - accuracy: 0.9565 - val_loss: 4.8640 - val_accuracy: 0.5253\n",
      "Epoch 110/110\n",
      "40/40 [==============================] - 0s 4ms/step - loss: 0.0927 - accuracy: 0.9643 - val_loss: 4.7462 - val_accuracy: 0.5382\n"
     ]
    },
    {
     "data": {
      "text/plain": [
       "<keras.src.callbacks.History at 0x27eb31828c0>"
      ]
     },
     "execution_count": 158,
     "metadata": {},
     "output_type": "execute_result"
    }
   ],
   "source": [
    "\n",
    "model = Sequential()\n",
    "model.add(Dense(128, activation='relu', input_shape=(X.shape[1],)))\n",
    "model.add(Dense(256, activation='relu'))\n",
    "model.add(Dense(512, activation='relu'))\n",
    "model.add(Dense(128, activation='relu'))\n",
    "model.add(Dense(3, activation='softmax'))\n",
    "model.compile(optimizer='adam', loss='categorical_crossentropy', metrics=['accuracy'])\n",
    "model.fit(X_train, y_train, epochs=110, batch_size=64, validation_data=(X_test, y_test))"
   ]
  },
  {
   "cell_type": "code",
   "execution_count": 160,
   "id": "a50e524e",
   "metadata": {
    "scrolled": false
   },
   "outputs": [
    {
     "name": "stdout",
     "output_type": "stream",
     "text": [
      "27/27 [==============================] - 0s 1ms/step\n"
     ]
    }
   ],
   "source": [
    "NN_pred = model.predict(X_test)\n",
    "y_pred_nn = np.argmax(NN_pred, axis=1)\n",
    "y_test = np.argmax(y_test, axis=1)"
   ]
  },
  {
   "cell_type": "code",
   "execution_count": 161,
   "id": "f3159fbd",
   "metadata": {},
   "outputs": [
    {
     "data": {
      "text/plain": [
       "0.5397034846310209"
      ]
     },
     "execution_count": 161,
     "metadata": {},
     "output_type": "execute_result"
    }
   ],
   "source": [
    "f1_score(y_test, y_pred_nn, average='weighted')"
   ]
  },
  {
   "cell_type": "code",
   "execution_count": 163,
   "id": "a1ef7025",
   "metadata": {},
   "outputs": [
    {
     "data": {
      "image/png": "[encoded data removed]",
      "text/plain": [
       "<Figure size 800x600 with 2 Axes>"
      ]
     },
     "metadata": {},
     "output_type": "display_data"
    }
   ],
   "source": [
    "plot_confusion_matrix(y_test, y_pred_nn, [\"lose\",\"draw\",\"win\"])"
   ]
  },
  {
   "cell_type": "markdown",
   "id": "a6aa062e",
   "metadata": {},
   "source": [
    "# data for visal"
   ]
  },
  {
   "cell_type": "code",
   "execution_count": 103,
   "id": "b7f6078d",
   "metadata": {
    "scrolled": true
   },
   "outputs": [
    {
     "data": {
      "text/html": [
       "<div>\n",
       "<style scoped>\n",
       "    .dataframe tbody tr th:only-of-type {\n",
       "        vertical-align: middle;\n",
       "    }\n",
       "\n",
       "    .dataframe tbody tr th {\n",
       "        vertical-align: top;\n",
       "    }\n",
       "\n",
       "    .dataframe thead th {\n",
       "        text-align: right;\n",
       "    }\n",
       "</style>\n",
       "<table border=\"1\" class=\"dataframe\">\n",
       "  <thead>\n",
       "    <tr style=\"text-align: right;\">\n",
       "      <th></th>\n",
       "      <th>id</th>\n",
       "      <th>rated</th>\n",
       "      <th>variant</th>\n",
       "      <th>speed</th>\n",
       "      <th>createdAt</th>\n",
       "      <th>lastMoveAt</th>\n",
       "      <th>status</th>\n",
       "      <th>winner</th>\n",
       "      <th>moves</th>\n",
       "      <th>clock</th>\n",
       "      <th>movesperplayer</th>\n",
       "      <th>white_player_name</th>\n",
       "      <th>white_ranking</th>\n",
       "      <th>black_player_name</th>\n",
       "      <th>black_ranking</th>\n",
       "      <th>Gametime</th>\n",
       "      <th>timepermove</th>\n",
       "      <th>white_moves</th>\n",
       "      <th>black_moves</th>\n",
       "      <th>my_kingcastle</th>\n",
       "      <th>my_queencastle</th>\n",
       "      <th>enemy_kingcastle</th>\n",
       "      <th>enemy_queencastle</th>\n",
       "      <th>my_color</th>\n",
       "      <th>White_moves_before_castle</th>\n",
       "      <th>Black_moves_before_castle</th>\n",
       "      <th>my_moves_before_castle</th>\n",
       "      <th>enemy_moves_before_castle</th>\n",
       "      <th>open4</th>\n",
       "      <th>opens1</th>\n",
       "      <th>my_rank</th>\n",
       "      <th>i_won</th>\n",
       "      <th>enemy_rank</th>\n",
       "      <th>rank_difference</th>\n",
       "      <th>is_higher</th>\n",
       "      <th>rank_after_game</th>\n",
       "      <th>my_rank_diff</th>\n",
       "    </tr>\n",
       "  </thead>\n",
       "  <tbody>\n",
       "    <tr>\n",
       "      <th>0</th>\n",
       "      <td>O83cQxfo</td>\n",
       "      <td>True</td>\n",
       "      <td>standard</td>\n",
       "      <td>blitz</td>\n",
       "      <td>2023-06-28 02:33:43.673000+02:00</td>\n",
       "      <td>2023-06-28 02:44:00.722000+02:00</td>\n",
       "      <td>outoftime</td>\n",
       "      <td>white</td>\n",
       "      <td>[e4, e5, Nf3, Nc6, Bc4, Nf6, d4, exd4, e5, d5,...</td>\n",
       "      <td>300</td>\n",
       "      <td>70</td>\n",
       "      <td>EvilSaintPL</td>\n",
       "      <td>1753</td>\n",
       "      <td>Leosammie</td>\n",
       "      <td>1735</td>\n",
       "      <td>617.0</td>\n",
       "      <td>8.8</td>\n",
       "      <td>[e4, Nf3, Bc4, d4, e5, exd6, O-O, Na3, Nb5, Nb...</td>\n",
       "      <td>[e5, Nc6, Nf6, exd4, d5, Qxd6, Be7, Bg4, Qd7, ...</td>\n",
       "      <td>1</td>\n",
       "      <td>0</td>\n",
       "      <td>0</td>\n",
       "      <td>0</td>\n",
       "      <td>1</td>\n",
       "      <td>6</td>\n",
       "      <td>71</td>\n",
       "      <td>0.06</td>\n",
       "      <td>1.0</td>\n",
       "      <td>e4 e5 Nf3 Nc6</td>\n",
       "      <td>White e4 e5 Nf3 Nc6</td>\n",
       "      <td>1753</td>\n",
       "      <td>1</td>\n",
       "      <td>1735</td>\n",
       "      <td>18</td>\n",
       "      <td>True</td>\n",
       "      <td>1753</td>\n",
       "      <td>0</td>\n",
       "    </tr>\n",
       "  </tbody>\n",
       "</table>\n",
       "</div>"
      ],
      "text/plain": [
       "         id  rated   variant  speed                         createdAt  \\\n",
       "0  O83cQxfo   True  standard  blitz  2023-06-28 02:33:43.673000+02:00   \n",
       "\n",
       "                         lastMoveAt     status winner  \\\n",
       "0  2023-06-28 02:44:00.722000+02:00  outoftime  white   \n",
       "\n",
       "                                               moves  clock  movesperplayer  \\\n",
       "0  [e4, e5, Nf3, Nc6, Bc4, Nf6, d4, exd4, e5, d5,...    300              70   \n",
       "\n",
       "  white_player_name  white_ranking black_player_name  black_ranking  Gametime  \\\n",
       "0       EvilSaintPL           1753         Leosammie           1735     617.0   \n",
       "\n",
       "   timepermove                                        white_moves  \\\n",
       "0          8.8  [e4, Nf3, Bc4, d4, e5, exd6, O-O, Na3, Nb5, Nb...   \n",
       "\n",
       "                                         black_moves  my_kingcastle  \\\n",
       "0  [e5, Nc6, Nf6, exd4, d5, Qxd6, Be7, Bg4, Qd7, ...              1   \n",
       "\n",
       "   my_queencastle  enemy_kingcastle  enemy_queencastle  my_color  \\\n",
       "0               0                 0                  0         1   \n",
       "\n",
       "   White_moves_before_castle  Black_moves_before_castle  \\\n",
       "0                          6                         71   \n",
       "\n",
       "   my_moves_before_castle  enemy_moves_before_castle          open4  \\\n",
       "0                    0.06                        1.0  e4 e5 Nf3 Nc6   \n",
       "\n",
       "                opens1  my_rank  i_won  enemy_rank  rank_difference  \\\n",
       "0  White e4 e5 Nf3 Nc6     1753      1        1735               18   \n",
       "\n",
       "   is_higher  rank_after_game  my_rank_diff  \n",
       "0       True             1753             0  "
      ]
     },
     "execution_count": 103,
     "metadata": {},
     "output_type": "execute_result"
    }
   ],
   "source": [
    "dfwiz.head(1)"
   ]
  },
  {
   "cell_type": "code",
   "execution_count": 104,
   "id": "ed02616f",
   "metadata": {},
   "outputs": [
    {
     "data": {
      "text/plain": [
       "array([ 1, -1,  0], dtype=int64)"
      ]
     },
     "execution_count": 104,
     "metadata": {},
     "output_type": "execute_result"
    }
   ],
   "source": [
    "dfwiz[\"i_won\"].unique()"
   ]
  },
  {
   "cell_type": "code",
   "execution_count": 105,
   "id": "63747089",
   "metadata": {},
   "outputs": [],
   "source": [
    "df.to_csv(\"../data/for_visaul3.csv\")"
   ]
  },
  {
   "cell_type": "markdown",
   "id": "d0fd58af",
   "metadata": {},
   "source": [
    "Thanks for Attention "
   ]
  }
 ],
 "metadata": {
  "kernelspec": {
   "display_name": "Python 3 (ipykernel)",
   "language": "python",
   "name": "python3"
  },
  "language_info": {
   "codemirror_mode": {
    "name": "ipython",
    "version": 3
   },
   "file_extension": ".py",
   "mimetype": "text/x-python",
   "name": "python",
   "nbconvert_exporter": "python",
   "pygments_lexer": "ipython3",
   "version": "3.10.4"
  }
 },
 "nbformat": 4,
 "nbformat_minor": 5
}
