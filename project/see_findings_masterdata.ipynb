{
 "cells": [
  {
   "cell_type": "code",
   "execution_count": 8,
   "id": "a92af1ea",
   "metadata": {},
   "outputs": [],
   "source": [
    "import json\n",
    "import pprint\n",
    "\n",
    "def read_json(path):\n",
    "    with open(path, \"r\") as f:\n",
    "        return json.load(f)\n",
    "\n",
    "def write_json(path, data):\n",
    "    with open(path, \"w\") as f:\n",
    "        f.dump(data, f)"
   ]
  },
  {
   "cell_type": "code",
   "execution_count": 9,
   "id": "766b7d3b",
   "metadata": {},
   "outputs": [],
   "source": [
    "findings = read_json(\"model_findings_raw/results_02.json\")"
   ]
  },
  {
   "cell_type": "code",
   "execution_count": 14,
   "id": "f91d15bf",
   "metadata": {},
   "outputs": [],
   "source": [
    "best_scores = {}\n",
    "    \n",
    "for dataset_name, results in findings.items():\n",
    "    best_scores[dataset_name] = {}\n",
    "    best_score = 0\n",
    "    best_model = \"\"\n",
    "    for model_name , score in results.items():\n",
    "        model_score = score[\"Test Set metics\"][\"f1_score\"]\n",
    "        if model_score > best_score:\n",
    "            best_score = model_score\n",
    "            best_model = model_name\n",
    "    best_scores[dataset_name][best_model] = best_score\n",
    "            "
   ]
  },
  {
   "cell_type": "code",
   "execution_count": 15,
   "id": "74ceee22",
   "metadata": {},
   "outputs": [
    {
     "name": "stdout",
     "output_type": "stream",
     "text": [
      "{'all_data': {'Decision Tree': 0.5498026648},\n",
      " 'blitz': {'Logistic Regression': 0.5874962551},\n",
      " 'blitz&bullet': {'KNN': 0.5495674404},\n",
      " 'bullet': {'Decision Tree': 0.582878024},\n",
      " 'classical': {'XGBoost': 0.445631529},\n",
      " 'rapid': {'Logistic Regression': 0.5664586223},\n",
      " 'rapid&classical': {'Decision Tree': 0.5271468206}}\n"
     ]
    }
   ],
   "source": [
    "pprint.pprint(best_scores)"
   ]
  },
  {
   "cell_type": "code",
   "execution_count": null,
   "id": "c884435e",
   "metadata": {},
   "outputs": [],
   "source": []
  }
 ],
 "metadata": {
  "kernelspec": {
   "display_name": "Python 3 (ipykernel)",
   "language": "python",
   "name": "python3"
  },
  "language_info": {
   "codemirror_mode": {
    "name": "ipython",
    "version": 3
   },
   "file_extension": ".py",
   "mimetype": "text/x-python",
   "name": "python",
   "nbconvert_exporter": "python",
   "pygments_lexer": "ipython3",
   "version": "3.11.2"
  }
 },
 "nbformat": 4,
 "nbformat_minor": 5
}
